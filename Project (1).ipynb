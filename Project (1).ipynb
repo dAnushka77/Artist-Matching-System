{
  "cells": [
    {
      "cell_type": "markdown",
      "source": [
        "## Connecting to individual servers"
      ],
      "metadata": {
        "nteract": {
          "transient": {
            "deleting": false
          }
        }
      }
    },
    {
      "cell_type": "code",
      "source": [
        "!pip install pyodbc sqlalchemy azure-identity"
      ],
      "outputs": [
        {
          "output_type": "stream",
          "name": "stdout",
          "text": "Requirement already satisfied: pyodbc in /anaconda/envs/azureml_py38/lib/python3.10/site-packages (5.2.0)\r\nRequirement already satisfied: sqlalchemy in /anaconda/envs/azureml_py38/lib/python3.10/site-packages (2.0.37)\r\nRequirement already satisfied: azure-identity in /anaconda/envs/azureml_py38/lib/python3.10/site-packages (1.17.1)\r\nRequirement already satisfied: greenlet!=0.4.17 in /anaconda/envs/azureml_py38/lib/python3.10/site-packages (from sqlalchemy) (3.1.1)\r\nRequirement already satisfied: typing-extensions>=4.6.0 in /anaconda/envs/azureml_py38/lib/python3.10/site-packages (from sqlalchemy) (4.12.2)\r\nRequirement already satisfied: msal>=1.24.0 in /anaconda/envs/azureml_py38/lib/python3.10/site-packages (from azure-identity) (1.30.0)\r\nRequirement already satisfied: msal-extensions>=0.3.0 in /anaconda/envs/azureml_py38/lib/python3.10/site-packages (from azure-identity) (1.2.0)\r\nRequirement already satisfied: cryptography>=2.5 in /anaconda/envs/azureml_py38/lib/python3.10/site-packages (from azure-identity) (38.0.4)\r\nRequirement already satisfied: azure-core>=1.23.0 in /anaconda/envs/azureml_py38/lib/python3.10/site-packages (from azure-identity) (1.30.2)\r\nRequirement already satisfied: six>=1.11.0 in /anaconda/envs/azureml_py38/lib/python3.10/site-packages (from azure-core>=1.23.0->azure-identity) (1.16.0)\r\nRequirement already satisfied: requests>=2.21.0 in /anaconda/envs/azureml_py38/lib/python3.10/site-packages (from azure-core>=1.23.0->azure-identity) (2.32.3)\r\nRequirement already satisfied: cffi>=1.12 in /anaconda/envs/azureml_py38/lib/python3.10/site-packages (from cryptography>=2.5->azure-identity) (1.16.0)\r\nRequirement already satisfied: PyJWT[crypto]<3,>=1.0.0 in /anaconda/envs/azureml_py38/lib/python3.10/site-packages (from msal>=1.24.0->azure-identity) (2.4.0)\r\nRequirement already satisfied: portalocker<3,>=1.4 in /anaconda/envs/azureml_py38/lib/python3.10/site-packages (from msal-extensions>=0.3.0->azure-identity) (2.10.1)\r\nRequirement already satisfied: pycparser in /anaconda/envs/azureml_py38/lib/python3.10/site-packages (from cffi>=1.12->cryptography>=2.5->azure-identity) (2.22)\r\nRequirement already satisfied: charset-normalizer<4,>=2 in /anaconda/envs/azureml_py38/lib/python3.10/site-packages (from requests>=2.21.0->azure-core>=1.23.0->azure-identity) (3.3.2)\r\nRequirement already satisfied: idna<4,>=2.5 in /anaconda/envs/azureml_py38/lib/python3.10/site-packages (from requests>=2.21.0->azure-core>=1.23.0->azure-identity) (3.7)\r\nRequirement already satisfied: urllib3<3,>=1.21.1 in /anaconda/envs/azureml_py38/lib/python3.10/site-packages (from requests>=2.21.0->azure-core>=1.23.0->azure-identity) (1.26.19)\r\nRequirement already satisfied: certifi>=2017.4.17 in /anaconda/envs/azureml_py38/lib/python3.10/site-packages (from requests>=2.21.0->azure-core>=1.23.0->azure-identity) (2024.8.30)\r\n"
        }
      ],
      "execution_count": 1,
      "metadata": {}
    },
    {
      "cell_type": "code",
      "source": [
        "import pyodbc\n",
        "from sqlalchemy import create_engine\n",
        "\n",
        "# Azure SQL Database details\n",
        "server = 'techentjan.database.windows.net'\n",
        "database = 'QAECECRM_jan'\n",
        "username = 'azureml_jothsna'\n",
        "password = 'S@iram1718'\n",
        "\n",
        "# Connection string\n",
        "connection_string = f\"DRIVER={{ODBC Driver 18 for SQL Server}};SERVER={server};DATABASE={database};UID={username};PWD={password};Encrypt=yes\"\n",
        "\n",
        "# Connect to Azure SQL Database\n",
        "try:\n",
        "    conn = pyodbc.connect(connection_string)\n",
        "    print(\"Connection successful!\")\n",
        "except Exception as e:\n",
        "    print(f\"Error: {e}\")"
      ],
      "outputs": [
        {
          "output_type": "stream",
          "name": "stdout",
          "text": "Connection successful!\n"
        }
      ],
      "execution_count": 2,
      "metadata": {
        "gather": {
          "logged": 1741052428648
        }
      }
    },
    {
      "cell_type": "code",
      "source": [
        "import pyodbc\n",
        "from sqlalchemy import create_engine\n",
        "\n",
        "# Azure SQL Database details\n",
        "server = 'techentjan.database.windows.net'\n",
        "database = 'QAECECRM_jan'\n",
        "username = 'azureml_anushka'\n",
        "password = 'AnuJan@Azure123'\n",
        "\n",
        "# Connection string\n",
        "connection_string = f\"DRIVER={{ODBC Driver 18 for SQL Server}};SERVER={server};DATABASE={database};UID={username};PWD={password};Encrypt=yes\"\n",
        "\n",
        "# Connect to Azure SQL Database\n",
        "try:\n",
        "    conn = pyodbc.connect(connection_string)\n",
        "    print(\"Connection successful!\")\n",
        "except Exception as e:\n",
        "    print(f\"Error: {e}\")"
      ],
      "outputs": [
        {
          "output_type": "stream",
          "name": "stdout",
          "text": "Connection successful!\n"
        }
      ],
      "execution_count": 3,
      "metadata": {
        "gather": {
          "logged": 1740887918072
        }
      }
    },
    {
      "cell_type": "markdown",
      "source": [
        "## Importing Libraries"
      ],
      "metadata": {
        "nteract": {
          "transient": {
            "deleting": false
          }
        }
      }
    },
    {
      "cell_type": "code",
      "source": [
        "import pandas as pd\n",
        "import numpy as np"
      ],
      "outputs": [],
      "execution_count": 3,
      "metadata": {
        "gather": {
          "logged": 1741052434453
        }
      }
    },
    {
      "cell_type": "markdown",
      "source": [
        "## Understanding DB Schema"
      ],
      "metadata": {
        "nteract": {
          "transient": {
            "deleting": false
          }
        }
      }
    },
    {
      "cell_type": "code",
      "source": [
        "query1 = \"SELECT PresenterId, AgentId, AccountName, OrganizationName, PresenterTypeId, MailingAddress1, MailingAddress2, MailingCity, MailingStateId, MailingZip, MailingCountryId, PhysicalAddress1, PhysicalAddress2, PhysicalCity, PhysicalStateId, PhysicalZip, PhysicalCountryId, PhysicalGeoLatitude, PhysicalGeoLongitude, Notes, IsActive, CreatedDate, CreatedById, UpdatedDate, UpdatedById, ArchiveDate, ParentPresenterId FROM [dbo].[Presenter]\"\n",
        "conn2 = pyodbc.connect(connection_string)\n",
        "df_presenter = pd.read_sql(query1, conn2)\n",
        "df_presenter.head()"
      ],
      "outputs": [
        {
          "output_type": "execute_result",
          "execution_count": 4,
          "data": {
            "text/plain": "   PresenterId  AgentId                  AccountName OrganizationName  \\\n0            0      281                          ASD             None   \n1            8      107  COLLEGE OF WILLIAM AND MARY    BETA THETA PI   \n2           32      443               WAKE SUPPLY CO             None   \n3           82      435            MARRIOTT/RICHMOND             None   \n4           85      253                    [Unknown]             None   \n\n   PresenterTypeId                               MailingAddress1  \\\n0               99                                          None   \n1               49                          700 UKROP WAY UNIT M   \n2                8  1700 JEFFREY ST                                \n3               99                                          None   \n4               99                                          None   \n\n             MailingAddress2   MailingCity  MailingStateId MailingZip  ...  \\\n0                       None          None             999       None  ...   \n1  COLLEGE OF WILLIAM & MARY  WILLIAMSBURG              46       None  ...   \n2                       None       RALEIGH              28      27610  ...   \n3                       None          None             999       None  ...   \n4                       None          None             999       None  ...   \n\n   PhysicalGeoLatitude PhysicalGeoLongitude  \\\n0                  NaN                  NaN   \n1              37.2458             -76.6970   \n2              35.7455             -78.5467   \n3                  NaN                  NaN   \n4                  NaN                  NaN   \n\n                                               Notes IsActive  CreatedDate  \\\n0  \\r\\n\\r\\n\\r\\n\\r\\nORTH CAROLINA\\r\\nORTH CAROLINA...    False   2016-11-10   \n1                                               None     True   2012-06-04   \n2                                               None    False   2003-12-30   \n3                                               None    False   2012-04-11   \n4                                               None    False   2009-06-12   \n\n  CreatedById             UpdatedDate  UpdatedById  ArchiveDate  \\\n0         281 2022-04-18 14:13:32.130        281.0         None   \n1         107                     NaT          NaN         None   \n2         443 2018-06-02 08:47:55.370     999999.0   2018-06-02   \n3         435 2018-06-02 08:47:55.370     999999.0   2018-06-02   \n4         253 2018-06-02 08:47:55.370     999999.0   2018-06-02   \n\n  ParentPresenterId  \n0                 0  \n1                 0  \n2                 0  \n3                 0  \n4                 0  \n\n[5 rows x 27 columns]",
            "text/html": "<div>\n<style scoped>\n    .dataframe tbody tr th:only-of-type {\n        vertical-align: middle;\n    }\n\n    .dataframe tbody tr th {\n        vertical-align: top;\n    }\n\n    .dataframe thead th {\n        text-align: right;\n    }\n</style>\n<table border=\"1\" class=\"dataframe\">\n  <thead>\n    <tr style=\"text-align: right;\">\n      <th></th>\n      <th>PresenterId</th>\n      <th>AgentId</th>\n      <th>AccountName</th>\n      <th>OrganizationName</th>\n      <th>PresenterTypeId</th>\n      <th>MailingAddress1</th>\n      <th>MailingAddress2</th>\n      <th>MailingCity</th>\n      <th>MailingStateId</th>\n      <th>MailingZip</th>\n      <th>...</th>\n      <th>PhysicalGeoLatitude</th>\n      <th>PhysicalGeoLongitude</th>\n      <th>Notes</th>\n      <th>IsActive</th>\n      <th>CreatedDate</th>\n      <th>CreatedById</th>\n      <th>UpdatedDate</th>\n      <th>UpdatedById</th>\n      <th>ArchiveDate</th>\n      <th>ParentPresenterId</th>\n    </tr>\n  </thead>\n  <tbody>\n    <tr>\n      <th>0</th>\n      <td>0</td>\n      <td>281</td>\n      <td>ASD</td>\n      <td>None</td>\n      <td>99</td>\n      <td>None</td>\n      <td>None</td>\n      <td>None</td>\n      <td>999</td>\n      <td>None</td>\n      <td>...</td>\n      <td>NaN</td>\n      <td>NaN</td>\n      <td>\\r\\n\\r\\n\\r\\n\\r\\nORTH CAROLINA\\r\\nORTH CAROLINA...</td>\n      <td>False</td>\n      <td>2016-11-10</td>\n      <td>281</td>\n      <td>2022-04-18 14:13:32.130</td>\n      <td>281.0</td>\n      <td>None</td>\n      <td>0</td>\n    </tr>\n    <tr>\n      <th>1</th>\n      <td>8</td>\n      <td>107</td>\n      <td>COLLEGE OF WILLIAM AND MARY</td>\n      <td>BETA THETA PI</td>\n      <td>49</td>\n      <td>700 UKROP WAY UNIT M</td>\n      <td>COLLEGE OF WILLIAM &amp; MARY</td>\n      <td>WILLIAMSBURG</td>\n      <td>46</td>\n      <td>None</td>\n      <td>...</td>\n      <td>37.2458</td>\n      <td>-76.6970</td>\n      <td>None</td>\n      <td>True</td>\n      <td>2012-06-04</td>\n      <td>107</td>\n      <td>NaT</td>\n      <td>NaN</td>\n      <td>None</td>\n      <td>0</td>\n    </tr>\n    <tr>\n      <th>2</th>\n      <td>32</td>\n      <td>443</td>\n      <td>WAKE SUPPLY CO</td>\n      <td>None</td>\n      <td>8</td>\n      <td>1700 JEFFREY ST</td>\n      <td>None</td>\n      <td>RALEIGH</td>\n      <td>28</td>\n      <td>27610</td>\n      <td>...</td>\n      <td>35.7455</td>\n      <td>-78.5467</td>\n      <td>None</td>\n      <td>False</td>\n      <td>2003-12-30</td>\n      <td>443</td>\n      <td>2018-06-02 08:47:55.370</td>\n      <td>999999.0</td>\n      <td>2018-06-02</td>\n      <td>0</td>\n    </tr>\n    <tr>\n      <th>3</th>\n      <td>82</td>\n      <td>435</td>\n      <td>MARRIOTT/RICHMOND</td>\n      <td>None</td>\n      <td>99</td>\n      <td>None</td>\n      <td>None</td>\n      <td>None</td>\n      <td>999</td>\n      <td>None</td>\n      <td>...</td>\n      <td>NaN</td>\n      <td>NaN</td>\n      <td>None</td>\n      <td>False</td>\n      <td>2012-04-11</td>\n      <td>435</td>\n      <td>2018-06-02 08:47:55.370</td>\n      <td>999999.0</td>\n      <td>2018-06-02</td>\n      <td>0</td>\n    </tr>\n    <tr>\n      <th>4</th>\n      <td>85</td>\n      <td>253</td>\n      <td>[Unknown]</td>\n      <td>None</td>\n      <td>99</td>\n      <td>None</td>\n      <td>None</td>\n      <td>None</td>\n      <td>999</td>\n      <td>None</td>\n      <td>...</td>\n      <td>NaN</td>\n      <td>NaN</td>\n      <td>None</td>\n      <td>False</td>\n      <td>2009-06-12</td>\n      <td>253</td>\n      <td>2018-06-02 08:47:55.370</td>\n      <td>999999.0</td>\n      <td>2018-06-02</td>\n      <td>0</td>\n    </tr>\n  </tbody>\n</table>\n<p>5 rows × 27 columns</p>\n</div>"
          },
          "metadata": {}
        }
      ],
      "execution_count": 4,
      "metadata": {
        "gather": {
          "logged": 1741052439009
        }
      }
    },
    {
      "cell_type": "code",
      "source": [
        "query2 = \"SELECT GenreTypeId, Name, IsActive FROM [dbo].LuGenreType\"\n",
        "df_genre = pd.read_sql(query2, conn)\n",
        "df_genre.head()\n"
      ],
      "outputs": [
        {
          "output_type": "execute_result",
          "execution_count": 5,
          "data": {
            "text/plain": "   GenreTypeId                     Name  IsActive\n0            1  A Cappella/Vocal Groups      True\n1            2                 Acrobats      True\n2            3                  African      True\n3            4       Animal/Circus Acts      True\n4            5             Audio Visual      True",
            "text/html": "<div>\n<style scoped>\n    .dataframe tbody tr th:only-of-type {\n        vertical-align: middle;\n    }\n\n    .dataframe tbody tr th {\n        vertical-align: top;\n    }\n\n    .dataframe thead th {\n        text-align: right;\n    }\n</style>\n<table border=\"1\" class=\"dataframe\">\n  <thead>\n    <tr style=\"text-align: right;\">\n      <th></th>\n      <th>GenreTypeId</th>\n      <th>Name</th>\n      <th>IsActive</th>\n    </tr>\n  </thead>\n  <tbody>\n    <tr>\n      <th>0</th>\n      <td>1</td>\n      <td>A Cappella/Vocal Groups</td>\n      <td>True</td>\n    </tr>\n    <tr>\n      <th>1</th>\n      <td>2</td>\n      <td>Acrobats</td>\n      <td>True</td>\n    </tr>\n    <tr>\n      <th>2</th>\n      <td>3</td>\n      <td>African</td>\n      <td>True</td>\n    </tr>\n    <tr>\n      <th>3</th>\n      <td>4</td>\n      <td>Animal/Circus Acts</td>\n      <td>True</td>\n    </tr>\n    <tr>\n      <th>4</th>\n      <td>5</td>\n      <td>Audio Visual</td>\n      <td>True</td>\n    </tr>\n  </tbody>\n</table>\n</div>"
          },
          "metadata": {}
        }
      ],
      "execution_count": 5,
      "metadata": {
        "gather": {
          "logged": 1741052446025
        }
      }
    },
    {
      "cell_type": "code",
      "source": [
        "query3 = \"\"\"\n",
        "SELECT \n",
        "    ArtistId,\n",
        "    Name,\n",
        "    MailingCountryId,\n",
        "    PhysicalAddressCity,\n",
        "    PhysicalAddressStateId,\n",
        "    PhysicalGeoLatitude,\n",
        "    PhysicalGeoLongitude,\n",
        "    IsActive,\n",
        "    IsExclusive,\n",
        "    ExclusiveStartDate,\n",
        "    NationalNetPriceLowerBound,\n",
        "    NationalNetPriceUpperBound,\n",
        "    NationalOneOffPrice,\n",
        "    CreatedDate,\n",
        "    UpdatedDate,\n",
        "    IsNational,\n",
        "    IsNotParticipating\n",
        "FROM Artist;\n",
        "\"\"\"\n",
        "\n",
        "# Execute the query and load data into a Pandas DataFrame\n",
        "artist_df = pd.read_sql(query3, conn)\n",
        "artist_df.head()"
      ],
      "outputs": [
        {
          "output_type": "execute_result",
          "execution_count": 6,
          "data": {
            "text/plain": "   ArtistId                 Name  MailingCountryId PhysicalAddressCity  \\\n0         2                    O               1.0            RICHMOND   \n1         3        GROOVE DELUXE               1.0           ROCK HILL   \n2         4  QUINTON PARKER BAND               1.0             ASHLAND   \n3         5  BILL BOLEN BAND (4)               1.0         CHAPEL HILL   \n4         6       88 KEYS WILSON               1.0     CHARLOTTESVILLE   \n\n   PhysicalAddressStateId  PhysicalGeoLatitude  PhysicalGeoLongitude  \\\n0                    46.0              37.5770              -77.5388   \n1                    41.0              34.8867              -81.0208   \n2                    46.0              37.7596              -77.4822   \n3                    28.0              35.9672              -79.0444   \n4                    46.0              38.0884              -78.5562   \n\n   IsActive  IsExclusive ExclusiveStartDate  NationalNetPriceLowerBound  \\\n0      True        False                NaT                         NaN   \n1      True        False                NaT                         NaN   \n2      True        False                NaT                         NaN   \n3      True        False                NaT                         NaN   \n4      True        False                NaT                         NaN   \n\n   NationalNetPriceUpperBound  NationalOneOffPrice             CreatedDate  \\\n0                         NaN                  NaN 2018-06-02 04:05:01.677   \n1                         NaN                  NaN 2018-06-02 04:05:01.677   \n2                         NaN                  NaN 2018-06-02 04:05:01.677   \n3                         NaN                  NaN 2018-06-02 04:05:01.683   \n4                         NaN                  NaN 2018-06-02 04:05:01.683   \n\n              UpdatedDate  IsNational  IsNotParticipating  \n0                     NaT       False               False  \n1                     NaT       False               False  \n2                     NaT       False               False  \n3 2018-09-19 15:21:38.730       False               False  \n4 2019-11-18 15:16:17.807       False               False  ",
            "text/html": "<div>\n<style scoped>\n    .dataframe tbody tr th:only-of-type {\n        vertical-align: middle;\n    }\n\n    .dataframe tbody tr th {\n        vertical-align: top;\n    }\n\n    .dataframe thead th {\n        text-align: right;\n    }\n</style>\n<table border=\"1\" class=\"dataframe\">\n  <thead>\n    <tr style=\"text-align: right;\">\n      <th></th>\n      <th>ArtistId</th>\n      <th>Name</th>\n      <th>MailingCountryId</th>\n      <th>PhysicalAddressCity</th>\n      <th>PhysicalAddressStateId</th>\n      <th>PhysicalGeoLatitude</th>\n      <th>PhysicalGeoLongitude</th>\n      <th>IsActive</th>\n      <th>IsExclusive</th>\n      <th>ExclusiveStartDate</th>\n      <th>NationalNetPriceLowerBound</th>\n      <th>NationalNetPriceUpperBound</th>\n      <th>NationalOneOffPrice</th>\n      <th>CreatedDate</th>\n      <th>UpdatedDate</th>\n      <th>IsNational</th>\n      <th>IsNotParticipating</th>\n    </tr>\n  </thead>\n  <tbody>\n    <tr>\n      <th>0</th>\n      <td>2</td>\n      <td>O</td>\n      <td>1.0</td>\n      <td>RICHMOND</td>\n      <td>46.0</td>\n      <td>37.5770</td>\n      <td>-77.5388</td>\n      <td>True</td>\n      <td>False</td>\n      <td>NaT</td>\n      <td>NaN</td>\n      <td>NaN</td>\n      <td>NaN</td>\n      <td>2018-06-02 04:05:01.677</td>\n      <td>NaT</td>\n      <td>False</td>\n      <td>False</td>\n    </tr>\n    <tr>\n      <th>1</th>\n      <td>3</td>\n      <td>GROOVE DELUXE</td>\n      <td>1.0</td>\n      <td>ROCK HILL</td>\n      <td>41.0</td>\n      <td>34.8867</td>\n      <td>-81.0208</td>\n      <td>True</td>\n      <td>False</td>\n      <td>NaT</td>\n      <td>NaN</td>\n      <td>NaN</td>\n      <td>NaN</td>\n      <td>2018-06-02 04:05:01.677</td>\n      <td>NaT</td>\n      <td>False</td>\n      <td>False</td>\n    </tr>\n    <tr>\n      <th>2</th>\n      <td>4</td>\n      <td>QUINTON PARKER BAND</td>\n      <td>1.0</td>\n      <td>ASHLAND</td>\n      <td>46.0</td>\n      <td>37.7596</td>\n      <td>-77.4822</td>\n      <td>True</td>\n      <td>False</td>\n      <td>NaT</td>\n      <td>NaN</td>\n      <td>NaN</td>\n      <td>NaN</td>\n      <td>2018-06-02 04:05:01.677</td>\n      <td>NaT</td>\n      <td>False</td>\n      <td>False</td>\n    </tr>\n    <tr>\n      <th>3</th>\n      <td>5</td>\n      <td>BILL BOLEN BAND (4)</td>\n      <td>1.0</td>\n      <td>CHAPEL HILL</td>\n      <td>28.0</td>\n      <td>35.9672</td>\n      <td>-79.0444</td>\n      <td>True</td>\n      <td>False</td>\n      <td>NaT</td>\n      <td>NaN</td>\n      <td>NaN</td>\n      <td>NaN</td>\n      <td>2018-06-02 04:05:01.683</td>\n      <td>2018-09-19 15:21:38.730</td>\n      <td>False</td>\n      <td>False</td>\n    </tr>\n    <tr>\n      <th>4</th>\n      <td>6</td>\n      <td>88 KEYS WILSON</td>\n      <td>1.0</td>\n      <td>CHARLOTTESVILLE</td>\n      <td>46.0</td>\n      <td>38.0884</td>\n      <td>-78.5562</td>\n      <td>True</td>\n      <td>False</td>\n      <td>NaT</td>\n      <td>NaN</td>\n      <td>NaN</td>\n      <td>NaN</td>\n      <td>2018-06-02 04:05:01.683</td>\n      <td>2019-11-18 15:16:17.807</td>\n      <td>False</td>\n      <td>False</td>\n    </tr>\n  </tbody>\n</table>\n</div>"
          },
          "metadata": {}
        }
      ],
      "execution_count": 6,
      "metadata": {
        "gather": {
          "logged": 1741052449715
        }
      }
    },
    {
      "cell_type": "code",
      "source": [
        "query4 = \"SELECT ActTypeId, Name, IsActive FROM [dbo].LuActType\"\n",
        "df_act = pd.read_sql(query4, conn)\n",
        "df_act.head()"
      ],
      "outputs": [
        {
          "output_type": "execute_result",
          "execution_count": 7,
          "data": {
            "text/plain": "   ActTypeId           Name  IsActive\n0          1          Bands      True\n1          2      Classical      True\n2          3      Comedians      True\n3          4            DJs      True\n4          5  International      True",
            "text/html": "<div>\n<style scoped>\n    .dataframe tbody tr th:only-of-type {\n        vertical-align: middle;\n    }\n\n    .dataframe tbody tr th {\n        vertical-align: top;\n    }\n\n    .dataframe thead th {\n        text-align: right;\n    }\n</style>\n<table border=\"1\" class=\"dataframe\">\n  <thead>\n    <tr style=\"text-align: right;\">\n      <th></th>\n      <th>ActTypeId</th>\n      <th>Name</th>\n      <th>IsActive</th>\n    </tr>\n  </thead>\n  <tbody>\n    <tr>\n      <th>0</th>\n      <td>1</td>\n      <td>Bands</td>\n      <td>True</td>\n    </tr>\n    <tr>\n      <th>1</th>\n      <td>2</td>\n      <td>Classical</td>\n      <td>True</td>\n    </tr>\n    <tr>\n      <th>2</th>\n      <td>3</td>\n      <td>Comedians</td>\n      <td>True</td>\n    </tr>\n    <tr>\n      <th>3</th>\n      <td>4</td>\n      <td>DJs</td>\n      <td>True</td>\n    </tr>\n    <tr>\n      <th>4</th>\n      <td>5</td>\n      <td>International</td>\n      <td>True</td>\n    </tr>\n  </tbody>\n</table>\n</div>"
          },
          "metadata": {}
        }
      ],
      "execution_count": 7,
      "metadata": {
        "gather": {
          "logged": 1741052453363
        }
      }
    },
    {
      "cell_type": "code",
      "source": [
        "query5 = \"SELECT * FROM [dbo].ArtistFeedback\"\n",
        "df_feedback = pd.read_sql(query5, conn)\n",
        "df_feedback.head()"
      ],
      "outputs": [
        {
          "output_type": "execute_result",
          "execution_count": 8,
          "data": {
            "text/plain": "   ArtistFeedbackId  ArtistId  PresenterPortalId  ContractId  IsNegative  \\\n0                 1      3061                  1      100304       False   \n1                 2       918                  2      103526       False   \n2                 3       154                  3      104617       False   \n3                 4        55                  4      105392       False   \n4                 5        32                  5      105486       False   \n\n  ReviewDate                                           Feedback  AgentId  \\\n0 2001-07-19  THE BREEZE BAND ARE THE BEST. THEY ARE NOT ONL...      NaN   \n1 1991-01-21                               EVRYTHING WENT GREAT      NaN   \n2 1991-02-15                                      BKD MIRAGE 91      NaN   \n3 1991-01-09                                    BKD MAINSTAY 91      NaN   \n4 1991-01-09                       BAND PLAYS REGULARLY AT CLUB      NaN   \n\n  Response ResponseDate         CreatedDate  CreatedById UpdatedDate  \\\n0     None          NaT 2006-06-07 09:03:58            0         NaT   \n1     None          NaT 2006-06-07 05:42:43            0         NaT   \n2     None          NaT 2006-06-07 02:25:48            0         NaT   \n3     None          NaT 2006-06-07 00:39:30            0         NaT   \n4     None          NaT 2006-06-07 00:19:13            0         NaT   \n\n   UpdatedById  \n0          NaN  \n1          NaN  \n2          NaN  \n3          NaN  \n4          NaN  ",
            "text/html": "<div>\n<style scoped>\n    .dataframe tbody tr th:only-of-type {\n        vertical-align: middle;\n    }\n\n    .dataframe tbody tr th {\n        vertical-align: top;\n    }\n\n    .dataframe thead th {\n        text-align: right;\n    }\n</style>\n<table border=\"1\" class=\"dataframe\">\n  <thead>\n    <tr style=\"text-align: right;\">\n      <th></th>\n      <th>ArtistFeedbackId</th>\n      <th>ArtistId</th>\n      <th>PresenterPortalId</th>\n      <th>ContractId</th>\n      <th>IsNegative</th>\n      <th>ReviewDate</th>\n      <th>Feedback</th>\n      <th>AgentId</th>\n      <th>Response</th>\n      <th>ResponseDate</th>\n      <th>CreatedDate</th>\n      <th>CreatedById</th>\n      <th>UpdatedDate</th>\n      <th>UpdatedById</th>\n    </tr>\n  </thead>\n  <tbody>\n    <tr>\n      <th>0</th>\n      <td>1</td>\n      <td>3061</td>\n      <td>1</td>\n      <td>100304</td>\n      <td>False</td>\n      <td>2001-07-19</td>\n      <td>THE BREEZE BAND ARE THE BEST. THEY ARE NOT ONL...</td>\n      <td>NaN</td>\n      <td>None</td>\n      <td>NaT</td>\n      <td>2006-06-07 09:03:58</td>\n      <td>0</td>\n      <td>NaT</td>\n      <td>NaN</td>\n    </tr>\n    <tr>\n      <th>1</th>\n      <td>2</td>\n      <td>918</td>\n      <td>2</td>\n      <td>103526</td>\n      <td>False</td>\n      <td>1991-01-21</td>\n      <td>EVRYTHING WENT GREAT</td>\n      <td>NaN</td>\n      <td>None</td>\n      <td>NaT</td>\n      <td>2006-06-07 05:42:43</td>\n      <td>0</td>\n      <td>NaT</td>\n      <td>NaN</td>\n    </tr>\n    <tr>\n      <th>2</th>\n      <td>3</td>\n      <td>154</td>\n      <td>3</td>\n      <td>104617</td>\n      <td>False</td>\n      <td>1991-02-15</td>\n      <td>BKD MIRAGE 91</td>\n      <td>NaN</td>\n      <td>None</td>\n      <td>NaT</td>\n      <td>2006-06-07 02:25:48</td>\n      <td>0</td>\n      <td>NaT</td>\n      <td>NaN</td>\n    </tr>\n    <tr>\n      <th>3</th>\n      <td>4</td>\n      <td>55</td>\n      <td>4</td>\n      <td>105392</td>\n      <td>False</td>\n      <td>1991-01-09</td>\n      <td>BKD MAINSTAY 91</td>\n      <td>NaN</td>\n      <td>None</td>\n      <td>NaT</td>\n      <td>2006-06-07 00:39:30</td>\n      <td>0</td>\n      <td>NaT</td>\n      <td>NaN</td>\n    </tr>\n    <tr>\n      <th>4</th>\n      <td>5</td>\n      <td>32</td>\n      <td>5</td>\n      <td>105486</td>\n      <td>False</td>\n      <td>1991-01-09</td>\n      <td>BAND PLAYS REGULARLY AT CLUB</td>\n      <td>NaN</td>\n      <td>None</td>\n      <td>NaT</td>\n      <td>2006-06-07 00:19:13</td>\n      <td>0</td>\n      <td>NaT</td>\n      <td>NaN</td>\n    </tr>\n  </tbody>\n</table>\n</div>"
          },
          "metadata": {}
        }
      ],
      "execution_count": 8,
      "metadata": {
        "gather": {
          "logged": 1741052456416
        }
      }
    },
    {
      "cell_type": "code",
      "source": [
        "query6 = \"SELECT * FROM [dbo].BlueCardArtist\"\n",
        "df_bluecardartist = pd.read_sql(query6, conn)\n",
        "df_bluecardartist.head()"
      ],
      "outputs": [
        {
          "output_type": "execute_result",
          "execution_count": 9,
          "data": {
            "text/plain": "   BlueCardArtistId  BlueCardId  ArtistId   Gross  Net      Notes  IsDeleted  \\\n0                 1           0       136  3250.0  0.0       None      False   \n1                 2           0       296  7750.0  0.0  w/ female      False   \n2                 3           0     11183     0.0  0.0       None      False   \n3                 4           0     15104     0.0  0.0       None      False   \n4                 5           0     15104     0.0  0.0       None      False   \n\n              CreatedDate  CreatedById UpdatedDate  UpdatedById  \n0 2018-06-02 04:06:42.950            0         NaT          NaN  \n1 2018-06-02 04:06:42.950            0         NaT          NaN  \n2 2018-06-02 04:06:42.950            0         NaT          NaN  \n3 2018-06-02 04:06:42.950            0         NaT          NaN  \n4 2018-06-02 04:06:42.950            0         NaT          NaN  ",
            "text/html": "<div>\n<style scoped>\n    .dataframe tbody tr th:only-of-type {\n        vertical-align: middle;\n    }\n\n    .dataframe tbody tr th {\n        vertical-align: top;\n    }\n\n    .dataframe thead th {\n        text-align: right;\n    }\n</style>\n<table border=\"1\" class=\"dataframe\">\n  <thead>\n    <tr style=\"text-align: right;\">\n      <th></th>\n      <th>BlueCardArtistId</th>\n      <th>BlueCardId</th>\n      <th>ArtistId</th>\n      <th>Gross</th>\n      <th>Net</th>\n      <th>Notes</th>\n      <th>IsDeleted</th>\n      <th>CreatedDate</th>\n      <th>CreatedById</th>\n      <th>UpdatedDate</th>\n      <th>UpdatedById</th>\n    </tr>\n  </thead>\n  <tbody>\n    <tr>\n      <th>0</th>\n      <td>1</td>\n      <td>0</td>\n      <td>136</td>\n      <td>3250.0</td>\n      <td>0.0</td>\n      <td>None</td>\n      <td>False</td>\n      <td>2018-06-02 04:06:42.950</td>\n      <td>0</td>\n      <td>NaT</td>\n      <td>NaN</td>\n    </tr>\n    <tr>\n      <th>1</th>\n      <td>2</td>\n      <td>0</td>\n      <td>296</td>\n      <td>7750.0</td>\n      <td>0.0</td>\n      <td>w/ female</td>\n      <td>False</td>\n      <td>2018-06-02 04:06:42.950</td>\n      <td>0</td>\n      <td>NaT</td>\n      <td>NaN</td>\n    </tr>\n    <tr>\n      <th>2</th>\n      <td>3</td>\n      <td>0</td>\n      <td>11183</td>\n      <td>0.0</td>\n      <td>0.0</td>\n      <td>None</td>\n      <td>False</td>\n      <td>2018-06-02 04:06:42.950</td>\n      <td>0</td>\n      <td>NaT</td>\n      <td>NaN</td>\n    </tr>\n    <tr>\n      <th>3</th>\n      <td>4</td>\n      <td>0</td>\n      <td>15104</td>\n      <td>0.0</td>\n      <td>0.0</td>\n      <td>None</td>\n      <td>False</td>\n      <td>2018-06-02 04:06:42.950</td>\n      <td>0</td>\n      <td>NaT</td>\n      <td>NaN</td>\n    </tr>\n    <tr>\n      <th>4</th>\n      <td>5</td>\n      <td>0</td>\n      <td>15104</td>\n      <td>0.0</td>\n      <td>0.0</td>\n      <td>None</td>\n      <td>False</td>\n      <td>2018-06-02 04:06:42.950</td>\n      <td>0</td>\n      <td>NaT</td>\n      <td>NaN</td>\n    </tr>\n  </tbody>\n</table>\n</div>"
          },
          "metadata": {}
        }
      ],
      "execution_count": 9,
      "metadata": {
        "gather": {
          "logged": 1741052471999
        }
      }
    },
    {
      "cell_type": "code",
      "source": [
        "query7 = '''SELECT \n",
        "    VenueId,\n",
        "    AgentId,\n",
        "    Name,\n",
        "    VenueSettingId,\n",
        "    IsSettingCovered,\n",
        "    MailingAddress1,\n",
        "    MailingAddress2,\n",
        "    MailingCity,\n",
        "    MailingStateId,\n",
        "    MailingZip,\n",
        "    MailingCountryId,\n",
        "    PhysicalAddress1,\n",
        "    PhysicalAddress2,\n",
        "    PhysicalCity,\n",
        "    PhysicalStateId,\n",
        "    PhysicalZip,\n",
        "    PhysicalCountryId,\n",
        "    Notes,\n",
        "    Capacity,\n",
        "    IsActive,\n",
        "    PresenterId,\n",
        "    CreatedDate,\n",
        "    CreatedById,\n",
        "    UpdatedDate,\n",
        "    UpdatedById,\n",
        "    ArchiveDate,\n",
        "    VenueManagerId,\n",
        "    NotifyForLead,\n",
        "    NotifyForBC,\n",
        "    NotifyForContract,\n",
        "    NotifyForApproval\n",
        "FROM [dbo].Venue'''\n",
        "df_venue = pd.read_sql(query7, conn)\n",
        "df_venue.head()"
      ],
      "outputs": [
        {
          "output_type": "execute_result",
          "execution_count": 10,
          "data": {
            "text/plain": "   VenueId  AgentId                               Name  VenueSettingId  \\\n0        1    141.0                     HILTON ATLANTA               3   \n1        2    141.0           MARRIOTT MARQUIS ATLANTA               3   \n2        3    430.0  Moreland Landing @ Palmetto Bluff               2   \n3        4    141.0        EVERGREEN CONFERENCE CENTER               3   \n4        5    141.0              MERCEDES-BENZ STADIUM               1   \n\n   IsSettingCovered                          MailingAddress1  \\\n0             False                  255 COURTLAND STREET NE   \n1             False              265 PEACHTREE CENTER AVENUE   \n2              True                            Moreland Road   \n3             False              EVERGREEN CONFERENCE CENTER   \n4             False  1414 ANDREW YOUNG INTERNATIONAL BLVD NW   \n\n    MailingAddress2     MailingCity  MailingStateId MailingZip  ...  \\\n0                           ATLANTA              11      30303  ...   \n1                           ATLANTA              11      30303  ...   \n2                          BLUFFTON              41      29910  ...   \n3  1 LAKEVIEW DRIVE  STONE MOUNTAIN              11      30086  ...   \n4                           ATLANTA              11      30313  ...   \n\n              CreatedDate CreatedById             UpdatedDate UpdatedById  \\\n0 2018-06-04 11:42:41.587         141                     NaT         NaN   \n1 2018-06-04 11:46:28.407         141                     NaT         NaN   \n2 2018-06-04 11:52:10.490         445 2023-01-25 09:12:27.047       182.0   \n3 2018-06-04 11:55:11.247         141                     NaT         NaN   \n4 2018-06-04 11:56:29.607         141 2020-02-05 13:55:16.493       141.0   \n\n   ArchiveDate VenueManagerId  NotifyForLead NotifyForBC  NotifyForContract  \\\n0         None            NaN           None        None               None   \n1         None            NaN           None        None               None   \n2         None            NaN           None        None               None   \n3         None            NaN           None        None               None   \n4         None            NaN           None        None               None   \n\n   NotifyForApproval  \n0               None  \n1               None  \n2               None  \n3               None  \n4               None  \n\n[5 rows x 31 columns]",
            "text/html": "<div>\n<style scoped>\n    .dataframe tbody tr th:only-of-type {\n        vertical-align: middle;\n    }\n\n    .dataframe tbody tr th {\n        vertical-align: top;\n    }\n\n    .dataframe thead th {\n        text-align: right;\n    }\n</style>\n<table border=\"1\" class=\"dataframe\">\n  <thead>\n    <tr style=\"text-align: right;\">\n      <th></th>\n      <th>VenueId</th>\n      <th>AgentId</th>\n      <th>Name</th>\n      <th>VenueSettingId</th>\n      <th>IsSettingCovered</th>\n      <th>MailingAddress1</th>\n      <th>MailingAddress2</th>\n      <th>MailingCity</th>\n      <th>MailingStateId</th>\n      <th>MailingZip</th>\n      <th>...</th>\n      <th>CreatedDate</th>\n      <th>CreatedById</th>\n      <th>UpdatedDate</th>\n      <th>UpdatedById</th>\n      <th>ArchiveDate</th>\n      <th>VenueManagerId</th>\n      <th>NotifyForLead</th>\n      <th>NotifyForBC</th>\n      <th>NotifyForContract</th>\n      <th>NotifyForApproval</th>\n    </tr>\n  </thead>\n  <tbody>\n    <tr>\n      <th>0</th>\n      <td>1</td>\n      <td>141.0</td>\n      <td>HILTON ATLANTA</td>\n      <td>3</td>\n      <td>False</td>\n      <td>255 COURTLAND STREET NE</td>\n      <td></td>\n      <td>ATLANTA</td>\n      <td>11</td>\n      <td>30303</td>\n      <td>...</td>\n      <td>2018-06-04 11:42:41.587</td>\n      <td>141</td>\n      <td>NaT</td>\n      <td>NaN</td>\n      <td>None</td>\n      <td>NaN</td>\n      <td>None</td>\n      <td>None</td>\n      <td>None</td>\n      <td>None</td>\n    </tr>\n    <tr>\n      <th>1</th>\n      <td>2</td>\n      <td>141.0</td>\n      <td>MARRIOTT MARQUIS ATLANTA</td>\n      <td>3</td>\n      <td>False</td>\n      <td>265 PEACHTREE CENTER AVENUE</td>\n      <td></td>\n      <td>ATLANTA</td>\n      <td>11</td>\n      <td>30303</td>\n      <td>...</td>\n      <td>2018-06-04 11:46:28.407</td>\n      <td>141</td>\n      <td>NaT</td>\n      <td>NaN</td>\n      <td>None</td>\n      <td>NaN</td>\n      <td>None</td>\n      <td>None</td>\n      <td>None</td>\n      <td>None</td>\n    </tr>\n    <tr>\n      <th>2</th>\n      <td>3</td>\n      <td>430.0</td>\n      <td>Moreland Landing @ Palmetto Bluff</td>\n      <td>2</td>\n      <td>True</td>\n      <td>Moreland Road</td>\n      <td></td>\n      <td>BLUFFTON</td>\n      <td>41</td>\n      <td>29910</td>\n      <td>...</td>\n      <td>2018-06-04 11:52:10.490</td>\n      <td>445</td>\n      <td>2023-01-25 09:12:27.047</td>\n      <td>182.0</td>\n      <td>None</td>\n      <td>NaN</td>\n      <td>None</td>\n      <td>None</td>\n      <td>None</td>\n      <td>None</td>\n    </tr>\n    <tr>\n      <th>3</th>\n      <td>4</td>\n      <td>141.0</td>\n      <td>EVERGREEN CONFERENCE CENTER</td>\n      <td>3</td>\n      <td>False</td>\n      <td>EVERGREEN CONFERENCE CENTER</td>\n      <td>1 LAKEVIEW DRIVE</td>\n      <td>STONE MOUNTAIN</td>\n      <td>11</td>\n      <td>30086</td>\n      <td>...</td>\n      <td>2018-06-04 11:55:11.247</td>\n      <td>141</td>\n      <td>NaT</td>\n      <td>NaN</td>\n      <td>None</td>\n      <td>NaN</td>\n      <td>None</td>\n      <td>None</td>\n      <td>None</td>\n      <td>None</td>\n    </tr>\n    <tr>\n      <th>4</th>\n      <td>5</td>\n      <td>141.0</td>\n      <td>MERCEDES-BENZ STADIUM</td>\n      <td>1</td>\n      <td>False</td>\n      <td>1414 ANDREW YOUNG INTERNATIONAL BLVD NW</td>\n      <td></td>\n      <td>ATLANTA</td>\n      <td>11</td>\n      <td>30313</td>\n      <td>...</td>\n      <td>2018-06-04 11:56:29.607</td>\n      <td>141</td>\n      <td>2020-02-05 13:55:16.493</td>\n      <td>141.0</td>\n      <td>None</td>\n      <td>NaN</td>\n      <td>None</td>\n      <td>None</td>\n      <td>None</td>\n      <td>None</td>\n    </tr>\n  </tbody>\n</table>\n<p>5 rows × 31 columns</p>\n</div>"
          },
          "metadata": {}
        }
      ],
      "execution_count": 10,
      "metadata": {
        "gather": {
          "logged": 1741052482698
        }
      }
    },
    {
      "cell_type": "markdown",
      "source": [
        "#### Data Cleaning"
      ],
      "metadata": {
        "nteract": {
          "transient": {
            "deleting": false
          }
        }
      }
    },
    {
      "cell_type": "code",
      "source": [
        "tables=[df_presenter,df_genre,artist_df,df_venue,df_genre,df_bluecardartist,df_feedback]"
      ],
      "outputs": [],
      "execution_count": 11,
      "metadata": {
        "gather": {
          "logged": 1741052499598
        }
      }
    },
    {
      "cell_type": "code",
      "source": [
        "for df in tables:\n",
        "    print(df.isnull().sum())\n",
        "    print(\"-\" * 50)  "
      ],
      "outputs": [
        {
          "output_type": "stream",
          "name": "stdout",
          "text": "PresenterId                 0\nAgentId                     0\nAccountName                 0\nOrganizationName        39190\nPresenterTypeId             0\nMailingAddress1          3352\nMailingAddress2         16547\nMailingCity              2062\nMailingStateId              0\nMailingZip               4520\nMailingCountryId            0\nPhysicalAddress1         3352\nPhysicalAddress2        16547\nPhysicalCity             2062\nPhysicalStateId             0\nPhysicalZip              4520\nPhysicalCountryId           0\nPhysicalGeoLatitude      3930\nPhysicalGeoLongitude     3930\nNotes                   54001\nIsActive                    0\nCreatedDate                 0\nCreatedById                 0\nUpdatedDate             45937\nUpdatedById             45937\nArchiveDate             66975\nParentPresenterId           0\ndtype: int64\n--------------------------------------------------\nGenreTypeId    0\nName           0\nIsActive       0\ndtype: int64\n--------------------------------------------------\nArtistId                          0\nName                              0\nMailingCountryId               2655\nPhysicalAddressCity            3577\nPhysicalAddressStateId         3530\nPhysicalGeoLatitude            3617\nPhysicalGeoLongitude           3617\nIsActive                          0\nIsExclusive                       0\nExclusiveStartDate            23397\nNationalNetPriceLowerBound    21583\nNationalNetPriceUpperBound    21584\nNationalOneOffPrice           21569\nCreatedDate                       0\nUpdatedDate                   10838\nIsNational                        0\nIsNotParticipating                0\ndtype: int64\n--------------------------------------------------\nVenueId                 0\nAgentId               837\nName                    0\nVenueSettingId          0\nIsSettingCovered        0\nMailingAddress1         0\nMailingAddress2         0\nMailingCity             0\nMailingStateId          0\nMailingZip              0\nMailingCountryId        0\nPhysicalAddress1        0\nPhysicalAddress2        0\nPhysicalCity            0\nPhysicalStateId         0\nPhysicalZip             0\nPhysicalCountryId       0\nNotes                   0\nCapacity             2827\nIsActive                0\nPresenterId          1314\nCreatedDate             0\nCreatedById             0\nUpdatedDate          2259\nUpdatedById          2259\nArchiveDate          3490\nVenueManagerId       3499\nNotifyForLead        3499\nNotifyForBC          3499\nNotifyForContract    3499\nNotifyForApproval    3499\ndtype: int64\n--------------------------------------------------\nGenreTypeId    0\nName           0\nIsActive       0\ndtype: int64\n--------------------------------------------------\nBlueCardArtistId         0\nBlueCardId               0\nArtistId                 0\nGross                10071\nNet                 366233\nNotes               394165\nIsDeleted                0\nCreatedDate              0\nCreatedById              0\nUpdatedDate         496952\nUpdatedById         496952\ndtype: int64\n--------------------------------------------------\nArtistFeedbackId         0\nArtistId                 0\nPresenterPortalId        0\nContractId               0\nIsNegative               0\nReviewDate               0\nFeedback                 0\nAgentId              47203\nResponse             44397\nResponseDate         47203\nCreatedDate              0\nCreatedById              0\nUpdatedDate          47229\nUpdatedById          47229\ndtype: int64\n--------------------------------------------------\n"
        }
      ],
      "execution_count": 12,
      "metadata": {
        "gather": {
          "logged": 1741052501370
        }
      }
    },
    {
      "cell_type": "code",
      "source": [
        "tables = {\n",
        "    \"df_presenter\": df_presenter,\n",
        "    \"df_genre\": df_genre,\n",
        "    \"artist_df\": artist_df,\n",
        "    \"df_venue\": df_venue,\n",
        "    \"df_bluecardartist\": df_bluecardartist,\n",
        "    \"df_feedback\": df_feedback\n",
        "}\n",
        "\n",
        "for name, df in tables.items():\n",
        "    print(f\"Missing Values Percentage in {name}:\")\n",
        "    missing_percentage = (df.isnull().sum() / len(df)) \n",
        "    print(missing_percentage)\n",
        "    print(\"-\" * 50)\n"
      ],
      "outputs": [
        {
          "output_type": "stream",
          "name": "stdout",
          "text": "Missing Values Percentage in df_presenter:\nPresenterId             0.000000\nAgentId                 0.000000\nAccountName             0.000000\nOrganizationName        0.435875\nPresenterTypeId         0.000000\nMailingAddress1         0.037281\nMailingAddress2         0.184038\nMailingCity             0.022934\nMailingStateId          0.000000\nMailingZip              0.050272\nMailingCountryId        0.000000\nPhysicalAddress1        0.037281\nPhysicalAddress2        0.184038\nPhysicalCity            0.022934\nPhysicalStateId         0.000000\nPhysicalZip             0.050272\nPhysicalCountryId       0.000000\nPhysicalGeoLatitude     0.043710\nPhysicalGeoLongitude    0.043710\nNotes                   0.600605\nIsActive                0.000000\nCreatedDate             0.000000\nCreatedById             0.000000\nUpdatedDate             0.510916\nUpdatedById             0.510916\nArchiveDate             0.744903\nParentPresenterId       0.000000\ndtype: float64\n--------------------------------------------------\nMissing Values Percentage in df_genre:\nGenreTypeId    0.0\nName           0.0\nIsActive       0.0\ndtype: float64\n--------------------------------------------------\nMissing Values Percentage in artist_df:\nArtistId                      0.000000\nName                          0.000000\nMailingCountryId              0.112548\nPhysicalAddressCity           0.151632\nPhysicalAddressStateId        0.149640\nPhysicalGeoLatitude           0.153328\nPhysicalGeoLongitude          0.153328\nIsActive                      0.000000\nIsExclusive                   0.000000\nExclusiveStartDate            0.991819\nNationalNetPriceLowerBound    0.914922\nNationalNetPriceUpperBound    0.914964\nNationalOneOffPrice           0.914328\nCreatedDate                   0.000000\nUpdatedDate                   0.459432\nIsNational                    0.000000\nIsNotParticipating            0.000000\ndtype: float64\n--------------------------------------------------\nMissing Values Percentage in df_venue:\nVenueId              0.000000\nAgentId              0.239006\nName                 0.000000\nVenueSettingId       0.000000\nIsSettingCovered     0.000000\nMailingAddress1      0.000000\nMailingAddress2      0.000000\nMailingCity          0.000000\nMailingStateId       0.000000\nMailingZip           0.000000\nMailingCountryId     0.000000\nPhysicalAddress1     0.000000\nPhysicalAddress2     0.000000\nPhysicalCity         0.000000\nPhysicalStateId      0.000000\nPhysicalZip          0.000000\nPhysicalCountryId    0.000000\nNotes                0.000000\nCapacity             0.807253\nIsActive             0.000000\nPresenterId          0.375214\nCreatedDate          0.000000\nCreatedById          0.000000\nUpdatedDate          0.645060\nUpdatedById          0.645060\nArchiveDate          0.996573\nVenueManagerId       0.999143\nNotifyForLead        0.999143\nNotifyForBC          0.999143\nNotifyForContract    0.999143\nNotifyForApproval    0.999143\ndtype: float64\n--------------------------------------------------\nMissing Values Percentage in df_bluecardartist:\nBlueCardArtistId    0.000000\nBlueCardId          0.000000\nArtistId            0.000000\nGross               0.012142\nNet                 0.441557\nNotes               0.475234\nIsDeleted           0.000000\nCreatedDate         0.000000\nCreatedById         0.000000\nUpdatedDate         0.599161\nUpdatedById         0.599161\ndtype: float64\n--------------------------------------------------\nMissing Values Percentage in df_feedback:\nArtistFeedbackId     0.000000\nArtistId             0.000000\nPresenterPortalId    0.000000\nContractId           0.000000\nIsNegative           0.000000\nReviewDate           0.000000\nFeedback             0.000000\nAgentId              0.995214\nResponse             0.936053\nResponseDate         0.995214\nCreatedDate          0.000000\nCreatedById          0.000000\nUpdatedDate          0.995762\nUpdatedById          0.995762\ndtype: float64\n--------------------------------------------------\n"
        }
      ],
      "execution_count": 13,
      "metadata": {
        "gather": {
          "logged": 1741052505828
        }
      }
    },
    {
      "cell_type": "markdown",
      "source": [
        "#### Dropping columns with more than 50% missing values "
      ],
      "metadata": {
        "nteract": {
          "transient": {
            "deleting": false
          }
        }
      }
    },
    {
      "cell_type": "code",
      "source": [
        "\n",
        "threshold = 0.5\n",
        "\n",
        "\n",
        "tables = {\n",
        "    \"df_presenter\": df_presenter,\n",
        "    \"df_genre\": df_genre,\n",
        "    \"artist_df\": artist_df,\n",
        "    \"df_venue\": df_venue,\n",
        "    \"df_bluecardartist\": df_bluecardartist,\n",
        "    \"df_feedback\": df_feedback\n",
        "}\n",
        "\n",
        "\n",
        "for name, df in tables.items():\n",
        "    missing_ratio = df.isnull().sum() / len(df)  # Calculate missing percentage\n",
        "    columns_to_drop = missing_ratio[missing_ratio > threshold].index  # Identify columns > 50% missing\n",
        "    df.drop(columns=columns_to_drop, inplace=True)  # Drop columns\n",
        "    print(f\"Dropped columns from {name}: {list(columns_to_drop)}\")\n",
        "    print(\"-\" * 50)\n"
      ],
      "outputs": [
        {
          "output_type": "stream",
          "name": "stdout",
          "text": "Dropped columns from df_presenter: ['Notes', 'UpdatedDate', 'UpdatedById', 'ArchiveDate']\n--------------------------------------------------\nDropped columns from df_genre: []\n--------------------------------------------------\nDropped columns from artist_df: ['ExclusiveStartDate', 'NationalNetPriceLowerBound', 'NationalNetPriceUpperBound', 'NationalOneOffPrice']\n--------------------------------------------------\nDropped columns from df_venue: ['Capacity', 'UpdatedDate', 'UpdatedById', 'ArchiveDate', 'VenueManagerId', 'NotifyForLead', 'NotifyForBC', 'NotifyForContract', 'NotifyForApproval']\n--------------------------------------------------\nDropped columns from df_bluecardartist: ['UpdatedDate', 'UpdatedById']\n--------------------------------------------------\nDropped columns from df_feedback: ['AgentId', 'Response', 'ResponseDate', 'UpdatedDate', 'UpdatedById']\n--------------------------------------------------\n"
        }
      ],
      "execution_count": 14,
      "metadata": {
        "gather": {
          "logged": 1741052509643
        }
      }
    },
    {
      "cell_type": "markdown",
      "source": [
        "### Reverification of missing values"
      ],
      "metadata": {
        "nteract": {
          "transient": {
            "deleting": false
          }
        }
      }
    },
    {
      "cell_type": "code",
      "source": [
        "tables = {\n",
        "    \"df_presenter\": df_presenter,\n",
        "    \"df_genre\": df_genre,\n",
        "    \"artist_df\": artist_df,\n",
        "    \"df_venue\": df_venue,\n",
        "    \"df_bluecardartist\": df_bluecardartist,\n",
        "    \"df_feedback\": df_feedback\n",
        "}\n",
        "\n",
        "for name, df in tables.items():\n",
        "    print(f\"Missing Values Percentage in {name}:\")\n",
        "    missing_percentage = (df.isnull().sum() / len(df)) \n",
        "    print(missing_percentage)\n",
        "    print(\"-\" * 50)"
      ],
      "outputs": [
        {
          "output_type": "stream",
          "name": "stdout",
          "text": "Missing Values Percentage in df_presenter:\nPresenterId             0.000000\nAgentId                 0.000000\nAccountName             0.000000\nOrganizationName        0.435875\nPresenterTypeId         0.000000\nMailingAddress1         0.037281\nMailingAddress2         0.184038\nMailingCity             0.022934\nMailingStateId          0.000000\nMailingZip              0.050272\nMailingCountryId        0.000000\nPhysicalAddress1        0.037281\nPhysicalAddress2        0.184038\nPhysicalCity            0.022934\nPhysicalStateId         0.000000\nPhysicalZip             0.050272\nPhysicalCountryId       0.000000\nPhysicalGeoLatitude     0.043710\nPhysicalGeoLongitude    0.043710\nIsActive                0.000000\nCreatedDate             0.000000\nCreatedById             0.000000\nParentPresenterId       0.000000\ndtype: float64\n--------------------------------------------------\nMissing Values Percentage in df_genre:\nGenreTypeId    0.0\nName           0.0\nIsActive       0.0\ndtype: float64\n--------------------------------------------------\nMissing Values Percentage in artist_df:\nArtistId                  0.000000\nName                      0.000000\nMailingCountryId          0.112548\nPhysicalAddressCity       0.151632\nPhysicalAddressStateId    0.149640\nPhysicalGeoLatitude       0.153328\nPhysicalGeoLongitude      0.153328\nIsActive                  0.000000\nIsExclusive               0.000000\nCreatedDate               0.000000\nUpdatedDate               0.459432\nIsNational                0.000000\nIsNotParticipating        0.000000\ndtype: float64\n--------------------------------------------------\nMissing Values Percentage in df_venue:\nVenueId              0.000000\nAgentId              0.239006\nName                 0.000000\nVenueSettingId       0.000000\nIsSettingCovered     0.000000\nMailingAddress1      0.000000\nMailingAddress2      0.000000\nMailingCity          0.000000\nMailingStateId       0.000000\nMailingZip           0.000000\nMailingCountryId     0.000000\nPhysicalAddress1     0.000000\nPhysicalAddress2     0.000000\nPhysicalCity         0.000000\nPhysicalStateId      0.000000\nPhysicalZip          0.000000\nPhysicalCountryId    0.000000\nNotes                0.000000\nIsActive             0.000000\nPresenterId          0.375214\nCreatedDate          0.000000\nCreatedById          0.000000\ndtype: float64\n--------------------------------------------------\nMissing Values Percentage in df_bluecardartist:\nBlueCardArtistId    0.000000\nBlueCardId          0.000000\nArtistId            0.000000\nGross               0.012142\nNet                 0.441557\nNotes               0.475234\nIsDeleted           0.000000\nCreatedDate         0.000000\nCreatedById         0.000000\ndtype: float64\n--------------------------------------------------\nMissing Values Percentage in df_feedback:\nArtistFeedbackId     0.0\nArtistId             0.0\nPresenterPortalId    0.0\nContractId           0.0\nIsNegative           0.0\nReviewDate           0.0\nFeedback             0.0\nCreatedDate          0.0\nCreatedById          0.0\ndtype: float64\n--------------------------------------------------\n"
        }
      ],
      "execution_count": 15,
      "metadata": {
        "gather": {
          "logged": 1741052513277
        }
      }
    },
    {
      "cell_type": "code",
      "source": [
        "# Function to impute missing values\n",
        "def impute_missing_values(df):\n",
        "    for col in df.columns:\n",
        "        if df[col].dtype == \"object\":  \n",
        "            df[col].fillna(\"Unknown\", inplace=True)\n",
        "        elif df[col].dtype in [\"int64\", \"float64\"]:  \n",
        "            if df[col].nunique() < 10:  \n",
        "                df[col].fillna(df[col].mode()[0], inplace=True)  \n",
        "            else:\n",
        "                df[col].fillna(df[col].median(), inplace=True)  \n",
        "        elif np.issubdtype(df[col].dtype, np.datetime64):  \n",
        "            df[col].fillna(df[col].min(), inplace=True)  \n",
        "        elif df[col].dtype == \"bool\":  \n",
        "            df[col].fillna(False, inplace=True)  \n",
        "    return df\n",
        "\n",
        "\n"
      ],
      "outputs": [],
      "execution_count": 16,
      "metadata": {
        "gather": {
          "logged": 1741052516901
        }
      }
    },
    {
      "cell_type": "code",
      "source": [
        "# Apply imputation to all DataFrames\n",
        "for name, df in tables.items():\n",
        "    tables[name] = impute_missing_values(df)\n",
        "    print(f\"Imputed missing values in {name}\")\n",
        "\n",
        "# Verify no missing values\n",
        "for name, df in tables.items():\n",
        "    print(f\"Remaining missing values in {name}:\")\n",
        "    print(df.isnull().sum())\n",
        "    print(\"-\" * 50)"
      ],
      "outputs": [
        {
          "output_type": "stream",
          "name": "stdout",
          "text": "Imputed missing values in df_presenter\nImputed missing values in df_genre\nImputed missing values in artist_df\nImputed missing values in df_venue\nImputed missing values in df_bluecardartist\nImputed missing values in df_feedback\nRemaining missing values in df_presenter:\nPresenterId             0\nAgentId                 0\nAccountName             0\nOrganizationName        0\nPresenterTypeId         0\nMailingAddress1         0\nMailingAddress2         0\nMailingCity             0\nMailingStateId          0\nMailingZip              0\nMailingCountryId        0\nPhysicalAddress1        0\nPhysicalAddress2        0\nPhysicalCity            0\nPhysicalStateId         0\nPhysicalZip             0\nPhysicalCountryId       0\nPhysicalGeoLatitude     0\nPhysicalGeoLongitude    0\nIsActive                0\nCreatedDate             0\nCreatedById             0\nParentPresenterId       0\ndtype: int64\n--------------------------------------------------\nRemaining missing values in df_genre:\nGenreTypeId    0\nName           0\nIsActive       0\ndtype: int64\n--------------------------------------------------\nRemaining missing values in artist_df:\nArtistId                  0\nName                      0\nMailingCountryId          0\nPhysicalAddressCity       0\nPhysicalAddressStateId    0\nPhysicalGeoLatitude       0\nPhysicalGeoLongitude      0\nIsActive                  0\nIsExclusive               0\nCreatedDate               0\nUpdatedDate               0\nIsNational                0\nIsNotParticipating        0\ndtype: int64\n--------------------------------------------------\nRemaining missing values in df_venue:\nVenueId              0\nAgentId              0\nName                 0\nVenueSettingId       0\nIsSettingCovered     0\nMailingAddress1      0\nMailingAddress2      0\nMailingCity          0\nMailingStateId       0\nMailingZip           0\nMailingCountryId     0\nPhysicalAddress1     0\nPhysicalAddress2     0\nPhysicalCity         0\nPhysicalStateId      0\nPhysicalZip          0\nPhysicalCountryId    0\nNotes                0\nIsActive             0\nPresenterId          0\nCreatedDate          0\nCreatedById          0\ndtype: int64\n--------------------------------------------------\nRemaining missing values in df_bluecardartist:\nBlueCardArtistId    0\nBlueCardId          0\nArtistId            0\nGross               0\nNet                 0\nNotes               0\nIsDeleted           0\nCreatedDate         0\nCreatedById         0\ndtype: int64\n--------------------------------------------------\nRemaining missing values in df_feedback:\nArtistFeedbackId     0\nArtistId             0\nPresenterPortalId    0\nContractId           0\nIsNegative           0\nReviewDate           0\nFeedback             0\nCreatedDate          0\nCreatedById          0\ndtype: int64\n--------------------------------------------------\n"
        }
      ],
      "execution_count": 17,
      "metadata": {
        "gather": {
          "logged": 1741052521034
        }
      }
    },
    {
      "cell_type": "code",
      "source": [
        "for name, df in tables.items():\n",
        "    print(f\"The head of {name} is:\\n{df.head()}\\n\")\n"
      ],
      "outputs": [
        {
          "output_type": "stream",
          "name": "stdout",
          "text": "The head of df_presenter is:\n   PresenterId  AgentId                  AccountName OrganizationName  \\\n0            0      281                          ASD          Unknown   \n1            8      107  COLLEGE OF WILLIAM AND MARY    BETA THETA PI   \n2           32      443               WAKE SUPPLY CO          Unknown   \n3           82      435            MARRIOTT/RICHMOND          Unknown   \n4           85      253                    [Unknown]          Unknown   \n\n   PresenterTypeId                               MailingAddress1  \\\n0               99                                       Unknown   \n1               49                          700 UKROP WAY UNIT M   \n2                8  1700 JEFFREY ST                                \n3               99                                       Unknown   \n4               99                                       Unknown   \n\n             MailingAddress2   MailingCity  MailingStateId MailingZip  ...  \\\n0                    Unknown       Unknown             999    Unknown  ...   \n1  COLLEGE OF WILLIAM & MARY  WILLIAMSBURG              46    Unknown  ...   \n2                    Unknown       RALEIGH              28      27610  ...   \n3                    Unknown       Unknown             999    Unknown  ...   \n4                    Unknown       Unknown             999    Unknown  ...   \n\n   PhysicalCity PhysicalStateId PhysicalZip PhysicalCountryId  \\\n0       Unknown             999     Unknown                 1   \n1  WILLIAMSBURG              46     Unknown                 1   \n2       RALEIGH              28       27610                 1   \n3       Unknown             999     Unknown                 1   \n4       Unknown             999     Unknown                 1   \n\n   PhysicalGeoLatitude PhysicalGeoLongitude  IsActive  CreatedDate  \\\n0              35.7373           -80.770107     False   2016-11-10   \n1              37.2458           -76.697000      True   2012-06-04   \n2              35.7455           -78.546700     False   2003-12-30   \n3              35.7373           -80.770107     False   2012-04-11   \n4              35.7373           -80.770107     False   2009-06-12   \n\n   CreatedById  ParentPresenterId  \n0          281                  0  \n1          107                  0  \n2          443                  0  \n3          435                  0  \n4          253                  0  \n\n[5 rows x 23 columns]\n\nThe head of df_genre is:\n   GenreTypeId                     Name  IsActive\n0            1  A Cappella/Vocal Groups      True\n1            2                 Acrobats      True\n2            3                  African      True\n3            4       Animal/Circus Acts      True\n4            5             Audio Visual      True\n\nThe head of artist_df is:\n   ArtistId                 Name  MailingCountryId PhysicalAddressCity  \\\n0         2                    O               1.0            RICHMOND   \n1         3        GROOVE DELUXE               1.0           ROCK HILL   \n2         4  QUINTON PARKER BAND               1.0             ASHLAND   \n3         5  BILL BOLEN BAND (4)               1.0         CHAPEL HILL   \n4         6       88 KEYS WILSON               1.0     CHARLOTTESVILLE   \n\n   PhysicalAddressStateId  PhysicalGeoLatitude  PhysicalGeoLongitude  \\\n0                    46.0              37.5770              -77.5388   \n1                    41.0              34.8867              -81.0208   \n2                    46.0              37.7596              -77.4822   \n3                    28.0              35.9672              -79.0444   \n4                    46.0              38.0884              -78.5562   \n\n   IsActive  IsExclusive             CreatedDate             UpdatedDate  \\\n0      True        False 2018-06-02 04:05:01.677 2018-06-02 17:21:47.147   \n1      True        False 2018-06-02 04:05:01.677 2018-06-02 17:21:47.147   \n2      True        False 2018-06-02 04:05:01.677 2018-06-02 17:21:47.147   \n3      True        False 2018-06-02 04:05:01.683 2018-09-19 15:21:38.730   \n4      True        False 2018-06-02 04:05:01.683 2019-11-18 15:16:17.807   \n\n   IsNational  IsNotParticipating  \n0       False               False  \n1       False               False  \n2       False               False  \n3       False               False  \n4       False               False  \n\nThe head of df_venue is:\n   VenueId  AgentId                               Name  VenueSettingId  \\\n0        1    141.0                     HILTON ATLANTA               3   \n1        2    141.0           MARRIOTT MARQUIS ATLANTA               3   \n2        3    430.0  Moreland Landing @ Palmetto Bluff               2   \n3        4    141.0        EVERGREEN CONFERENCE CENTER               3   \n4        5    141.0              MERCEDES-BENZ STADIUM               1   \n\n   IsSettingCovered                          MailingAddress1  \\\n0             False                  255 COURTLAND STREET NE   \n1             False              265 PEACHTREE CENTER AVENUE   \n2              True                            Moreland Road   \n3             False              EVERGREEN CONFERENCE CENTER   \n4             False  1414 ANDREW YOUNG INTERNATIONAL BLVD NW   \n\n    MailingAddress2     MailingCity  MailingStateId MailingZip  ...  \\\n0                           ATLANTA              11      30303  ...   \n1                           ATLANTA              11      30303  ...   \n2                          BLUFFTON              41      29910  ...   \n3  1 LAKEVIEW DRIVE  STONE MOUNTAIN              11      30086  ...   \n4                           ATLANTA              11      30313  ...   \n\n              PhysicalAddress2    PhysicalCity PhysicalStateId PhysicalZip  \\\n0                                      ATLANTA              11       30303   \n1  265 PEACHTREE CENTER AVENUE         ATLANTA              11       30303   \n2                                     BLUFFTON              41       29910   \n3             1 LAKEVIEW DRIVE  STONE MOUNTAIN              11       30086   \n4                                      ATLANTA              11       30313   \n\n   PhysicalCountryId                                              Notes  \\\n0                  1                                                      \n1                  1                                                      \n2                  1  all the way at the end of Moreland Road, can't...   \n3                  1                                                      \n4                  1                                                      \n\n   IsActive PresenterId             CreatedDate  CreatedById  \n0      True  10000011.0 2018-06-04 11:42:41.587          141  \n1      True   5787203.0 2018-06-04 11:46:28.407          141  \n2      True   8571076.0 2018-06-04 11:52:10.490          445  \n3      True   6061900.0 2018-06-04 11:55:11.247          141  \n4      True     32803.0 2018-06-04 11:56:29.607          141  \n\n[5 rows x 22 columns]\n\nThe head of df_bluecardartist is:\n   BlueCardArtistId  BlueCardId  ArtistId   Gross  Net      Notes  IsDeleted  \\\n0                 1           0       136  3250.0  0.0    Unknown      False   \n1                 2           0       296  7750.0  0.0  w/ female      False   \n2                 3           0     11183     0.0  0.0    Unknown      False   \n3                 4           0     15104     0.0  0.0    Unknown      False   \n4                 5           0     15104     0.0  0.0    Unknown      False   \n\n              CreatedDate  CreatedById  \n0 2018-06-02 04:06:42.950            0  \n1 2018-06-02 04:06:42.950            0  \n2 2018-06-02 04:06:42.950            0  \n3 2018-06-02 04:06:42.950            0  \n4 2018-06-02 04:06:42.950            0  \n\nThe head of df_feedback is:\n   ArtistFeedbackId  ArtistId  PresenterPortalId  ContractId  IsNegative  \\\n0                 1      3061                  1      100304       False   \n1                 2       918                  2      103526       False   \n2                 3       154                  3      104617       False   \n3                 4        55                  4      105392       False   \n4                 5        32                  5      105486       False   \n\n  ReviewDate                                           Feedback  \\\n0 2001-07-19  THE BREEZE BAND ARE THE BEST. THEY ARE NOT ONL...   \n1 1991-01-21                               EVRYTHING WENT GREAT   \n2 1991-02-15                                      BKD MIRAGE 91   \n3 1991-01-09                                    BKD MAINSTAY 91   \n4 1991-01-09                       BAND PLAYS REGULARLY AT CLUB   \n\n          CreatedDate  CreatedById  \n0 2006-06-07 09:03:58            0  \n1 2006-06-07 05:42:43            0  \n2 2006-06-07 02:25:48            0  \n3 2006-06-07 00:39:30            0  \n4 2006-06-07 00:19:13            0  \n\n"
        }
      ],
      "execution_count": 19,
      "metadata": {
        "gather": {
          "logged": 1741053737203
        }
      }
    },
    {
      "cell_type": "code",
      "source": [
        "print(df_venue.columns)\n",
        "print(df_venue.shape)\n",
        "df_venue.head()"
      ],
      "outputs": [
        {
          "output_type": "stream",
          "name": "stdout",
          "text": "Index(['VenueId', 'AgentId', 'Name', 'VenueSettingId', 'IsSettingCovered',\n       'MailingAddress1', 'MailingAddress2', 'MailingCity', 'MailingStateId',\n       'MailingZip', 'MailingCountryId', 'PhysicalAddress1',\n       'PhysicalAddress2', 'PhysicalCity', 'PhysicalStateId', 'PhysicalZip',\n       'PhysicalCountryId', 'Notes', 'IsActive', 'PresenterId', 'CreatedDate',\n       'CreatedById'],\n      dtype='object')\n(3502, 22)\n"
        },
        {
          "output_type": "execute_result",
          "execution_count": 18,
          "data": {
            "text/plain": "   VenueId  AgentId                               Name  VenueSettingId  \\\n0        1    141.0                     HILTON ATLANTA               3   \n1        2    141.0           MARRIOTT MARQUIS ATLANTA               3   \n2        3    430.0  Moreland Landing @ Palmetto Bluff               2   \n3        4    141.0        EVERGREEN CONFERENCE CENTER               3   \n4        5    141.0              MERCEDES-BENZ STADIUM               1   \n\n   IsSettingCovered                          MailingAddress1  \\\n0             False                  255 COURTLAND STREET NE   \n1             False              265 PEACHTREE CENTER AVENUE   \n2              True                            Moreland Road   \n3             False              EVERGREEN CONFERENCE CENTER   \n4             False  1414 ANDREW YOUNG INTERNATIONAL BLVD NW   \n\n    MailingAddress2     MailingCity  MailingStateId MailingZip  ...  \\\n0                           ATLANTA              11      30303  ...   \n1                           ATLANTA              11      30303  ...   \n2                          BLUFFTON              41      29910  ...   \n3  1 LAKEVIEW DRIVE  STONE MOUNTAIN              11      30086  ...   \n4                           ATLANTA              11      30313  ...   \n\n              PhysicalAddress2    PhysicalCity PhysicalStateId PhysicalZip  \\\n0                                      ATLANTA              11       30303   \n1  265 PEACHTREE CENTER AVENUE         ATLANTA              11       30303   \n2                                     BLUFFTON              41       29910   \n3             1 LAKEVIEW DRIVE  STONE MOUNTAIN              11       30086   \n4                                      ATLANTA              11       30313   \n\n   PhysicalCountryId                                              Notes  \\\n0                  1                                                      \n1                  1                                                      \n2                  1  all the way at the end of Moreland Road, can't...   \n3                  1                                                      \n4                  1                                                      \n\n   IsActive PresenterId             CreatedDate  CreatedById  \n0      True  10000011.0 2018-06-04 11:42:41.587          141  \n1      True   5787203.0 2018-06-04 11:46:28.407          141  \n2      True   8571076.0 2018-06-04 11:52:10.490          445  \n3      True   6061900.0 2018-06-04 11:55:11.247          141  \n4      True     32803.0 2018-06-04 11:56:29.607          141  \n\n[5 rows x 22 columns]",
            "text/html": "<div>\n<style scoped>\n    .dataframe tbody tr th:only-of-type {\n        vertical-align: middle;\n    }\n\n    .dataframe tbody tr th {\n        vertical-align: top;\n    }\n\n    .dataframe thead th {\n        text-align: right;\n    }\n</style>\n<table border=\"1\" class=\"dataframe\">\n  <thead>\n    <tr style=\"text-align: right;\">\n      <th></th>\n      <th>VenueId</th>\n      <th>AgentId</th>\n      <th>Name</th>\n      <th>VenueSettingId</th>\n      <th>IsSettingCovered</th>\n      <th>MailingAddress1</th>\n      <th>MailingAddress2</th>\n      <th>MailingCity</th>\n      <th>MailingStateId</th>\n      <th>MailingZip</th>\n      <th>...</th>\n      <th>PhysicalAddress2</th>\n      <th>PhysicalCity</th>\n      <th>PhysicalStateId</th>\n      <th>PhysicalZip</th>\n      <th>PhysicalCountryId</th>\n      <th>Notes</th>\n      <th>IsActive</th>\n      <th>PresenterId</th>\n      <th>CreatedDate</th>\n      <th>CreatedById</th>\n    </tr>\n  </thead>\n  <tbody>\n    <tr>\n      <th>0</th>\n      <td>1</td>\n      <td>141.0</td>\n      <td>HILTON ATLANTA</td>\n      <td>3</td>\n      <td>False</td>\n      <td>255 COURTLAND STREET NE</td>\n      <td></td>\n      <td>ATLANTA</td>\n      <td>11</td>\n      <td>30303</td>\n      <td>...</td>\n      <td></td>\n      <td>ATLANTA</td>\n      <td>11</td>\n      <td>30303</td>\n      <td>1</td>\n      <td></td>\n      <td>True</td>\n      <td>10000011.0</td>\n      <td>2018-06-04 11:42:41.587</td>\n      <td>141</td>\n    </tr>\n    <tr>\n      <th>1</th>\n      <td>2</td>\n      <td>141.0</td>\n      <td>MARRIOTT MARQUIS ATLANTA</td>\n      <td>3</td>\n      <td>False</td>\n      <td>265 PEACHTREE CENTER AVENUE</td>\n      <td></td>\n      <td>ATLANTA</td>\n      <td>11</td>\n      <td>30303</td>\n      <td>...</td>\n      <td>265 PEACHTREE CENTER AVENUE</td>\n      <td>ATLANTA</td>\n      <td>11</td>\n      <td>30303</td>\n      <td>1</td>\n      <td></td>\n      <td>True</td>\n      <td>5787203.0</td>\n      <td>2018-06-04 11:46:28.407</td>\n      <td>141</td>\n    </tr>\n    <tr>\n      <th>2</th>\n      <td>3</td>\n      <td>430.0</td>\n      <td>Moreland Landing @ Palmetto Bluff</td>\n      <td>2</td>\n      <td>True</td>\n      <td>Moreland Road</td>\n      <td></td>\n      <td>BLUFFTON</td>\n      <td>41</td>\n      <td>29910</td>\n      <td>...</td>\n      <td></td>\n      <td>BLUFFTON</td>\n      <td>41</td>\n      <td>29910</td>\n      <td>1</td>\n      <td>all the way at the end of Moreland Road, can't...</td>\n      <td>True</td>\n      <td>8571076.0</td>\n      <td>2018-06-04 11:52:10.490</td>\n      <td>445</td>\n    </tr>\n    <tr>\n      <th>3</th>\n      <td>4</td>\n      <td>141.0</td>\n      <td>EVERGREEN CONFERENCE CENTER</td>\n      <td>3</td>\n      <td>False</td>\n      <td>EVERGREEN CONFERENCE CENTER</td>\n      <td>1 LAKEVIEW DRIVE</td>\n      <td>STONE MOUNTAIN</td>\n      <td>11</td>\n      <td>30086</td>\n      <td>...</td>\n      <td>1 LAKEVIEW DRIVE</td>\n      <td>STONE MOUNTAIN</td>\n      <td>11</td>\n      <td>30086</td>\n      <td>1</td>\n      <td></td>\n      <td>True</td>\n      <td>6061900.0</td>\n      <td>2018-06-04 11:55:11.247</td>\n      <td>141</td>\n    </tr>\n    <tr>\n      <th>4</th>\n      <td>5</td>\n      <td>141.0</td>\n      <td>MERCEDES-BENZ STADIUM</td>\n      <td>1</td>\n      <td>False</td>\n      <td>1414 ANDREW YOUNG INTERNATIONAL BLVD NW</td>\n      <td></td>\n      <td>ATLANTA</td>\n      <td>11</td>\n      <td>30313</td>\n      <td>...</td>\n      <td></td>\n      <td>ATLANTA</td>\n      <td>11</td>\n      <td>30313</td>\n      <td>1</td>\n      <td></td>\n      <td>True</td>\n      <td>32803.0</td>\n      <td>2018-06-04 11:56:29.607</td>\n      <td>141</td>\n    </tr>\n  </tbody>\n</table>\n<p>5 rows × 22 columns</p>\n</div>"
          },
          "metadata": {}
        }
      ],
      "execution_count": 18,
      "metadata": {
        "gather": {
          "logged": 1741039894651
        }
      }
    },
    {
      "cell_type": "code",
      "source": [
        "print(df_presenter.columns)\n",
        "print(df_presenter.shape)\n",
        "df_presenter.head()"
      ],
      "outputs": [
        {
          "output_type": "stream",
          "name": "stdout",
          "text": "Index(['PresenterId', 'AgentId', 'AccountName', 'OrganizationName',\n       'PresenterTypeId', 'MailingAddress1', 'MailingAddress2', 'MailingCity',\n       'MailingStateId', 'MailingZip', 'MailingCountryId', 'PhysicalAddress1',\n       'PhysicalAddress2', 'PhysicalCity', 'PhysicalStateId', 'PhysicalZip',\n       'PhysicalCountryId', 'PhysicalGeoLatitude', 'PhysicalGeoLongitude',\n       'IsActive', 'CreatedDate', 'CreatedById', 'ParentPresenterId'],\n      dtype='object')\n(89911, 23)\n"
        },
        {
          "output_type": "execute_result",
          "execution_count": 19,
          "data": {
            "text/plain": "   PresenterId  AgentId                  AccountName OrganizationName  \\\n0            0      281                          ASD          Unknown   \n1            8      107  COLLEGE OF WILLIAM AND MARY    BETA THETA PI   \n2           32      443               WAKE SUPPLY CO          Unknown   \n3           82      435            MARRIOTT/RICHMOND          Unknown   \n4           85      253                    [Unknown]          Unknown   \n\n   PresenterTypeId                               MailingAddress1  \\\n0               99                                       Unknown   \n1               49                          700 UKROP WAY UNIT M   \n2                8  1700 JEFFREY ST                                \n3               99                                       Unknown   \n4               99                                       Unknown   \n\n             MailingAddress2   MailingCity  MailingStateId MailingZip  ...  \\\n0                    Unknown       Unknown             999    Unknown  ...   \n1  COLLEGE OF WILLIAM & MARY  WILLIAMSBURG              46    Unknown  ...   \n2                    Unknown       RALEIGH              28      27610  ...   \n3                    Unknown       Unknown             999    Unknown  ...   \n4                    Unknown       Unknown             999    Unknown  ...   \n\n   PhysicalCity PhysicalStateId PhysicalZip PhysicalCountryId  \\\n0       Unknown             999     Unknown                 1   \n1  WILLIAMSBURG              46     Unknown                 1   \n2       RALEIGH              28       27610                 1   \n3       Unknown             999     Unknown                 1   \n4       Unknown             999     Unknown                 1   \n\n   PhysicalGeoLatitude PhysicalGeoLongitude  IsActive  CreatedDate  \\\n0              35.7373           -80.770107     False   2016-11-10   \n1              37.2458           -76.697000      True   2012-06-04   \n2              35.7455           -78.546700     False   2003-12-30   \n3              35.7373           -80.770107     False   2012-04-11   \n4              35.7373           -80.770107     False   2009-06-12   \n\n   CreatedById  ParentPresenterId  \n0          281                  0  \n1          107                  0  \n2          443                  0  \n3          435                  0  \n4          253                  0  \n\n[5 rows x 23 columns]",
            "text/html": "<div>\n<style scoped>\n    .dataframe tbody tr th:only-of-type {\n        vertical-align: middle;\n    }\n\n    .dataframe tbody tr th {\n        vertical-align: top;\n    }\n\n    .dataframe thead th {\n        text-align: right;\n    }\n</style>\n<table border=\"1\" class=\"dataframe\">\n  <thead>\n    <tr style=\"text-align: right;\">\n      <th></th>\n      <th>PresenterId</th>\n      <th>AgentId</th>\n      <th>AccountName</th>\n      <th>OrganizationName</th>\n      <th>PresenterTypeId</th>\n      <th>MailingAddress1</th>\n      <th>MailingAddress2</th>\n      <th>MailingCity</th>\n      <th>MailingStateId</th>\n      <th>MailingZip</th>\n      <th>...</th>\n      <th>PhysicalCity</th>\n      <th>PhysicalStateId</th>\n      <th>PhysicalZip</th>\n      <th>PhysicalCountryId</th>\n      <th>PhysicalGeoLatitude</th>\n      <th>PhysicalGeoLongitude</th>\n      <th>IsActive</th>\n      <th>CreatedDate</th>\n      <th>CreatedById</th>\n      <th>ParentPresenterId</th>\n    </tr>\n  </thead>\n  <tbody>\n    <tr>\n      <th>0</th>\n      <td>0</td>\n      <td>281</td>\n      <td>ASD</td>\n      <td>Unknown</td>\n      <td>99</td>\n      <td>Unknown</td>\n      <td>Unknown</td>\n      <td>Unknown</td>\n      <td>999</td>\n      <td>Unknown</td>\n      <td>...</td>\n      <td>Unknown</td>\n      <td>999</td>\n      <td>Unknown</td>\n      <td>1</td>\n      <td>35.7373</td>\n      <td>-80.770107</td>\n      <td>False</td>\n      <td>2016-11-10</td>\n      <td>281</td>\n      <td>0</td>\n    </tr>\n    <tr>\n      <th>1</th>\n      <td>8</td>\n      <td>107</td>\n      <td>COLLEGE OF WILLIAM AND MARY</td>\n      <td>BETA THETA PI</td>\n      <td>49</td>\n      <td>700 UKROP WAY UNIT M</td>\n      <td>COLLEGE OF WILLIAM &amp; MARY</td>\n      <td>WILLIAMSBURG</td>\n      <td>46</td>\n      <td>Unknown</td>\n      <td>...</td>\n      <td>WILLIAMSBURG</td>\n      <td>46</td>\n      <td>Unknown</td>\n      <td>1</td>\n      <td>37.2458</td>\n      <td>-76.697000</td>\n      <td>True</td>\n      <td>2012-06-04</td>\n      <td>107</td>\n      <td>0</td>\n    </tr>\n    <tr>\n      <th>2</th>\n      <td>32</td>\n      <td>443</td>\n      <td>WAKE SUPPLY CO</td>\n      <td>Unknown</td>\n      <td>8</td>\n      <td>1700 JEFFREY ST</td>\n      <td>Unknown</td>\n      <td>RALEIGH</td>\n      <td>28</td>\n      <td>27610</td>\n      <td>...</td>\n      <td>RALEIGH</td>\n      <td>28</td>\n      <td>27610</td>\n      <td>1</td>\n      <td>35.7455</td>\n      <td>-78.546700</td>\n      <td>False</td>\n      <td>2003-12-30</td>\n      <td>443</td>\n      <td>0</td>\n    </tr>\n    <tr>\n      <th>3</th>\n      <td>82</td>\n      <td>435</td>\n      <td>MARRIOTT/RICHMOND</td>\n      <td>Unknown</td>\n      <td>99</td>\n      <td>Unknown</td>\n      <td>Unknown</td>\n      <td>Unknown</td>\n      <td>999</td>\n      <td>Unknown</td>\n      <td>...</td>\n      <td>Unknown</td>\n      <td>999</td>\n      <td>Unknown</td>\n      <td>1</td>\n      <td>35.7373</td>\n      <td>-80.770107</td>\n      <td>False</td>\n      <td>2012-04-11</td>\n      <td>435</td>\n      <td>0</td>\n    </tr>\n    <tr>\n      <th>4</th>\n      <td>85</td>\n      <td>253</td>\n      <td>[Unknown]</td>\n      <td>Unknown</td>\n      <td>99</td>\n      <td>Unknown</td>\n      <td>Unknown</td>\n      <td>Unknown</td>\n      <td>999</td>\n      <td>Unknown</td>\n      <td>...</td>\n      <td>Unknown</td>\n      <td>999</td>\n      <td>Unknown</td>\n      <td>1</td>\n      <td>35.7373</td>\n      <td>-80.770107</td>\n      <td>False</td>\n      <td>2009-06-12</td>\n      <td>253</td>\n      <td>0</td>\n    </tr>\n  </tbody>\n</table>\n<p>5 rows × 23 columns</p>\n</div>"
          },
          "metadata": {}
        }
      ],
      "execution_count": 19,
      "metadata": {
        "gather": {
          "logged": 1741039901475
        }
      }
    },
    {
      "cell_type": "code",
      "source": [
        "print(df_feedback.columns)\n",
        "print(df_feedback.shape)\n",
        "df_feedback.head()"
      ],
      "outputs": [
        {
          "output_type": "stream",
          "name": "stdout",
          "text": "Index(['ArtistFeedbackId', 'ArtistId', 'PresenterPortalId', 'ContractId',\n       'IsNegative', 'ReviewDate', 'Feedback', 'CreatedDate', 'CreatedById'],\n      dtype='object')\n(47430, 9)\n"
        },
        {
          "output_type": "execute_result",
          "execution_count": 20,
          "data": {
            "text/plain": "   ArtistFeedbackId  ArtistId  PresenterPortalId  ContractId  IsNegative  \\\n0                 1      3061                  1      100304       False   \n1                 2       918                  2      103526       False   \n2                 3       154                  3      104617       False   \n3                 4        55                  4      105392       False   \n4                 5        32                  5      105486       False   \n\n  ReviewDate                                           Feedback  \\\n0 2001-07-19  THE BREEZE BAND ARE THE BEST. THEY ARE NOT ONL...   \n1 1991-01-21                               EVRYTHING WENT GREAT   \n2 1991-02-15                                      BKD MIRAGE 91   \n3 1991-01-09                                    BKD MAINSTAY 91   \n4 1991-01-09                       BAND PLAYS REGULARLY AT CLUB   \n\n          CreatedDate  CreatedById  \n0 2006-06-07 09:03:58            0  \n1 2006-06-07 05:42:43            0  \n2 2006-06-07 02:25:48            0  \n3 2006-06-07 00:39:30            0  \n4 2006-06-07 00:19:13            0  ",
            "text/html": "<div>\n<style scoped>\n    .dataframe tbody tr th:only-of-type {\n        vertical-align: middle;\n    }\n\n    .dataframe tbody tr th {\n        vertical-align: top;\n    }\n\n    .dataframe thead th {\n        text-align: right;\n    }\n</style>\n<table border=\"1\" class=\"dataframe\">\n  <thead>\n    <tr style=\"text-align: right;\">\n      <th></th>\n      <th>ArtistFeedbackId</th>\n      <th>ArtistId</th>\n      <th>PresenterPortalId</th>\n      <th>ContractId</th>\n      <th>IsNegative</th>\n      <th>ReviewDate</th>\n      <th>Feedback</th>\n      <th>CreatedDate</th>\n      <th>CreatedById</th>\n    </tr>\n  </thead>\n  <tbody>\n    <tr>\n      <th>0</th>\n      <td>1</td>\n      <td>3061</td>\n      <td>1</td>\n      <td>100304</td>\n      <td>False</td>\n      <td>2001-07-19</td>\n      <td>THE BREEZE BAND ARE THE BEST. THEY ARE NOT ONL...</td>\n      <td>2006-06-07 09:03:58</td>\n      <td>0</td>\n    </tr>\n    <tr>\n      <th>1</th>\n      <td>2</td>\n      <td>918</td>\n      <td>2</td>\n      <td>103526</td>\n      <td>False</td>\n      <td>1991-01-21</td>\n      <td>EVRYTHING WENT GREAT</td>\n      <td>2006-06-07 05:42:43</td>\n      <td>0</td>\n    </tr>\n    <tr>\n      <th>2</th>\n      <td>3</td>\n      <td>154</td>\n      <td>3</td>\n      <td>104617</td>\n      <td>False</td>\n      <td>1991-02-15</td>\n      <td>BKD MIRAGE 91</td>\n      <td>2006-06-07 02:25:48</td>\n      <td>0</td>\n    </tr>\n    <tr>\n      <th>3</th>\n      <td>4</td>\n      <td>55</td>\n      <td>4</td>\n      <td>105392</td>\n      <td>False</td>\n      <td>1991-01-09</td>\n      <td>BKD MAINSTAY 91</td>\n      <td>2006-06-07 00:39:30</td>\n      <td>0</td>\n    </tr>\n    <tr>\n      <th>4</th>\n      <td>5</td>\n      <td>32</td>\n      <td>5</td>\n      <td>105486</td>\n      <td>False</td>\n      <td>1991-01-09</td>\n      <td>BAND PLAYS REGULARLY AT CLUB</td>\n      <td>2006-06-07 00:19:13</td>\n      <td>0</td>\n    </tr>\n  </tbody>\n</table>\n</div>"
          },
          "metadata": {}
        }
      ],
      "execution_count": 20,
      "metadata": {
        "gather": {
          "logged": 1741039907486
        }
      }
    },
    {
      "cell_type": "code",
      "source": [
        "print(df_bluecardartist.columns)\n",
        "print(df_bluecardartist.shape)\n",
        "df_bluecardartist.head()"
      ],
      "outputs": [
        {
          "output_type": "stream",
          "name": "stdout",
          "text": "Index(['BlueCardArtistId', 'BlueCardId', 'ArtistId', 'Gross', 'Net', 'Notes',\n       'IsDeleted', 'CreatedDate', 'CreatedById'],\n      dtype='object')\n(829413, 9)\n"
        },
        {
          "output_type": "execute_result",
          "execution_count": 21,
          "data": {
            "text/plain": "   BlueCardArtistId  BlueCardId  ArtistId   Gross  Net      Notes  IsDeleted  \\\n0                 1           0       136  3250.0  0.0    Unknown      False   \n1                 2           0       296  7750.0  0.0  w/ female      False   \n2                 3           0     11183     0.0  0.0    Unknown      False   \n3                 4           0     15104     0.0  0.0    Unknown      False   \n4                 5           0     15104     0.0  0.0    Unknown      False   \n\n              CreatedDate  CreatedById  \n0 2018-06-02 04:06:42.950            0  \n1 2018-06-02 04:06:42.950            0  \n2 2018-06-02 04:06:42.950            0  \n3 2018-06-02 04:06:42.950            0  \n4 2018-06-02 04:06:42.950            0  ",
            "text/html": "<div>\n<style scoped>\n    .dataframe tbody tr th:only-of-type {\n        vertical-align: middle;\n    }\n\n    .dataframe tbody tr th {\n        vertical-align: top;\n    }\n\n    .dataframe thead th {\n        text-align: right;\n    }\n</style>\n<table border=\"1\" class=\"dataframe\">\n  <thead>\n    <tr style=\"text-align: right;\">\n      <th></th>\n      <th>BlueCardArtistId</th>\n      <th>BlueCardId</th>\n      <th>ArtistId</th>\n      <th>Gross</th>\n      <th>Net</th>\n      <th>Notes</th>\n      <th>IsDeleted</th>\n      <th>CreatedDate</th>\n      <th>CreatedById</th>\n    </tr>\n  </thead>\n  <tbody>\n    <tr>\n      <th>0</th>\n      <td>1</td>\n      <td>0</td>\n      <td>136</td>\n      <td>3250.0</td>\n      <td>0.0</td>\n      <td>Unknown</td>\n      <td>False</td>\n      <td>2018-06-02 04:06:42.950</td>\n      <td>0</td>\n    </tr>\n    <tr>\n      <th>1</th>\n      <td>2</td>\n      <td>0</td>\n      <td>296</td>\n      <td>7750.0</td>\n      <td>0.0</td>\n      <td>w/ female</td>\n      <td>False</td>\n      <td>2018-06-02 04:06:42.950</td>\n      <td>0</td>\n    </tr>\n    <tr>\n      <th>2</th>\n      <td>3</td>\n      <td>0</td>\n      <td>11183</td>\n      <td>0.0</td>\n      <td>0.0</td>\n      <td>Unknown</td>\n      <td>False</td>\n      <td>2018-06-02 04:06:42.950</td>\n      <td>0</td>\n    </tr>\n    <tr>\n      <th>3</th>\n      <td>4</td>\n      <td>0</td>\n      <td>15104</td>\n      <td>0.0</td>\n      <td>0.0</td>\n      <td>Unknown</td>\n      <td>False</td>\n      <td>2018-06-02 04:06:42.950</td>\n      <td>0</td>\n    </tr>\n    <tr>\n      <th>4</th>\n      <td>5</td>\n      <td>0</td>\n      <td>15104</td>\n      <td>0.0</td>\n      <td>0.0</td>\n      <td>Unknown</td>\n      <td>False</td>\n      <td>2018-06-02 04:06:42.950</td>\n      <td>0</td>\n    </tr>\n  </tbody>\n</table>\n</div>"
          },
          "metadata": {}
        }
      ],
      "execution_count": 21,
      "metadata": {
        "gather": {
          "logged": 1741039911688
        }
      }
    },
    {
      "cell_type": "code",
      "source": [
        "print(df_genre.columns)\n",
        "print(df_genre.shape)\n",
        "df_genre.head()"
      ],
      "outputs": [
        {
          "output_type": "stream",
          "name": "stdout",
          "text": "Index(['GenreTypeId', 'Name', 'IsActive'], dtype='object')\n(137, 3)\n"
        },
        {
          "output_type": "execute_result",
          "execution_count": 22,
          "data": {
            "text/plain": "   GenreTypeId                     Name  IsActive\n0            1  A Cappella/Vocal Groups      True\n1            2                 Acrobats      True\n2            3                  African      True\n3            4       Animal/Circus Acts      True\n4            5             Audio Visual      True",
            "text/html": "<div>\n<style scoped>\n    .dataframe tbody tr th:only-of-type {\n        vertical-align: middle;\n    }\n\n    .dataframe tbody tr th {\n        vertical-align: top;\n    }\n\n    .dataframe thead th {\n        text-align: right;\n    }\n</style>\n<table border=\"1\" class=\"dataframe\">\n  <thead>\n    <tr style=\"text-align: right;\">\n      <th></th>\n      <th>GenreTypeId</th>\n      <th>Name</th>\n      <th>IsActive</th>\n    </tr>\n  </thead>\n  <tbody>\n    <tr>\n      <th>0</th>\n      <td>1</td>\n      <td>A Cappella/Vocal Groups</td>\n      <td>True</td>\n    </tr>\n    <tr>\n      <th>1</th>\n      <td>2</td>\n      <td>Acrobats</td>\n      <td>True</td>\n    </tr>\n    <tr>\n      <th>2</th>\n      <td>3</td>\n      <td>African</td>\n      <td>True</td>\n    </tr>\n    <tr>\n      <th>3</th>\n      <td>4</td>\n      <td>Animal/Circus Acts</td>\n      <td>True</td>\n    </tr>\n    <tr>\n      <th>4</th>\n      <td>5</td>\n      <td>Audio Visual</td>\n      <td>True</td>\n    </tr>\n  </tbody>\n</table>\n</div>"
          },
          "metadata": {}
        }
      ],
      "execution_count": 22,
      "metadata": {
        "gather": {
          "logged": 1741039915386
        }
      }
    },
    {
      "cell_type": "code",
      "source": [
        "print(df_act.columns)\n",
        "print(df_act.shape)\n",
        "df_act.head()"
      ],
      "outputs": [
        {
          "output_type": "stream",
          "name": "stdout",
          "text": "Index(['ActTypeId', 'Name', 'IsActive'], dtype='object')\n(11, 3)\n"
        },
        {
          "output_type": "execute_result",
          "execution_count": 23,
          "data": {
            "text/plain": "   ActTypeId           Name  IsActive\n0          1          Bands      True\n1          2      Classical      True\n2          3      Comedians      True\n3          4            DJs      True\n4          5  International      True",
            "text/html": "<div>\n<style scoped>\n    .dataframe tbody tr th:only-of-type {\n        vertical-align: middle;\n    }\n\n    .dataframe tbody tr th {\n        vertical-align: top;\n    }\n\n    .dataframe thead th {\n        text-align: right;\n    }\n</style>\n<table border=\"1\" class=\"dataframe\">\n  <thead>\n    <tr style=\"text-align: right;\">\n      <th></th>\n      <th>ActTypeId</th>\n      <th>Name</th>\n      <th>IsActive</th>\n    </tr>\n  </thead>\n  <tbody>\n    <tr>\n      <th>0</th>\n      <td>1</td>\n      <td>Bands</td>\n      <td>True</td>\n    </tr>\n    <tr>\n      <th>1</th>\n      <td>2</td>\n      <td>Classical</td>\n      <td>True</td>\n    </tr>\n    <tr>\n      <th>2</th>\n      <td>3</td>\n      <td>Comedians</td>\n      <td>True</td>\n    </tr>\n    <tr>\n      <th>3</th>\n      <td>4</td>\n      <td>DJs</td>\n      <td>True</td>\n    </tr>\n    <tr>\n      <th>4</th>\n      <td>5</td>\n      <td>International</td>\n      <td>True</td>\n    </tr>\n  </tbody>\n</table>\n</div>"
          },
          "metadata": {}
        }
      ],
      "execution_count": 23,
      "metadata": {
        "gather": {
          "logged": 1741039918919
        }
      }
    },
    {
      "cell_type": "markdown",
      "source": [
        "## Content Filtering"
      ],
      "metadata": {
        "nteract": {
          "transient": {
            "deleting": false
          }
        }
      }
    },
    {
      "cell_type": "markdown",
      "source": [
        "### Artist Recommendation System using content-based filtering with TF-IDF and cosine similarity.\n",
        "\n",
        "**Steps in the Code:**\n",
        "- 1. Preprocess Data: Combine relevant artist features (Name, Genre, Location, Feedback).\n",
        "- 2. Vectorize Text Features: Convert artist text data into numerical form using TF-IDF.\n",
        "- 3. Compute Similarity: Use cosine similarity to find similar artists.\n",
        "- 4. Recommend Artists: Retrieve top N most similar artists."
      ],
      "metadata": {
        "nteract": {
          "transient": {
            "deleting": false
          }
        }
      }
    },
    {
      "cell_type": "markdown",
      "source": [
        "**Step1**"
      ],
      "metadata": {
        "nteract": {
          "transient": {
            "deleting": false
          }
        }
      }
    },
    {
      "cell_type": "code",
      "source": [
        "import pandas as pd\n",
        "\n",
        "# Make a copy of the artist dataframe\n",
        "df_artist = artist_df.copy()\n",
        "\n",
        "\n",
        "\n",
        "# Combine important textual features to create a unified content representation\n",
        "df_artist['combined_features'] = (\n",
        "    df_artist['Name'] + \" \" + \n",
        "    df_artist['PhysicalAddressCity'] + \" \" + \n",
        "    df_artist['IsNational'].astype(str) + \" \" + \n",
        "    df_artist['IsExclusive'].astype(str)\n",
        ")\n",
        "\n",
        "# Display the combined features\n",
        "df_artist[['Name', 'combined_features']].head()\n"
      ],
      "outputs": [
        {
          "output_type": "execute_result",
          "execution_count": 20,
          "data": {
            "text/plain": "                  Name                            combined_features\n0                    O                       O RICHMOND False False\n1        GROOVE DELUXE          GROOVE DELUXE ROCK HILL False False\n2  QUINTON PARKER BAND      QUINTON PARKER BAND ASHLAND False False\n3  BILL BOLEN BAND (4)  BILL BOLEN BAND (4) CHAPEL HILL False False\n4       88 KEYS WILSON   88 KEYS WILSON CHARLOTTESVILLE False False",
            "text/html": "<div>\n<style scoped>\n    .dataframe tbody tr th:only-of-type {\n        vertical-align: middle;\n    }\n\n    .dataframe tbody tr th {\n        vertical-align: top;\n    }\n\n    .dataframe thead th {\n        text-align: right;\n    }\n</style>\n<table border=\"1\" class=\"dataframe\">\n  <thead>\n    <tr style=\"text-align: right;\">\n      <th></th>\n      <th>Name</th>\n      <th>combined_features</th>\n    </tr>\n  </thead>\n  <tbody>\n    <tr>\n      <th>0</th>\n      <td>O</td>\n      <td>O RICHMOND False False</td>\n    </tr>\n    <tr>\n      <th>1</th>\n      <td>GROOVE DELUXE</td>\n      <td>GROOVE DELUXE ROCK HILL False False</td>\n    </tr>\n    <tr>\n      <th>2</th>\n      <td>QUINTON PARKER BAND</td>\n      <td>QUINTON PARKER BAND ASHLAND False False</td>\n    </tr>\n    <tr>\n      <th>3</th>\n      <td>BILL BOLEN BAND (4)</td>\n      <td>BILL BOLEN BAND (4) CHAPEL HILL False False</td>\n    </tr>\n    <tr>\n      <th>4</th>\n      <td>88 KEYS WILSON</td>\n      <td>88 KEYS WILSON CHARLOTTESVILLE False False</td>\n    </tr>\n  </tbody>\n</table>\n</div>"
          },
          "metadata": {}
        }
      ],
      "execution_count": 20,
      "metadata": {
        "gather": {
          "logged": 1741053760298
        }
      }
    },
    {
      "cell_type": "markdown",
      "source": [
        "**Step2**"
      ],
      "metadata": {
        "nteract": {
          "transient": {
            "deleting": false
          }
        }
      }
    },
    {
      "cell_type": "code",
      "source": [
        "from sklearn.feature_extraction.text import TfidfVectorizer\n",
        "\n",
        "# Initialize TF-IDF vectorizer (removes common stopwords)\n",
        "vectorizer = TfidfVectorizer(stop_words='english')\n",
        "\n",
        "# Transform the combined text features into a numerical TF-IDF matrix\n",
        "tfidf_matrix = vectorizer.fit_transform(df_artist['combined_features'])\n",
        "\n",
        "# Print the shape of the TF-IDF matrix to confirm it worked\n",
        "print(f\"TF-IDF Matrix Shape: {tfidf_matrix.shape}\")\n"
      ],
      "outputs": [
        {
          "output_type": "stream",
          "name": "stdout",
          "text": "TF-IDF Matrix Shape: (23590, 17071)\n"
        }
      ],
      "execution_count": 21,
      "metadata": {
        "gather": {
          "logged": 1741053764984
        }
      }
    },
    {
      "cell_type": "markdown",
      "source": [
        "**Step3**"
      ],
      "metadata": {
        "nteract": {
          "transient": {
            "deleting": false
          }
        }
      }
    },
    {
      "cell_type": "code",
      "source": [
        "from sklearn.metrics.pairwise import cosine_similarity\n",
        "\n",
        "# Compute cosine similarity between artist feature vectors\n",
        "artist_similarity = cosine_similarity(tfidf_matrix)\n",
        "\n",
        "# Print similarity matrix shape\n",
        "print(f\"Artist Similarity Matrix Shape: {artist_similarity.shape}\")\n"
      ],
      "outputs": [
        {
          "output_type": "stream",
          "name": "stdout",
          "text": "Artist Similarity Matrix Shape: (23590, 23590)\n"
        }
      ],
      "execution_count": 22,
      "metadata": {
        "gather": {
          "logged": 1741053876650
        }
      }
    },
    {
      "cell_type": "code",
      "source": [
        "artist_similarity"
      ],
      "outputs": [
        {
          "output_type": "execute_result",
          "execution_count": 32,
          "data": {
            "text/plain": "array([[1.        , 0.06519239, 0.06078754, ..., 0.0731173 , 0.02418068,\n        0.06787655],\n       [0.06519239, 1.        , 0.01841539, ..., 0.02215065, 0.00732546,\n        0.02056298],\n       [0.06078754, 0.01841539, 1.        , ..., 0.020654  , 0.0068305 ,\n        0.0191736 ],\n       ...,\n       [0.0731173 , 0.02215065, 0.020654  , ..., 1.        , 0.00821595,\n        0.02306265],\n       [0.02418068, 0.00732546, 0.0068305 , ..., 0.00821595, 1.        ,\n        0.58104129],\n       [0.06787655, 0.02056298, 0.0191736 , ..., 0.02306265, 0.58104129,\n        1.        ]])"
          },
          "metadata": {}
        }
      ],
      "execution_count": 32,
      "metadata": {
        "gather": {
          "logged": 1741054855732
        }
      }
    },
    {
      "cell_type": "markdown",
      "source": [
        "**Step4**"
      ],
      "metadata": {
        "nteract": {
          "transient": {
            "deleting": false
          }
        }
      }
    },
    {
      "cell_type": "code",
      "source": [
        "def recommend_artists(artist_name, df, similarity_matrix, top_n=5):\n",
        "    \"\"\" Recommends similar artists based on content similarity. \"\"\"\n",
        "    \n",
        "    # Ensure the artist exists in the dataset\n",
        "    if artist_name not in df['Name'].values:\n",
        "        print(\"Artist not found in the dataset!\")\n",
        "        return []\n",
        "\n",
        "    # Find index of the given artist\n",
        "    idx = df[df['Name'] == artist_name].index[0]\n",
        "\n",
        "    # Get similarity scores for all artists\n",
        "    scores = list(enumerate(similarity_matrix[idx]))\n",
        "    \n",
        "    # Sort scores in descending order (highest similarity first)\n",
        "    scores = sorted(scores, key=lambda x: x[1], reverse=True)\n",
        "    \n",
        "    # Get indices of the top N most similar artists (excluding itself)\n",
        "    recommended_indices = [i[0] for i in scores[1:top_n+1]]\n",
        "\n",
        "    # Return recommended artists\n",
        "    return df.iloc[recommended_indices][['Name', 'PhysicalAddressCity', 'IsNational', 'IsExclusive']]\n"
      ],
      "outputs": [],
      "execution_count": 30,
      "metadata": {
        "gather": {
          "logged": 1741054374519
        }
      }
    },
    {
      "cell_type": "code",
      "source": [
        "def get_similarity_score(artist_name, artist_df, artist_similarity):\n",
        "    if artist_name not in artist_df['Name'].values:\n",
        "        return None  # If artist is not found in dataset\n",
        "\n",
        "    # Get index of artist in dataframe\n",
        "    artist_idx = artist_df[artist_df['Name'] == artist_name].index[0]\n",
        "\n",
        "    # Extract similarity scores\n",
        "    similarity_scores = artist_similarity[artist_idx]\n",
        "\n",
        "    return similarity_scores[artist_idx]  # Self-similarity\n"
      ],
      "outputs": [],
      "execution_count": 33,
      "metadata": {
        "gather": {
          "logged": 1741055123599
        }
      }
    },
    {
      "cell_type": "code",
      "source": [],
      "outputs": [],
      "execution_count": null,
      "metadata": {}
    },
    {
      "cell_type": "markdown",
      "source": [
        "#### Testing the Recommendation system"
      ],
      "metadata": {
        "nteract": {
          "transient": {
            "deleting": false
          }
        }
      }
    },
    {
      "cell_type": "code",
      "source": [
        "# Choose an artist for testing\n",
        "artist_name = \"AFTER 6\"  # Replace with an artist from your dataset\n",
        "\n",
        "# Get recommendations\n",
        "recommended_artists = recommend_artists(artist_name, df_artist, artist_similarity, top_n=5)\n",
        "\n",
        "recommend_artists\n"
      ],
      "outputs": [
        {
          "output_type": "execute_result",
          "execution_count": 31,
          "data": {
            "text/plain": "               Name PhysicalAddressCity  IsNational  IsExclusive\n321     FULL CIRCLE           ROCK HILL       False        False\n11003       FANTASY           ROCK HILL       False         True\n543           PLAIR           ROCK HILL       False        False\n3827   THE EMERALDS           ROCK HILL       False        False\n9543      KINGDADDY           ROCK HILL       False        False",
            "text/html": "<div>\n<style scoped>\n    .dataframe tbody tr th:only-of-type {\n        vertical-align: middle;\n    }\n\n    .dataframe tbody tr th {\n        vertical-align: top;\n    }\n\n    .dataframe thead th {\n        text-align: right;\n    }\n</style>\n<table border=\"1\" class=\"dataframe\">\n  <thead>\n    <tr style=\"text-align: right;\">\n      <th></th>\n      <th>Name</th>\n      <th>PhysicalAddressCity</th>\n      <th>IsNational</th>\n      <th>IsExclusive</th>\n    </tr>\n  </thead>\n  <tbody>\n    <tr>\n      <th>321</th>\n      <td>FULL CIRCLE</td>\n      <td>ROCK HILL</td>\n      <td>False</td>\n      <td>False</td>\n    </tr>\n    <tr>\n      <th>11003</th>\n      <td>FANTASY</td>\n      <td>ROCK HILL</td>\n      <td>False</td>\n      <td>True</td>\n    </tr>\n    <tr>\n      <th>543</th>\n      <td>PLAIR</td>\n      <td>ROCK HILL</td>\n      <td>False</td>\n      <td>False</td>\n    </tr>\n    <tr>\n      <th>3827</th>\n      <td>THE EMERALDS</td>\n      <td>ROCK HILL</td>\n      <td>False</td>\n      <td>False</td>\n    </tr>\n    <tr>\n      <th>9543</th>\n      <td>KINGDADDY</td>\n      <td>ROCK HILL</td>\n      <td>False</td>\n      <td>False</td>\n    </tr>\n  </tbody>\n</table>\n</div>"
          },
          "metadata": {}
        }
      ],
      "execution_count": 31,
      "metadata": {
        "gather": {
          "logged": 1741054380578
        }
      }
    },
    {
      "cell_type": "code",
      "source": [
        "import pandas as pd\n",
        "import numpy as np\n",
        "\n",
        "# Assume artist_index is the row index of the input artist in the similarity matrix\n",
        "artist_index = 3  # Example artist row in matrix\n",
        "\n",
        "# Extract similarity scores for the given artist\n",
        "similarity_scores = list(enumerate(artist_similarity[artist_index]))\n",
        "\n",
        "# Sort recommendations by similarity score (descending order) and exclude the first entry (the artist itself)\n",
        "sorted_similar_artists = sorted(similarity_scores, key=lambda x: x[1], reverse=True)[1:11]\n",
        "\n",
        "# Extract artist indices and their similarity scores\n",
        "recommended_indices = [i[0] for i in sorted_similar_artists]\n",
        "similarity_values = [i[1] for i in sorted_similar_artists]\n",
        "\n",
        "# Select only the \"Name\" column from artist_df for recommended artists\n",
        "recommended_artists = artist_df.iloc[recommended_indices][[\"Name\"]].copy()\n",
        "\n",
        "# Add similarity scores to the dataframe\n",
        "recommended_artists[\"Similarity Score\"] = similarity_values\n",
        "\n",
        "# Reset index for cleaner display\n",
        "recommended_artists.reset_index(drop=True, inplace=True)\n",
        "\n",
        "# Display the result\n",
        "recommended_artists\n"
      ],
      "outputs": [
        {
          "output_type": "execute_result",
          "execution_count": 46,
          "data": {
            "text/plain": "                      Name  Similarity Score\n0          BILL BOLEN BAND          1.000000\n1          BILL BOLEN SOLO          0.865877\n2     BILL BOLEN JAZZ TRIO          0.820024\n3           THE DREAM BAND          0.539166\n4        REALITY SHOW BAND          0.528303\n5          SWING CITY BAND          0.519508\n6                  MEMPHIS          0.517324\n7     PART TIME PARTY BAND          0.505573\n8           THE TROUT BAND          0.489105\n9  THE FABULOUS DANCE BAND          0.480303",
            "text/html": "<div>\n<style scoped>\n    .dataframe tbody tr th:only-of-type {\n        vertical-align: middle;\n    }\n\n    .dataframe tbody tr th {\n        vertical-align: top;\n    }\n\n    .dataframe thead th {\n        text-align: right;\n    }\n</style>\n<table border=\"1\" class=\"dataframe\">\n  <thead>\n    <tr style=\"text-align: right;\">\n      <th></th>\n      <th>Name</th>\n      <th>Similarity Score</th>\n    </tr>\n  </thead>\n  <tbody>\n    <tr>\n      <th>0</th>\n      <td>BILL BOLEN BAND</td>\n      <td>1.000000</td>\n    </tr>\n    <tr>\n      <th>1</th>\n      <td>BILL BOLEN SOLO</td>\n      <td>0.865877</td>\n    </tr>\n    <tr>\n      <th>2</th>\n      <td>BILL BOLEN JAZZ TRIO</td>\n      <td>0.820024</td>\n    </tr>\n    <tr>\n      <th>3</th>\n      <td>THE DREAM BAND</td>\n      <td>0.539166</td>\n    </tr>\n    <tr>\n      <th>4</th>\n      <td>REALITY SHOW BAND</td>\n      <td>0.528303</td>\n    </tr>\n    <tr>\n      <th>5</th>\n      <td>SWING CITY BAND</td>\n      <td>0.519508</td>\n    </tr>\n    <tr>\n      <th>6</th>\n      <td>MEMPHIS</td>\n      <td>0.517324</td>\n    </tr>\n    <tr>\n      <th>7</th>\n      <td>PART TIME PARTY BAND</td>\n      <td>0.505573</td>\n    </tr>\n    <tr>\n      <th>8</th>\n      <td>THE TROUT BAND</td>\n      <td>0.489105</td>\n    </tr>\n    <tr>\n      <th>9</th>\n      <td>THE FABULOUS DANCE BAND</td>\n      <td>0.480303</td>\n    </tr>\n  </tbody>\n</table>\n</div>"
          },
          "metadata": {}
        }
      ],
      "execution_count": 46,
      "metadata": {
        "gather": {
          "logged": 1741056328940
        }
      }
    },
    {
      "cell_type": "markdown",
      "source": [
        "### Artist-to-Venue Recommendations "
      ],
      "metadata": {
        "nteract": {
          "transient": {
            "deleting": false
          }
        }
      }
    },
    {
      "cell_type": "markdown",
      "source": [
        " **Step 1:  Prepare Separate Feature Vectors** "
      ],
      "metadata": {
        "nteract": {
          "transient": {
            "deleting": false
          }
        }
      }
    },
    {
      "cell_type": "code",
      "source": [
        "# Ensure 'ArtistId' is common between df_artist and df_bluecardartist\n",
        "artist_revenue = df_bluecardartist.groupby('ArtistId')['Gross'].sum().reset_index()\n",
        "artist_revenue.rename(columns={'Gross': 'Total Revenue'}, inplace=True)\n"
      ],
      "outputs": [],
      "execution_count": 50,
      "metadata": {
        "gather": {
          "logged": 1741058733672
        }
      }
    },
    {
      "cell_type": "code",
      "source": [
        "df_artist = df_artist.merge(artist_revenue, on='ArtistId', how='left')\n",
        "\n",
        "# Fill NaN values with 0 (if an artist has no revenue record)\n",
        "df_artist['Total Revenue'] = df_artist['Total Revenue'].fillna(0)\n"
      ],
      "outputs": [],
      "execution_count": 52,
      "metadata": {
        "gather": {
          "logged": 1741058763220
        }
      }
    },
    {
      "cell_type": "code",
      "source": [
        "# Count total feedback per artist\n",
        "total_feedback = df_feedback.groupby(\"ArtistId\")[\"IsNegative\"].count().reset_index()\n",
        "total_feedback.rename(columns={\"IsNegative\": \"Total Feedback\"}, inplace=True)\n",
        "\n",
        "# Count positive feedback per artist (where IsNegative=False)\n",
        "positive_feedback = df_feedback[df_feedback[\"IsNegative\"] == False].groupby(\"ArtistId\")[\"IsNegative\"].count().reset_index()\n",
        "positive_feedback.rename(columns={\"IsNegative\": \"Positive Feedback\"}, inplace=True)\n",
        "\n",
        "# Merge total and positive feedback counts\n",
        "feedback_stats = total_feedback.merge(positive_feedback, on=\"ArtistId\", how=\"left\").fillna(0)\n",
        "\n",
        "# Compute Positive Feedback Ratio\n",
        "feedback_stats[\"Positive Feedback Ratio\"] = feedback_stats[\"Positive Feedback\"] / feedback_stats[\"Total Feedback\"]\n",
        "\n",
        "# Fill NaN values (artists without feedback) with 0\n",
        "feedback_stats[\"Positive Feedback Ratio\"] = feedback_stats[\"Positive Feedback Ratio\"].fillna(0)\n"
      ],
      "outputs": [],
      "execution_count": 54,
      "metadata": {
        "gather": {
          "logged": 1741058848583
        }
      }
    },
    {
      "cell_type": "code",
      "source": [
        "df_artist = df_artist.merge(feedback_stats[[\"ArtistId\", \"Positive Feedback Ratio\"]], on=\"ArtistId\", how=\"left\")\n",
        "\n",
        "# Fill missing values with 0 (for artists without feedback)\n",
        "df_artist[\"Positive Feedback Ratio\"] = df_artist[\"Positive Feedback Ratio\"].fillna(0)\n"
      ],
      "outputs": [],
      "execution_count": 55,
      "metadata": {
        "gather": {
          "logged": 1741058863900
        }
      }
    },
    {
      "cell_type": "code",
      "source": [
        "df_artist['combined_features'] = (\n",
        "    df_artist['Name'] + \" \" +\n",
        "    df_artist['PhysicalAddressCity'].fillna(\"\") + \" \" +\n",
        "    df_artist['IsNational'].astype(str) + \" \" +\n",
        "    df_artist['IsExclusive'].astype(str) + \" \" +\n",
        "    df_artist['Total Revenue'].astype(str) + \" \" +  # From df_bluecardartist\n",
        "    df_artist['Positive Feedback Ratio'].astype(str)  # From df_feedback\n",
        ")\n"
      ],
      "outputs": [],
      "execution_count": 56,
      "metadata": {
        "gather": {
          "logged": 1741058875765
        }
      }
    },
    {
      "cell_type": "code",
      "source": [
        "df_venue['combined_features'] = (\n",
        "    df_venue['Name'] + \" \" +\n",
        "    df_venue['MailingCity'].fillna(\"\") + \" \" +\n",
        "    df_venue['MailingStateId'].astype(str) + \" \" +\n",
        "    df_venue['PresenterId'].astype(str)  # Include presenter info\n",
        ")\n"
      ],
      "outputs": [],
      "execution_count": 57,
      "metadata": {
        "gather": {
          "logged": 1741059108391
        }
      }
    },
    {
      "cell_type": "code",
      "source": [
        "from sklearn.feature_extraction.text import TfidfVectorizer\n",
        "from sklearn.metrics.pairwise import cosine_similarity\n",
        "\n",
        "# TF-IDF Vectorizer\n",
        "vectorizer = TfidfVectorizer(stop_words='english')\n",
        "\n",
        "# Fit & transform both artist and venue features\n",
        "artist_tfidf = vectorizer.fit_transform(df_artist['combined_features'])\n",
        "venue_tfidf = vectorizer.transform(df_venue['combined_features'])\n",
        "\n",
        "# Compute cosine similarity between artists & venues\n",
        "artist_venue_similarity = cosine_similarity(artist_tfidf, venue_tfidf)\n",
        "\n",
        "print(\"Shape of Artist-Venue Similarity Matrix:\", artist_venue_similarity.shape)\n"
      ],
      "outputs": [
        {
          "output_type": "stream",
          "name": "stdout",
          "text": "Shape of Artist-Venue Similarity Matrix: (23590, 3502)\n"
        }
      ],
      "execution_count": 58,
      "metadata": {
        "gather": {
          "logged": 1741059140498
        }
      }
    },
    {
      "cell_type": "code",
      "source": [
        "def recommend_venues_for_artist(artist_index, top_n=5):\n",
        "    # Get similarity scores for the given artist\n",
        "    similarity_scores = list(enumerate(artist_venue_similarity[artist_index]))\n",
        "\n",
        "    # Sort venues based on similarity scores\n",
        "    sorted_venues = sorted(similarity_scores, key=lambda x: x[1], reverse=True)\n",
        "\n",
        "    # Get the top N venues\n",
        "    top_venues = sorted_venues[:top_n]\n",
        "\n",
        "    # Extract venue details\n",
        "    recommended_venues = df_venue.iloc[[i[0] for i in top_venues]].copy()\n",
        "    recommended_venues[\"Similarity Score\"] = [i[1] for i in top_venues]\n",
        "\n",
        "    return recommended_venues[['VenueId', 'Name', 'MailingCity', 'MailingStateId', 'Similarity Score']]\n",
        "\n",
        "# Example: Recommend venues for the first artist in df_artist\n",
        "artist_index = 3  # Change this to any artist index\n",
        "recommended_venues = recommend_venues_for_artist(artist_index, top_n=5)\n",
        "recommended_venues\n"
      ],
      "outputs": [
        {
          "output_type": "execute_result",
          "execution_count": 59,
          "data": {
            "text/plain": "      VenueId                                  Name  MailingCity  \\\n634       635                  THE BARN AT VALHALLA  CHAPEL HILL   \n773       774                                UNC/CH  CHAPEL HILL   \n1455     1456               THE BARN OF CHAPEL HILL  CHAPEL HILL   \n565       566  TOP OF THE HILL RESTAURANT & BREWERY  CHAPEL HILL   \n1793     1794              CHAPEL HILL COUNTRY CLUB  CHAPEL HILL   \n\n      MailingStateId  Similarity Score  \n634               28          0.526199  \n773               28          0.526199  \n1455              28          0.526199  \n565               28          0.497586  \n1793              28          0.445660  ",
            "text/html": "<div>\n<style scoped>\n    .dataframe tbody tr th:only-of-type {\n        vertical-align: middle;\n    }\n\n    .dataframe tbody tr th {\n        vertical-align: top;\n    }\n\n    .dataframe thead th {\n        text-align: right;\n    }\n</style>\n<table border=\"1\" class=\"dataframe\">\n  <thead>\n    <tr style=\"text-align: right;\">\n      <th></th>\n      <th>VenueId</th>\n      <th>Name</th>\n      <th>MailingCity</th>\n      <th>MailingStateId</th>\n      <th>Similarity Score</th>\n    </tr>\n  </thead>\n  <tbody>\n    <tr>\n      <th>634</th>\n      <td>635</td>\n      <td>THE BARN AT VALHALLA</td>\n      <td>CHAPEL HILL</td>\n      <td>28</td>\n      <td>0.526199</td>\n    </tr>\n    <tr>\n      <th>773</th>\n      <td>774</td>\n      <td>UNC/CH</td>\n      <td>CHAPEL HILL</td>\n      <td>28</td>\n      <td>0.526199</td>\n    </tr>\n    <tr>\n      <th>1455</th>\n      <td>1456</td>\n      <td>THE BARN OF CHAPEL HILL</td>\n      <td>CHAPEL HILL</td>\n      <td>28</td>\n      <td>0.526199</td>\n    </tr>\n    <tr>\n      <th>565</th>\n      <td>566</td>\n      <td>TOP OF THE HILL RESTAURANT &amp; BREWERY</td>\n      <td>CHAPEL HILL</td>\n      <td>28</td>\n      <td>0.497586</td>\n    </tr>\n    <tr>\n      <th>1793</th>\n      <td>1794</td>\n      <td>CHAPEL HILL COUNTRY CLUB</td>\n      <td>CHAPEL HILL</td>\n      <td>28</td>\n      <td>0.445660</td>\n    </tr>\n  </tbody>\n</table>\n</div>"
          },
          "metadata": {}
        }
      ],
      "execution_count": 59,
      "metadata": {
        "gather": {
          "logged": 1741059257146
        }
      }
    },
    {
      "cell_type": "code",
      "source": [
        "def recommend_venues_for_artist(artist_name, top_n=5):\n",
        "    # Find the artist index from their name\n",
        "    artist_index = df_artist[df_artist['Name'].str.lower() == artist_name.lower()].index\n",
        "\n",
        "    if len(artist_index) == 0:\n",
        "        print(f\"Artist '{artist_name}' not found in dataset.\")\n",
        "        return None\n",
        "    \n",
        "    artist_index = artist_index[0]  # Get the first match\n",
        "    \n",
        "    # Get similarity scores for the given artist\n",
        "    similarity_scores = list(enumerate(artist_venue_similarity[artist_index]))\n",
        "\n",
        "    # Sort venues based on similarity scores\n",
        "    sorted_venues = sorted(similarity_scores, key=lambda x: x[1], reverse=True)\n",
        "\n",
        "    # Get the top N venues\n",
        "    top_venues = sorted_venues[:top_n]\n",
        "\n",
        "    # Extract venue details\n",
        "    recommended_venues = df_venue.iloc[[i[0] for i in top_venues]].copy()\n",
        "    recommended_venues[\"Similarity Score\"] = [i[1] for i in top_venues]\n",
        "\n",
        "    return recommended_venues[['VenueId', 'Name', 'MailingCity', 'MailingStateId', 'Similarity Score']]\n",
        "\n",
        "# Example: Recommend venues for \"GROOVE DELUXE\"\n",
        "artist_name = \"GROOVE DELUXE\"\n",
        "recommended_venues = recommend_venues_for_artist(artist_name, top_n=5)\n",
        "recommended_venues\n"
      ],
      "outputs": [
        {
          "output_type": "execute_result",
          "execution_count": 60,
          "data": {
            "text/plain": "      VenueId                                  Name  MailingCity  \\\n2276     2277               Brakefield at Riverwalk    Rock Hill   \n1023     1024                Rock Hill Country Club    Rock Hill   \n2940     2941                        The White Home    Rock Hill   \n565       566  TOP OF THE HILL RESTAURANT & BREWERY  CHAPEL HILL   \n914       915                     THE MAGNOLIA ROOM    Rock Hill   \n\n      MailingStateId  Similarity Score  \n2276              41          0.588259  \n1023              41          0.499915  \n2940              41          0.352713  \n565               28          0.338342  \n914               41          0.328631  ",
            "text/html": "<div>\n<style scoped>\n    .dataframe tbody tr th:only-of-type {\n        vertical-align: middle;\n    }\n\n    .dataframe tbody tr th {\n        vertical-align: top;\n    }\n\n    .dataframe thead th {\n        text-align: right;\n    }\n</style>\n<table border=\"1\" class=\"dataframe\">\n  <thead>\n    <tr style=\"text-align: right;\">\n      <th></th>\n      <th>VenueId</th>\n      <th>Name</th>\n      <th>MailingCity</th>\n      <th>MailingStateId</th>\n      <th>Similarity Score</th>\n    </tr>\n  </thead>\n  <tbody>\n    <tr>\n      <th>2276</th>\n      <td>2277</td>\n      <td>Brakefield at Riverwalk</td>\n      <td>Rock Hill</td>\n      <td>41</td>\n      <td>0.588259</td>\n    </tr>\n    <tr>\n      <th>1023</th>\n      <td>1024</td>\n      <td>Rock Hill Country Club</td>\n      <td>Rock Hill</td>\n      <td>41</td>\n      <td>0.499915</td>\n    </tr>\n    <tr>\n      <th>2940</th>\n      <td>2941</td>\n      <td>The White Home</td>\n      <td>Rock Hill</td>\n      <td>41</td>\n      <td>0.352713</td>\n    </tr>\n    <tr>\n      <th>565</th>\n      <td>566</td>\n      <td>TOP OF THE HILL RESTAURANT &amp; BREWERY</td>\n      <td>CHAPEL HILL</td>\n      <td>28</td>\n      <td>0.338342</td>\n    </tr>\n    <tr>\n      <th>914</th>\n      <td>915</td>\n      <td>THE MAGNOLIA ROOM</td>\n      <td>Rock Hill</td>\n      <td>41</td>\n      <td>0.328631</td>\n    </tr>\n  </tbody>\n</table>\n</div>"
          },
          "metadata": {}
        }
      ],
      "execution_count": 60,
      "metadata": {
        "gather": {
          "logged": 1741059648695
        }
      }
    },
    {
      "cell_type": "markdown",
      "source": [
        "### Evaluation"
      ],
      "metadata": {
        "nteract": {
          "transient": {
            "deleting": false
          }
        }
      }
    },
    {
      "cell_type": "code",
      "source": [
        "def precision_at_k(recommended_venues, actual_venues, k=5):\n",
        "    \"\"\"\n",
        "    Computes Precision at K (P@K) given the recommended and actual venues.\n",
        "    \"\"\"\n",
        "    recommended_set = set(recommended_venues[:k])\n",
        "    actual_set = set(actual_venues)\n",
        "    \n",
        "    precision = len(recommended_set & actual_set) / k\n",
        "    return precision\n"
      ],
      "outputs": [],
      "execution_count": 28,
      "metadata": {
        "gather": {
          "logged": 1741042091810
        }
      }
    },
    {
      "cell_type": "code",
      "source": [
        "def recall_at_k(recommended_venues, actual_venues, k=5):\n",
        "    \"\"\"\n",
        "    Computes Recall at K (R@K) given the recommended and actual venues.\n",
        "    \"\"\"\n",
        "    recommended_set = set(recommended_venues[:k])\n",
        "    actual_set = set(actual_venues)\n",
        "    \n",
        "    if len(actual_set) == 0:\n",
        "        return 0  # Avoid division by zero\n",
        "\n",
        "    recall = len(recommended_set & actual_set) / len(actual_set)\n",
        "    return recall\n"
      ],
      "outputs": [],
      "execution_count": 29,
      "metadata": {
        "gather": {
          "logged": 1741042110134
        }
      }
    },
    {
      "cell_type": "code",
      "source": [
        "def mean_average_precision(recommendations, ground_truth, k=5):\n",
        "    \"\"\"\n",
        "    Computes Mean Average Precision (MAP) at K.\n",
        "    recommendations: Dictionary {artist_name: recommended_venues_list}\n",
        "    ground_truth: Dictionary {artist_name: actual_venues_list}\n",
        "    \"\"\"\n",
        "    average_precisions = []\n",
        "\n",
        "    for artist, rec_venues in recommendations.items():\n",
        "        if artist in ground_truth:\n",
        "            actual_venues = ground_truth[artist]\n",
        "            precision_scores = [\n",
        "                precision_at_k(rec_venues, actual_venues, k=i+1) for i in range(k)\n",
        "            ]\n",
        "            if actual_venues:\n",
        "                ap = sum(precision_scores) / min(len(actual_venues), k)\n",
        "                average_precisions.append(ap)\n",
        "\n",
        "    return sum(average_precisions) / len(average_precisions) if average_precisions else 0\n"
      ],
      "outputs": [],
      "execution_count": 30,
      "metadata": {
        "gather": {
          "logged": 1741042131097
        }
      }
    },
    {
      "cell_type": "code",
      "source": [
        "def coverage(recommendations, all_venues):\n",
        "    \"\"\"\n",
        "    Computes recommendation coverage.\n",
        "    recommendations: List of recommended venues across all artists.\n",
        "    all_venues: Total number of venues in dataset.\n",
        "    \"\"\"\n",
        "    unique_recommended_venues = set(recommendations)\n",
        "    return len(unique_recommended_venues) / len(all_venues)\n"
      ],
      "outputs": [],
      "execution_count": 31,
      "metadata": {
        "gather": {
          "logged": 1741042146456
        }
      }
    },
    {
      "cell_type": "code",
      "source": [
        "def mean_reciprocal_rank(recommendations, ground_truth):\n",
        "    \"\"\"\n",
        "    Computes Mean Reciprocal Rank (MRR).\n",
        "    recommendations: Dictionary {artist_name: recommended_venues_list}\n",
        "    ground_truth: Dictionary {artist_name: actual_venues_list}\n",
        "    \"\"\"\n",
        "    reciprocal_ranks = []\n",
        "    \n",
        "    for artist, rec_venues in recommendations.items():\n",
        "        if artist in ground_truth:\n",
        "            actual_venues = ground_truth[artist]\n",
        "            for rank, venue in enumerate(rec_venues, start=1):\n",
        "                if venue in actual_venues:\n",
        "                    reciprocal_ranks.append(1 / rank)\n",
        "                    break\n",
        "\n",
        "    return sum(reciprocal_ranks) / len(reciprocal_ranks) if reciprocal_ranks else 0\n"
      ],
      "outputs": [],
      "execution_count": 32,
      "metadata": {
        "gather": {
          "logged": 1741042159961
        }
      }
    },
    {
      "cell_type": "code",
      "source": [
        "print(df_artist.columns)\n",
        "print(df_venue.columns)\n",
        "print(df_presenter.columns)\n",
        "print(df_bluecardartist.columns)"
      ],
      "outputs": [
        {
          "output_type": "stream",
          "name": "stdout",
          "text": "Index(['ArtistId', 'Name', 'MailingCountryId', 'PhysicalAddressCity',\n       'PhysicalAddressStateId', 'PhysicalGeoLatitude', 'PhysicalGeoLongitude',\n       'IsActive', 'IsExclusive', 'CreatedDate', 'UpdatedDate', 'IsNational',\n       'IsNotParticipating', 'combined_features', 'Total Revenue',\n       'Positive Feedback Ratio'],\n      dtype='object')\nIndex(['VenueId', 'AgentId', 'Name', 'VenueSettingId', 'IsSettingCovered',\n       'MailingAddress1', 'MailingAddress2', 'MailingCity', 'MailingStateId',\n       'MailingZip', 'MailingCountryId', 'PhysicalAddress1',\n       'PhysicalAddress2', 'PhysicalCity', 'PhysicalStateId', 'PhysicalZip',\n       'PhysicalCountryId', 'Notes', 'IsActive', 'PresenterId', 'CreatedDate',\n       'CreatedById', 'combined_features'],\n      dtype='object')\nIndex(['PresenterId', 'AgentId', 'AccountName', 'OrganizationName',\n       'PresenterTypeId', 'MailingAddress1', 'MailingAddress2', 'MailingCity',\n       'MailingStateId', 'MailingZip', 'MailingCountryId', 'PhysicalAddress1',\n       'PhysicalAddress2', 'PhysicalCity', 'PhysicalStateId', 'PhysicalZip',\n       'PhysicalCountryId', 'PhysicalGeoLatitude', 'PhysicalGeoLongitude',\n       'IsActive', 'CreatedDate', 'CreatedById', 'ParentPresenterId'],\n      dtype='object')\nIndex(['BlueCardArtistId', 'BlueCardId', 'ArtistId', 'Gross', 'Net', 'Notes',\n       'IsDeleted', 'CreatedDate', 'CreatedById'],\n      dtype='object')\n"
        }
      ],
      "execution_count": 67,
      "metadata": {
        "gather": {
          "logged": 1741061727388
        }
      }
    },
    {
      "cell_type": "markdown",
      "source": [
        "## Hybrid Content-Based Filtering Model"
      ],
      "metadata": {
        "nteract": {
          "transient": {
            "deleting": false
          }
        }
      }
    },
    {
      "cell_type": "markdown",
      "source": [
        "The model utilizes TF-IDF vectorization for textual features, lightweight feature-based similarity scoring, and Scikit-learn's NearestNeighbors for recommendations.\n",
        "\n",
        "Steps:\n",
        "\n",
        "- Load & Preprocess Data (df_artist, df_presenter, df_venue)\n",
        "- Extract Text-Based Features using TF-IDF\n",
        "- Compute Similarity Scores\n",
        "- Train a lightweight KNN model for recommendations\n",
        "- Deploy on AzureML"
      ],
      "metadata": {
        "nteract": {
          "transient": {
            "deleting": false
          }
        }
      }
    },
    {
      "cell_type": "code",
      "source": [
        "!pip install azureml-sdk scikit-learn pandas numpy scipy"
      ],
      "outputs": [
        {
          "output_type": "stream",
          "name": "stdout",
          "text": "Requirement already satisfied: azureml-sdk in /anaconda/envs/azureml_py38/lib/python3.10/site-packages (1.57.0)\nRequirement already satisfied: scikit-learn in /anaconda/envs/azureml_py38/lib/python3.10/site-packages (1.5.1)\nRequirement already satisfied: pandas in /anaconda/envs/azureml_py38/lib/python3.10/site-packages (1.3.5)\nRequirement already satisfied: numpy in /anaconda/envs/azureml_py38/lib/python3.10/site-packages (1.23.5)\nRequirement already satisfied: scipy in /anaconda/envs/azureml_py38/lib/python3.10/site-packages (1.10.1)\nRequirement already satisfied: azureml-pipeline~=1.57.0 in /anaconda/envs/azureml_py38/lib/python3.10/site-packages (from azureml-sdk) (1.57.0)\nRequirement already satisfied: azureml-dataset-runtime[fuse]~=1.57.0 in /anaconda/envs/azureml_py38/lib/python3.10/site-packages (from azureml-sdk) (1.57.0)\nRequirement already satisfied: azureml-train-core~=1.57.0 in /anaconda/envs/azureml_py38/lib/python3.10/site-packages (from azureml-sdk) (1.57.0)\nRequirement already satisfied: azureml-core~=1.57.0 in /anaconda/envs/azureml_py38/lib/python3.10/site-packages (from azureml-sdk) (1.57.0)\nRequirement already satisfied: azureml-train-automl-client~=1.57.0 in /anaconda/envs/azureml_py38/lib/python3.10/site-packages (from azureml-sdk) (1.57.0)\nRequirement already satisfied: joblib>=1.2.0 in /anaconda/envs/azureml_py38/lib/python3.10/site-packages (from scikit-learn) (1.2.0)\nRequirement already satisfied: threadpoolctl>=3.1.0 in /anaconda/envs/azureml_py38/lib/python3.10/site-packages (from scikit-learn) (3.5.0)\nRequirement already satisfied: python-dateutil>=2.7.3 in /anaconda/envs/azureml_py38/lib/python3.10/site-packages (from pandas) (2.9.0.post0)\nRequirement already satisfied: pytz>=2017.3 in /anaconda/envs/azureml_py38/lib/python3.10/site-packages (from pandas) (2022.5)\nRequirement already satisfied: urllib3<3.0.0,>1.26.17 in /anaconda/envs/azureml_py38/lib/python3.10/site-packages (from azureml-core~=1.57.0->azureml-sdk) (1.26.19)\nRequirement already satisfied: azure-mgmt-authorization<5,>=0.40.0 in /anaconda/envs/azureml_py38/lib/python3.10/site-packages (from azureml-core~=1.57.0->azureml-sdk) (4.0.0)\nRequirement already satisfied: paramiko<4.0.0,>=2.0.8 in /anaconda/envs/azureml_py38/lib/python3.10/site-packages (from azureml-core~=1.57.0->azureml-sdk) (3.4.0)\nRequirement already satisfied: azure-mgmt-resource<=24.0.0,>=15.0.0 in /anaconda/envs/azureml_py38/lib/python3.10/site-packages (from azureml-core~=1.57.0->azureml-sdk) (23.1.1)\nRequirement already satisfied: adal<=1.2.7,>=1.2.0 in /anaconda/envs/azureml_py38/lib/python3.10/site-packages (from azureml-core~=1.57.0->azureml-sdk) (1.2.7)\nRequirement already satisfied: msal-extensions<=2.0.0,>=0.3.0 in /anaconda/envs/azureml_py38/lib/python3.10/site-packages (from azureml-core~=1.57.0->azureml-sdk) (1.2.0)\nRequirement already satisfied: msrestazure<=0.7,>=0.4.33 in /anaconda/envs/azureml_py38/lib/python3.10/site-packages (from azureml-core~=1.57.0->azureml-sdk) (0.6.4.post1)\nRequirement already satisfied: pyopenssl<25.0.0 in /anaconda/envs/azureml_py38/lib/python3.10/site-packages (from azureml-core~=1.57.0->azureml-sdk) (23.0.0)\nRequirement already satisfied: knack<0.12.0 in /anaconda/envs/azureml_py38/lib/python3.10/site-packages (from azureml-core~=1.57.0->azureml-sdk) (0.11.0)\nRequirement already satisfied: docker<8.0.0 in /anaconda/envs/azureml_py38/lib/python3.10/site-packages (from azureml-core~=1.57.0->azureml-sdk) (7.1.0)\nRequirement already satisfied: jmespath<2.0.0 in /anaconda/envs/azureml_py38/lib/python3.10/site-packages (from azureml-core~=1.57.0->azureml-sdk) (0.10.0)\nRequirement already satisfied: azure-graphrbac<1.0.0,>=0.40.0 in /anaconda/envs/azureml_py38/lib/python3.10/site-packages (from azureml-core~=1.57.0->azureml-sdk) (0.60.0)\nRequirement already satisfied: contextlib2<22.0.0 in /anaconda/envs/azureml_py38/lib/python3.10/site-packages (from azureml-core~=1.57.0->azureml-sdk) (21.6.0)\nRequirement already satisfied: jsonpickle<4.0.0 in /anaconda/envs/azureml_py38/lib/python3.10/site-packages (from azureml-core~=1.57.0->azureml-sdk) (3.2.2)\nRequirement already satisfied: azure-mgmt-containerregistry<11,>=8.2.0 in /anaconda/envs/azureml_py38/lib/python3.10/site-packages (from azureml-core~=1.57.0->azureml-sdk) (10.3.0)\nRequirement already satisfied: msrest<=0.7.1,>=0.5.1 in /anaconda/envs/azureml_py38/lib/python3.10/site-packages (from azureml-core~=1.57.0->azureml-sdk) (0.7.1)\nRequirement already satisfied: pkginfo in /anaconda/envs/azureml_py38/lib/python3.10/site-packages (from azureml-core~=1.57.0->azureml-sdk) (1.11.1)\nRequirement already satisfied: azure-core<2.0.0 in /anaconda/envs/azureml_py38/lib/python3.10/site-packages (from azureml-core~=1.57.0->azureml-sdk) (1.30.2)\nRequirement already satisfied: pathspec<1.0.0 in /anaconda/envs/azureml_py38/lib/python3.10/site-packages (from azureml-core~=1.57.0->azureml-sdk) (0.12.1)\nRequirement already satisfied: azure-mgmt-storage<=22.0.0,>=16.0.0 in /anaconda/envs/azureml_py38/lib/python3.10/site-packages (from azureml-core~=1.57.0->azureml-sdk) (21.2.0)\nRequirement already satisfied: requests[socks]<3.0.0,>=2.19.1 in /anaconda/envs/azureml_py38/lib/python3.10/site-packages (from azureml-core~=1.57.0->azureml-sdk) (2.32.3)\nRequirement already satisfied: azure-common<2.0.0,>=1.1.12 in /anaconda/envs/azureml_py38/lib/python3.10/site-packages (from azureml-core~=1.57.0->azureml-sdk) (1.1.28)\nRequirement already satisfied: ndg-httpsclient<=0.5.1 in /anaconda/envs/azureml_py38/lib/python3.10/site-packages (from azureml-core~=1.57.0->azureml-sdk) (0.5.1)\nRequirement already satisfied: azure-mgmt-network<=26.0.0 in /anaconda/envs/azureml_py38/lib/python3.10/site-packages (from azureml-core~=1.57.0->azureml-sdk) (25.1.0)\nRequirement already satisfied: azure-mgmt-keyvault<11.0.0,>=0.40.0 in /anaconda/envs/azureml_py38/lib/python3.10/site-packages (from azureml-core~=1.57.0->azureml-sdk) (10.3.0)\nRequirement already satisfied: argcomplete<4 in /anaconda/envs/azureml_py38/lib/python3.10/site-packages (from azureml-core~=1.57.0->azureml-sdk) (3.3.0)\nRequirement already satisfied: msal<2.0.0,>=1.15.0 in /anaconda/envs/azureml_py38/lib/python3.10/site-packages (from azureml-core~=1.57.0->azureml-sdk) (1.30.0)\nRequirement already satisfied: backports.tempfile in /anaconda/envs/azureml_py38/lib/python3.10/site-packages (from azureml-core~=1.57.0->azureml-sdk) (1.0)\nRequirement already satisfied: packaging<=25.0,>=20.0 in /anaconda/envs/azureml_py38/lib/python3.10/site-packages (from azureml-core~=1.57.0->azureml-sdk) (24.1)\nRequirement already satisfied: SecretStorage<4.0.0 in /anaconda/envs/azureml_py38/lib/python3.10/site-packages (from azureml-core~=1.57.0->azureml-sdk) (3.3.3)\nRequirement already satisfied: PyJWT<3.0.0 in /anaconda/envs/azureml_py38/lib/python3.10/site-packages (from azureml-core~=1.57.0->azureml-sdk) (2.4.0)\nRequirement already satisfied: humanfriendly<11.0,>=4.7 in /anaconda/envs/azureml_py38/lib/python3.10/site-packages (from azureml-core~=1.57.0->azureml-sdk) (10.0)\nRequirement already satisfied: azureml-dataprep<5.2.0a,>=5.1.0a in /anaconda/envs/azureml_py38/lib/python3.10/site-packages (from azureml-dataset-runtime[fuse]~=1.57.0->azureml-sdk) (5.1.6)\nRequirement already satisfied: pyarrow>=0.17.0 in /anaconda/envs/azureml_py38/lib/python3.10/site-packages (from azureml-dataset-runtime[fuse]~=1.57.0->azureml-sdk) (14.0.2)\nRequirement already satisfied: fusepy<4.0.0,>=3.0.1 in /anaconda/envs/azureml_py38/lib/python3.10/site-packages (from azureml-dataset-runtime[fuse]~=1.57.0->azureml-sdk) (3.0.1)\nRequirement already satisfied: azureml-pipeline-core~=1.57.0 in /anaconda/envs/azureml_py38/lib/python3.10/site-packages (from azureml-pipeline~=1.57.0->azureml-sdk) (1.57.0)\nRequirement already satisfied: azureml-pipeline-steps~=1.57.0 in /anaconda/envs/azureml_py38/lib/python3.10/site-packages (from azureml-pipeline~=1.57.0->azureml-sdk) (1.57.0)\nRequirement already satisfied: azureml-telemetry~=1.57.0 in /anaconda/envs/azureml_py38/lib/python3.10/site-packages (from azureml-train-automl-client~=1.57.0->azureml-sdk) (1.57.0)\nRequirement already satisfied: azureml-automl-core~=1.57.0 in /anaconda/envs/azureml_py38/lib/python3.10/site-packages (from azureml-train-automl-client~=1.57.0->azureml-sdk) (1.57.0)\nRequirement already satisfied: azureml-train-restclients-hyperdrive~=1.57.0 in /anaconda/envs/azureml_py38/lib/python3.10/site-packages (from azureml-train-core~=1.57.0->azureml-sdk) (1.57.0)\nRequirement already satisfied: six>=1.5 in /anaconda/envs/azureml_py38/lib/python3.10/site-packages (from python-dateutil>=2.7.3->pandas) (1.16.0)\nRequirement already satisfied: cryptography>=1.1.0 in /anaconda/envs/azureml_py38/lib/python3.10/site-packages (from adal<=1.2.7,>=1.2.0->azureml-core~=1.57.0->azureml-sdk) (38.0.4)\nRequirement already satisfied: typing-extensions>=4.6.0 in /anaconda/envs/azureml_py38/lib/python3.10/site-packages (from azure-core<2.0.0->azureml-core~=1.57.0->azureml-sdk) (4.12.2)\nRequirement already satisfied: isodate<1.0.0,>=0.6.1 in /anaconda/envs/azureml_py38/lib/python3.10/site-packages (from azure-mgmt-authorization<5,>=0.40.0->azureml-core~=1.57.0->azureml-sdk) (0.6.1)\nRequirement already satisfied: azure-mgmt-core<2.0.0,>=1.3.2 in /anaconda/envs/azureml_py38/lib/python3.10/site-packages (from azure-mgmt-authorization<5,>=0.40.0->azureml-core~=1.57.0->azureml-sdk) (1.4.0)\nRequirement already satisfied: importlib-metadata<=8.2.0 in /anaconda/envs/azureml_py38/lib/python3.10/site-packages (from azureml-automl-core~=1.57.0->azureml-train-automl-client~=1.57.0->azureml-sdk) (8.2.0)\nRequirement already satisfied: importlib-resources<=6.4.0 in /anaconda/envs/azureml_py38/lib/python3.10/site-packages (from azureml-automl-core~=1.57.0->azureml-train-automl-client~=1.57.0->azureml-sdk) (6.4.0)\nRequirement already satisfied: azureml-dataprep-native<42.0.0,>=41.0.0 in /anaconda/envs/azureml_py38/lib/python3.10/site-packages (from azureml-dataprep<5.2.0a,>=5.1.0a->azureml-dataset-runtime[fuse]~=1.57.0->azureml-sdk) (41.0.0)\nRequirement already satisfied: pyyaml<7.0.0,>=5.1.0 in /anaconda/envs/azureml_py38/lib/python3.10/site-packages (from azureml-dataprep<5.2.0a,>=5.1.0a->azureml-dataset-runtime[fuse]~=1.57.0->azureml-sdk) (6.0.1)\nRequirement already satisfied: cloudpickle<3.0.0,>=1.1.0 in /anaconda/envs/azureml_py38/lib/python3.10/site-packages (from azureml-dataprep<5.2.0a,>=5.1.0a->azureml-dataset-runtime[fuse]~=1.57.0->azureml-sdk) (2.2.1)\nRequirement already satisfied: azure-identity>=1.7.0 in /anaconda/envs/azureml_py38/lib/python3.10/site-packages (from azureml-dataprep<5.2.0a,>=5.1.0a->azureml-dataset-runtime[fuse]~=1.57.0->azureml-sdk) (1.17.1)\nRequirement already satisfied: jsonschema in /anaconda/envs/azureml_py38/lib/python3.10/site-packages (from azureml-dataprep<5.2.0a,>=5.1.0a->azureml-dataset-runtime[fuse]~=1.57.0->azureml-sdk) (4.23.0)\nRequirement already satisfied: azureml-dataprep-rslex~=2.22.2dev0 in /anaconda/envs/azureml_py38/lib/python3.10/site-packages (from azureml-dataprep<5.2.0a,>=5.1.0a->azureml-dataset-runtime[fuse]~=1.57.0->azureml-sdk) (2.22.2)\nRequirement already satisfied: applicationinsights in /anaconda/envs/azureml_py38/lib/python3.10/site-packages (from azureml-telemetry~=1.57.0->azureml-train-automl-client~=1.57.0->azureml-sdk) (0.11.10)\nRequirement already satisfied: pygments in /anaconda/envs/azureml_py38/lib/python3.10/site-packages (from knack<0.12.0->azureml-core~=1.57.0->azureml-sdk) (2.18.0)\nRequirement already satisfied: tabulate in /anaconda/envs/azureml_py38/lib/python3.10/site-packages (from knack<0.12.0->azureml-core~=1.57.0->azureml-sdk) (0.9.0)\nRequirement already satisfied: portalocker<3,>=1.4 in /anaconda/envs/azureml_py38/lib/python3.10/site-packages (from msal-extensions<=2.0.0,>=0.3.0->azureml-core~=1.57.0->azureml-sdk) (2.10.1)\nRequirement already satisfied: certifi>=2017.4.17 in /anaconda/envs/azureml_py38/lib/python3.10/site-packages (from msrest<=0.7.1,>=0.5.1->azureml-core~=1.57.0->azureml-sdk) (2024.8.30)\nRequirement already satisfied: requests-oauthlib>=0.5.0 in /anaconda/envs/azureml_py38/lib/python3.10/site-packages (from msrest<=0.7.1,>=0.5.1->azureml-core~=1.57.0->azureml-sdk) (2.0.0)\nRequirement already satisfied: pyasn1>=0.1.1 in /anaconda/envs/azureml_py38/lib/python3.10/site-packages (from ndg-httpsclient<=0.5.1->azureml-core~=1.57.0->azureml-sdk) (0.6.0)\nRequirement already satisfied: bcrypt>=3.2 in /anaconda/envs/azureml_py38/lib/python3.10/site-packages (from paramiko<4.0.0,>=2.0.8->azureml-core~=1.57.0->azureml-sdk) (4.2.0)\nRequirement already satisfied: pynacl>=1.5 in /anaconda/envs/azureml_py38/lib/python3.10/site-packages (from paramiko<4.0.0,>=2.0.8->azureml-core~=1.57.0->azureml-sdk) (1.5.0)\nRequirement already satisfied: idna<4,>=2.5 in /anaconda/envs/azureml_py38/lib/python3.10/site-packages (from requests[socks]<3.0.0,>=2.19.1->azureml-core~=1.57.0->azureml-sdk) (3.7)\nRequirement already satisfied: charset-normalizer<4,>=2 in /anaconda/envs/azureml_py38/lib/python3.10/site-packages (from requests[socks]<3.0.0,>=2.19.1->azureml-core~=1.57.0->azureml-sdk) (3.3.2)\nRequirement already satisfied: PySocks!=1.5.7,>=1.5.6 in /anaconda/envs/azureml_py38/lib/python3.10/site-packages (from requests[socks]<3.0.0,>=2.19.1->azureml-core~=1.57.0->azureml-sdk) (1.7.1)\nRequirement already satisfied: jeepney>=0.6 in /anaconda/envs/azureml_py38/lib/python3.10/site-packages (from SecretStorage<4.0.0->azureml-core~=1.57.0->azureml-sdk) (0.8.0)\nRequirement already satisfied: backports.weakref in /anaconda/envs/azureml_py38/lib/python3.10/site-packages (from backports.tempfile->azureml-core~=1.57.0->azureml-sdk) (1.0.post1)\nRequirement already satisfied: cffi>=1.12 in /anaconda/envs/azureml_py38/lib/python3.10/site-packages (from cryptography>=1.1.0->adal<=1.2.7,>=1.2.0->azureml-core~=1.57.0->azureml-sdk) (1.16.0)\nRequirement already satisfied: zipp>=0.5 in /anaconda/envs/azureml_py38/lib/python3.10/site-packages (from importlib-metadata<=8.2.0->azureml-automl-core~=1.57.0->azureml-train-automl-client~=1.57.0->azureml-sdk) (3.19.2)\nRequirement already satisfied: oauthlib>=3.0.0 in /anaconda/envs/azureml_py38/lib/python3.10/site-packages (from requests-oauthlib>=0.5.0->msrest<=0.7.1,>=0.5.1->azureml-core~=1.57.0->azureml-sdk) (3.2.2)\nRequirement already satisfied: attrs>=22.2.0 in /anaconda/envs/azureml_py38/lib/python3.10/site-packages (from jsonschema->azureml-dataprep<5.2.0a,>=5.1.0a->azureml-dataset-runtime[fuse]~=1.57.0->azureml-sdk) (24.2.0)\nRequirement already satisfied: jsonschema-specifications>=2023.03.6 in /anaconda/envs/azureml_py38/lib/python3.10/site-packages (from jsonschema->azureml-dataprep<5.2.0a,>=5.1.0a->azureml-dataset-runtime[fuse]~=1.57.0->azureml-sdk) (2023.12.1)\nRequirement already satisfied: referencing>=0.28.4 in /anaconda/envs/azureml_py38/lib/python3.10/site-packages (from jsonschema->azureml-dataprep<5.2.0a,>=5.1.0a->azureml-dataset-runtime[fuse]~=1.57.0->azureml-sdk) (0.35.1)\nRequirement already satisfied: rpds-py>=0.7.1 in /anaconda/envs/azureml_py38/lib/python3.10/site-packages (from jsonschema->azureml-dataprep<5.2.0a,>=5.1.0a->azureml-dataset-runtime[fuse]~=1.57.0->azureml-sdk) (0.19.1)\nRequirement already satisfied: pycparser in /anaconda/envs/azureml_py38/lib/python3.10/site-packages (from cffi>=1.12->cryptography>=1.1.0->adal<=1.2.7,>=1.2.0->azureml-core~=1.57.0->azureml-sdk) (2.22)\n"
        }
      ],
      "execution_count": 39,
      "metadata": {}
    },
    {
      "cell_type": "code",
      "source": [
        "from sklearn.feature_extraction.text import TfidfVectorizer\n",
        "from sklearn.neighbors import NearestNeighbors\n",
        "from azureml.core import Workspace, Dataset, Experiment, Model\n",
        "from sklearn.metrics.pairwise import cosine_similarity\n",
        "from sklearn.metrics import average_precision_score\n",
        "from sklearn.preprocessing import MinMaxScaler"
      ],
      "outputs": [],
      "execution_count": 125,
      "metadata": {
        "gather": {
          "logged": 1740894029310
        }
      }
    },
    {
      "cell_type": "code",
      "source": [
        "# Preprocess Data - Fill NaNs with Empty Strings\n",
        "artist_df.fillna(\"\", inplace=True)\n",
        "df_presenter.fillna(\"\", inplace=True)\n",
        "df_venue.fillna(\"\", inplace=True)\n",
        "\n",
        "# Combine Relevant Text Features for Content-Based Filtering\n",
        "artist_df[\"combined_features\"] = (\n",
        "    artist_df[\"Name\"] + \" \" + artist_df[\"PhysicalAddressCity\"] + \" \" + artist_df[\"PhysicalAddressStateId\"].astype(str)\n",
        ")\n",
        "\n",
        "df_presenter[\"combined_features\"] = (\n",
        "    df_presenter[\"AccountName\"] + \" \" + df_presenter[\"MailingCity\"] + \" \" + df_presenter[\"MailingStateId\"].astype(str)\n",
        ")\n",
        "\n",
        "df_venue[\"combined_features\"] = (\n",
        "    df_venue[\"Name\"] + \" \" + df_venue[\"MailingCity\"] + \" \" + df_venue[\"MailingStateId\"].astype(str)\n",
        ")"
      ],
      "outputs": [],
      "execution_count": 126,
      "metadata": {
        "gather": {
          "logged": 1740894029668
        }
      }
    },
    {
      "cell_type": "code",
      "source": [
        "# TF-IDF Vectorization\n",
        "tfidf_vectorizer = TfidfVectorizer(stop_words=\"english\", max_features=5000)\n",
        "\n",
        "# Fit TF-IDF on Artists & Presenters/Venues\n",
        "tfidf_artist = tfidf_vectorizer.fit_transform(artist_df[\"combined_features\"])\n",
        "tfidf_presenter = tfidf_vectorizer.transform(df_presenter[\"combined_features\"])\n",
        "tfidf_venue = tfidf_vectorizer.transform(df_venue[\"combined_features\"])\n"
      ],
      "outputs": [],
      "execution_count": 127,
      "metadata": {
        "gather": {
          "logged": 1740894029971
        }
      }
    },
    {
      "cell_type": "code",
      "source": [
        "# Use Nearest Neighbors for Similarity Search\n",
        "knn_model_presenter = NearestNeighbors(n_neighbors=5, metric=\"cosine\", algorithm=\"brute\")\n",
        "knn_model_presenter.fit(tfidf_presenter)\n",
        "\n",
        "knn_model_venue = NearestNeighbors(n_neighbors=5, metric=\"cosine\", algorithm=\"brute\")\n",
        "knn_model_venue.fit(tfidf_venue)"
      ],
      "outputs": [
        {
          "output_type": "execute_result",
          "execution_count": 128,
          "data": {
            "text/plain": "NearestNeighbors(algorithm='brute', metric='cosine')",
            "text/html": "<style>#sk-container-id-5 {\n  /* Definition of color scheme common for light and dark mode */\n  --sklearn-color-text: black;\n  --sklearn-color-line: gray;\n  /* Definition of color scheme for unfitted estimators */\n  --sklearn-color-unfitted-level-0: #fff5e6;\n  --sklearn-color-unfitted-level-1: #f6e4d2;\n  --sklearn-color-unfitted-level-2: #ffe0b3;\n  --sklearn-color-unfitted-level-3: chocolate;\n  /* Definition of color scheme for fitted estimators */\n  --sklearn-color-fitted-level-0: #f0f8ff;\n  --sklearn-color-fitted-level-1: #d4ebff;\n  --sklearn-color-fitted-level-2: #b3dbfd;\n  --sklearn-color-fitted-level-3: cornflowerblue;\n\n  /* Specific color for light theme */\n  --sklearn-color-text-on-default-background: var(--sg-text-color, var(--theme-code-foreground, var(--jp-content-font-color1, black)));\n  --sklearn-color-background: var(--sg-background-color, var(--theme-background, var(--jp-layout-color0, white)));\n  --sklearn-color-border-box: var(--sg-text-color, var(--theme-code-foreground, var(--jp-content-font-color1, black)));\n  --sklearn-color-icon: #696969;\n\n  @media (prefers-color-scheme: dark) {\n    /* Redefinition of color scheme for dark theme */\n    --sklearn-color-text-on-default-background: var(--sg-text-color, var(--theme-code-foreground, var(--jp-content-font-color1, white)));\n    --sklearn-color-background: var(--sg-background-color, var(--theme-background, var(--jp-layout-color0, #111)));\n    --sklearn-color-border-box: var(--sg-text-color, var(--theme-code-foreground, var(--jp-content-font-color1, white)));\n    --sklearn-color-icon: #878787;\n  }\n}\n\n#sk-container-id-5 {\n  color: var(--sklearn-color-text);\n}\n\n#sk-container-id-5 pre {\n  padding: 0;\n}\n\n#sk-container-id-5 input.sk-hidden--visually {\n  border: 0;\n  clip: rect(1px 1px 1px 1px);\n  clip: rect(1px, 1px, 1px, 1px);\n  height: 1px;\n  margin: -1px;\n  overflow: hidden;\n  padding: 0;\n  position: absolute;\n  width: 1px;\n}\n\n#sk-container-id-5 div.sk-dashed-wrapped {\n  border: 1px dashed var(--sklearn-color-line);\n  margin: 0 0.4em 0.5em 0.4em;\n  box-sizing: border-box;\n  padding-bottom: 0.4em;\n  background-color: var(--sklearn-color-background);\n}\n\n#sk-container-id-5 div.sk-container {\n  /* jupyter's `normalize.less` sets `[hidden] { display: none; }`\n     but bootstrap.min.css set `[hidden] { display: none !important; }`\n     so we also need the `!important` here to be able to override the\n     default hidden behavior on the sphinx rendered scikit-learn.org.\n     See: https://github.com/scikit-learn/scikit-learn/issues/21755 */\n  display: inline-block !important;\n  position: relative;\n}\n\n#sk-container-id-5 div.sk-text-repr-fallback {\n  display: none;\n}\n\ndiv.sk-parallel-item,\ndiv.sk-serial,\ndiv.sk-item {\n  /* draw centered vertical line to link estimators */\n  background-image: linear-gradient(var(--sklearn-color-text-on-default-background), var(--sklearn-color-text-on-default-background));\n  background-size: 2px 100%;\n  background-repeat: no-repeat;\n  background-position: center center;\n}\n\n/* Parallel-specific style estimator block */\n\n#sk-container-id-5 div.sk-parallel-item::after {\n  content: \"\";\n  width: 100%;\n  border-bottom: 2px solid var(--sklearn-color-text-on-default-background);\n  flex-grow: 1;\n}\n\n#sk-container-id-5 div.sk-parallel {\n  display: flex;\n  align-items: stretch;\n  justify-content: center;\n  background-color: var(--sklearn-color-background);\n  position: relative;\n}\n\n#sk-container-id-5 div.sk-parallel-item {\n  display: flex;\n  flex-direction: column;\n}\n\n#sk-container-id-5 div.sk-parallel-item:first-child::after {\n  align-self: flex-end;\n  width: 50%;\n}\n\n#sk-container-id-5 div.sk-parallel-item:last-child::after {\n  align-self: flex-start;\n  width: 50%;\n}\n\n#sk-container-id-5 div.sk-parallel-item:only-child::after {\n  width: 0;\n}\n\n/* Serial-specific style estimator block */\n\n#sk-container-id-5 div.sk-serial {\n  display: flex;\n  flex-direction: column;\n  align-items: center;\n  background-color: var(--sklearn-color-background);\n  padding-right: 1em;\n  padding-left: 1em;\n}\n\n\n/* Toggleable style: style used for estimator/Pipeline/ColumnTransformer box that is\nclickable and can be expanded/collapsed.\n- Pipeline and ColumnTransformer use this feature and define the default style\n- Estimators will overwrite some part of the style using the `sk-estimator` class\n*/\n\n/* Pipeline and ColumnTransformer style (default) */\n\n#sk-container-id-5 div.sk-toggleable {\n  /* Default theme specific background. It is overwritten whether we have a\n  specific estimator or a Pipeline/ColumnTransformer */\n  background-color: var(--sklearn-color-background);\n}\n\n/* Toggleable label */\n#sk-container-id-5 label.sk-toggleable__label {\n  cursor: pointer;\n  display: block;\n  width: 100%;\n  margin-bottom: 0;\n  padding: 0.5em;\n  box-sizing: border-box;\n  text-align: center;\n}\n\n#sk-container-id-5 label.sk-toggleable__label-arrow:before {\n  /* Arrow on the left of the label */\n  content: \"▸\";\n  float: left;\n  margin-right: 0.25em;\n  color: var(--sklearn-color-icon);\n}\n\n#sk-container-id-5 label.sk-toggleable__label-arrow:hover:before {\n  color: var(--sklearn-color-text);\n}\n\n/* Toggleable content - dropdown */\n\n#sk-container-id-5 div.sk-toggleable__content {\n  max-height: 0;\n  max-width: 0;\n  overflow: hidden;\n  text-align: left;\n  /* unfitted */\n  background-color: var(--sklearn-color-unfitted-level-0);\n}\n\n#sk-container-id-5 div.sk-toggleable__content.fitted {\n  /* fitted */\n  background-color: var(--sklearn-color-fitted-level-0);\n}\n\n#sk-container-id-5 div.sk-toggleable__content pre {\n  margin: 0.2em;\n  border-radius: 0.25em;\n  color: var(--sklearn-color-text);\n  /* unfitted */\n  background-color: var(--sklearn-color-unfitted-level-0);\n}\n\n#sk-container-id-5 div.sk-toggleable__content.fitted pre {\n  /* unfitted */\n  background-color: var(--sklearn-color-fitted-level-0);\n}\n\n#sk-container-id-5 input.sk-toggleable__control:checked~div.sk-toggleable__content {\n  /* Expand drop-down */\n  max-height: 200px;\n  max-width: 100%;\n  overflow: auto;\n}\n\n#sk-container-id-5 input.sk-toggleable__control:checked~label.sk-toggleable__label-arrow:before {\n  content: \"▾\";\n}\n\n/* Pipeline/ColumnTransformer-specific style */\n\n#sk-container-id-5 div.sk-label input.sk-toggleable__control:checked~label.sk-toggleable__label {\n  color: var(--sklearn-color-text);\n  background-color: var(--sklearn-color-unfitted-level-2);\n}\n\n#sk-container-id-5 div.sk-label.fitted input.sk-toggleable__control:checked~label.sk-toggleable__label {\n  background-color: var(--sklearn-color-fitted-level-2);\n}\n\n/* Estimator-specific style */\n\n/* Colorize estimator box */\n#sk-container-id-5 div.sk-estimator input.sk-toggleable__control:checked~label.sk-toggleable__label {\n  /* unfitted */\n  background-color: var(--sklearn-color-unfitted-level-2);\n}\n\n#sk-container-id-5 div.sk-estimator.fitted input.sk-toggleable__control:checked~label.sk-toggleable__label {\n  /* fitted */\n  background-color: var(--sklearn-color-fitted-level-2);\n}\n\n#sk-container-id-5 div.sk-label label.sk-toggleable__label,\n#sk-container-id-5 div.sk-label label {\n  /* The background is the default theme color */\n  color: var(--sklearn-color-text-on-default-background);\n}\n\n/* On hover, darken the color of the background */\n#sk-container-id-5 div.sk-label:hover label.sk-toggleable__label {\n  color: var(--sklearn-color-text);\n  background-color: var(--sklearn-color-unfitted-level-2);\n}\n\n/* Label box, darken color on hover, fitted */\n#sk-container-id-5 div.sk-label.fitted:hover label.sk-toggleable__label.fitted {\n  color: var(--sklearn-color-text);\n  background-color: var(--sklearn-color-fitted-level-2);\n}\n\n/* Estimator label */\n\n#sk-container-id-5 div.sk-label label {\n  font-family: monospace;\n  font-weight: bold;\n  display: inline-block;\n  line-height: 1.2em;\n}\n\n#sk-container-id-5 div.sk-label-container {\n  text-align: center;\n}\n\n/* Estimator-specific */\n#sk-container-id-5 div.sk-estimator {\n  font-family: monospace;\n  border: 1px dotted var(--sklearn-color-border-box);\n  border-radius: 0.25em;\n  box-sizing: border-box;\n  margin-bottom: 0.5em;\n  /* unfitted */\n  background-color: var(--sklearn-color-unfitted-level-0);\n}\n\n#sk-container-id-5 div.sk-estimator.fitted {\n  /* fitted */\n  background-color: var(--sklearn-color-fitted-level-0);\n}\n\n/* on hover */\n#sk-container-id-5 div.sk-estimator:hover {\n  /* unfitted */\n  background-color: var(--sklearn-color-unfitted-level-2);\n}\n\n#sk-container-id-5 div.sk-estimator.fitted:hover {\n  /* fitted */\n  background-color: var(--sklearn-color-fitted-level-2);\n}\n\n/* Specification for estimator info (e.g. \"i\" and \"?\") */\n\n/* Common style for \"i\" and \"?\" */\n\n.sk-estimator-doc-link,\na:link.sk-estimator-doc-link,\na:visited.sk-estimator-doc-link {\n  float: right;\n  font-size: smaller;\n  line-height: 1em;\n  font-family: monospace;\n  background-color: var(--sklearn-color-background);\n  border-radius: 1em;\n  height: 1em;\n  width: 1em;\n  text-decoration: none !important;\n  margin-left: 1ex;\n  /* unfitted */\n  border: var(--sklearn-color-unfitted-level-1) 1pt solid;\n  color: var(--sklearn-color-unfitted-level-1);\n}\n\n.sk-estimator-doc-link.fitted,\na:link.sk-estimator-doc-link.fitted,\na:visited.sk-estimator-doc-link.fitted {\n  /* fitted */\n  border: var(--sklearn-color-fitted-level-1) 1pt solid;\n  color: var(--sklearn-color-fitted-level-1);\n}\n\n/* On hover */\ndiv.sk-estimator:hover .sk-estimator-doc-link:hover,\n.sk-estimator-doc-link:hover,\ndiv.sk-label-container:hover .sk-estimator-doc-link:hover,\n.sk-estimator-doc-link:hover {\n  /* unfitted */\n  background-color: var(--sklearn-color-unfitted-level-3);\n  color: var(--sklearn-color-background);\n  text-decoration: none;\n}\n\ndiv.sk-estimator.fitted:hover .sk-estimator-doc-link.fitted:hover,\n.sk-estimator-doc-link.fitted:hover,\ndiv.sk-label-container:hover .sk-estimator-doc-link.fitted:hover,\n.sk-estimator-doc-link.fitted:hover {\n  /* fitted */\n  background-color: var(--sklearn-color-fitted-level-3);\n  color: var(--sklearn-color-background);\n  text-decoration: none;\n}\n\n/* Span, style for the box shown on hovering the info icon */\n.sk-estimator-doc-link span {\n  display: none;\n  z-index: 9999;\n  position: relative;\n  font-weight: normal;\n  right: .2ex;\n  padding: .5ex;\n  margin: .5ex;\n  width: min-content;\n  min-width: 20ex;\n  max-width: 50ex;\n  color: var(--sklearn-color-text);\n  box-shadow: 2pt 2pt 4pt #999;\n  /* unfitted */\n  background: var(--sklearn-color-unfitted-level-0);\n  border: .5pt solid var(--sklearn-color-unfitted-level-3);\n}\n\n.sk-estimator-doc-link.fitted span {\n  /* fitted */\n  background: var(--sklearn-color-fitted-level-0);\n  border: var(--sklearn-color-fitted-level-3);\n}\n\n.sk-estimator-doc-link:hover span {\n  display: block;\n}\n\n/* \"?\"-specific style due to the `<a>` HTML tag */\n\n#sk-container-id-5 a.estimator_doc_link {\n  float: right;\n  font-size: 1rem;\n  line-height: 1em;\n  font-family: monospace;\n  background-color: var(--sklearn-color-background);\n  border-radius: 1rem;\n  height: 1rem;\n  width: 1rem;\n  text-decoration: none;\n  /* unfitted */\n  color: var(--sklearn-color-unfitted-level-1);\n  border: var(--sklearn-color-unfitted-level-1) 1pt solid;\n}\n\n#sk-container-id-5 a.estimator_doc_link.fitted {\n  /* fitted */\n  border: var(--sklearn-color-fitted-level-1) 1pt solid;\n  color: var(--sklearn-color-fitted-level-1);\n}\n\n/* On hover */\n#sk-container-id-5 a.estimator_doc_link:hover {\n  /* unfitted */\n  background-color: var(--sklearn-color-unfitted-level-3);\n  color: var(--sklearn-color-background);\n  text-decoration: none;\n}\n\n#sk-container-id-5 a.estimator_doc_link.fitted:hover {\n  /* fitted */\n  background-color: var(--sklearn-color-fitted-level-3);\n}\n</style><div id=\"sk-container-id-5\" class=\"sk-top-container\"><div class=\"sk-text-repr-fallback\"><pre>NearestNeighbors(algorithm=&#x27;brute&#x27;, metric=&#x27;cosine&#x27;)</pre><b>In a Jupyter environment, please rerun this cell to show the HTML representation or trust the notebook. <br />On GitHub, the HTML representation is unable to render, please try loading this page with nbviewer.org.</b></div><div class=\"sk-container\" hidden><div class=\"sk-item\"><div class=\"sk-estimator fitted sk-toggleable\"><input class=\"sk-toggleable__control sk-hidden--visually\" id=\"sk-estimator-id-5\" type=\"checkbox\" checked><label for=\"sk-estimator-id-5\" class=\"sk-toggleable__label fitted sk-toggleable__label-arrow fitted\">&nbsp;&nbsp;NearestNeighbors<a class=\"sk-estimator-doc-link fitted\" rel=\"noreferrer\" target=\"_blank\" href=\"https://scikit-learn.org/1.5/modules/generated/sklearn.neighbors.NearestNeighbors.html\">?<span>Documentation for NearestNeighbors</span></a><span class=\"sk-estimator-doc-link fitted\">i<span>Fitted</span></span></label><div class=\"sk-toggleable__content fitted\"><pre>NearestNeighbors(algorithm=&#x27;brute&#x27;, metric=&#x27;cosine&#x27;)</pre></div> </div></div></div></div>"
          },
          "metadata": {}
        }
      ],
      "execution_count": 128,
      "metadata": {
        "gather": {
          "logged": 1740894031972
        }
      }
    },
    {
      "cell_type": "code",
      "source": [
        "# Function to Get Recommendations as DataFrame\n",
        "def recommend_presenters_df(artist_name, top_n=5):\n",
        "    artist_index = artist_df[artist_df[\"Name\"] == artist_name].index[0]\n",
        "    artist_vector = tfidf_artist[artist_index]\n",
        "\n",
        "    distances, indices = knn_model_presenter.kneighbors(artist_vector, n_neighbors=top_n)\n",
        "    \n",
        "    results = pd.DataFrame({\n",
        "        \"Presenter Name\": df_presenter.iloc[indices[0]][\"AccountName\"].values,\n",
        "        \"Similarity Score\": 1 - distances[0]  # Convert cosine distance to similarity\n",
        "    }).sort_values(by=\"Similarity Score\", ascending=False)\n",
        "    \n",
        "    return results"
      ],
      "outputs": [],
      "execution_count": 129,
      "metadata": {
        "gather": {
          "logged": 1740894032284
        }
      }
    },
    {
      "cell_type": "code",
      "source": [
        "def recommend_venues_df(artist_name, top_n=5):\n",
        "    artist_index = artist_df[artist_df[\"Name\"] == artist_name].index[0]\n",
        "    artist_vector = tfidf_artist[artist_index]\n",
        "\n",
        "    distances, indices = knn_model_venue.kneighbors(artist_vector, n_neighbors=top_n)\n",
        "    \n",
        "    results = pd.DataFrame({\n",
        "        \"Venue Name\": df_venue.iloc[indices[0]][\"Name\"].values,\n",
        "        \"Similarity Score\": 1 - distances[0]  # Convert cosine distance to similarity\n",
        "    }).sort_values(by=\"Similarity Score\", ascending=False)\n",
        "    \n",
        "    return results"
      ],
      "outputs": [],
      "execution_count": 130,
      "metadata": {
        "gather": {
          "logged": 1740894032675
        }
      }
    },
    {
      "cell_type": "code",
      "source": [
        "artist_name = \"GROOVE DELUXE\"\n",
        "\n",
        "print(\"Recommended Presenters for:\", artist_name)\n",
        "display(recommend_presenters_df(artist_name))\n",
        "\n",
        "print(\"Recommended Venues for:\", artist_name)\n",
        "display(recommend_venues_df(artist_name))"
      ],
      "outputs": [
        {
          "output_type": "stream",
          "name": "stdout",
          "text": "Recommended Presenters for: GROOVE DELUXE\n"
        },
        {
          "output_type": "display_data",
          "data": {
            "text/plain": "                             Presenter Name  Similarity Score\n0                            Aylie Burnette          0.630692\n1  SOUTHEASTERN ASSN. OF TAX ADMINISTRATORS          0.630692\n2                          HOECHST-CELANESE          0.630692\n3                           OSTROW TEXTILES          0.630692\n4                Coroplast Tape Corporation          0.630692",
            "text/html": "<div>\n<style scoped>\n    .dataframe tbody tr th:only-of-type {\n        vertical-align: middle;\n    }\n\n    .dataframe tbody tr th {\n        vertical-align: top;\n    }\n\n    .dataframe thead th {\n        text-align: right;\n    }\n</style>\n<table border=\"1\" class=\"dataframe\">\n  <thead>\n    <tr style=\"text-align: right;\">\n      <th></th>\n      <th>Presenter Name</th>\n      <th>Similarity Score</th>\n    </tr>\n  </thead>\n  <tbody>\n    <tr>\n      <th>0</th>\n      <td>Aylie Burnette</td>\n      <td>0.630692</td>\n    </tr>\n    <tr>\n      <th>1</th>\n      <td>SOUTHEASTERN ASSN. OF TAX ADMINISTRATORS</td>\n      <td>0.630692</td>\n    </tr>\n    <tr>\n      <th>2</th>\n      <td>HOECHST-CELANESE</td>\n      <td>0.630692</td>\n    </tr>\n    <tr>\n      <th>3</th>\n      <td>OSTROW TEXTILES</td>\n      <td>0.630692</td>\n    </tr>\n    <tr>\n      <th>4</th>\n      <td>Coroplast Tape Corporation</td>\n      <td>0.630692</td>\n    </tr>\n  </tbody>\n</table>\n</div>"
          },
          "metadata": {}
        },
        {
          "output_type": "stream",
          "name": "stdout",
          "text": "Recommended Venues for: GROOVE DELUXE\n"
        },
        {
          "output_type": "display_data",
          "data": {
            "text/plain": "                                       Venue Name  Similarity Score\n0                         Brakefield at Riverwalk          0.630692\n1                          Rock Hill Country Club          0.528473\n2  Legal Remedy Brewing Riverwalk (LRB Riverwalk)          0.439995\n3                            Legal Remedy Brewing          0.439995\n4                           WESTGLOW RESORT & SPA          0.408019",
            "text/html": "<div>\n<style scoped>\n    .dataframe tbody tr th:only-of-type {\n        vertical-align: middle;\n    }\n\n    .dataframe tbody tr th {\n        vertical-align: top;\n    }\n\n    .dataframe thead th {\n        text-align: right;\n    }\n</style>\n<table border=\"1\" class=\"dataframe\">\n  <thead>\n    <tr style=\"text-align: right;\">\n      <th></th>\n      <th>Venue Name</th>\n      <th>Similarity Score</th>\n    </tr>\n  </thead>\n  <tbody>\n    <tr>\n      <th>0</th>\n      <td>Brakefield at Riverwalk</td>\n      <td>0.630692</td>\n    </tr>\n    <tr>\n      <th>1</th>\n      <td>Rock Hill Country Club</td>\n      <td>0.528473</td>\n    </tr>\n    <tr>\n      <th>2</th>\n      <td>Legal Remedy Brewing Riverwalk (LRB Riverwalk)</td>\n      <td>0.439995</td>\n    </tr>\n    <tr>\n      <th>3</th>\n      <td>Legal Remedy Brewing</td>\n      <td>0.439995</td>\n    </tr>\n    <tr>\n      <th>4</th>\n      <td>WESTGLOW RESORT &amp; SPA</td>\n      <td>0.408019</td>\n    </tr>\n  </tbody>\n</table>\n</div>"
          },
          "metadata": {}
        }
      ],
      "execution_count": 131,
      "metadata": {
        "gather": {
          "logged": 1740894033386
        }
      }
    },
    {
      "cell_type": "markdown",
      "source": [
        "For the presenters, the lowercase and uppercase difference causes a mismatch.\n",
        "\n",
        "Possible Reasons for the Mismatch - \n",
        "\n",
        "1) Text Formatting Issues - The recommended presenter names may have different cases, spaces, or formatting than the actual names.\n",
        "\n",
        "Example:\n",
        "Recommended: \"COLLEGE OF WILLIAM AND MARY\"\n",
        "Actual: \"College of William and Mary\"\n",
        "\n",
        "These will not match due to capitalization.\n",
        "\n",
        "2) Too Few Similar Recommendations\n",
        "\n",
        "If the TF-IDF + KNN model is not capturing similar presenters well, recommendations may not include the actual correct ones.\n",
        "\n",
        "3) Ground Truth is Too Small\n",
        "\n",
        "If the ground truth has only 1-2 correct presenters per artist, the chance of overlap is lower.\n"
      ],
      "metadata": {
        "nteract": {
          "transient": {
            "deleting": false
          }
        }
      }
    },
    {
      "cell_type": "markdown",
      "source": [
        "### Evaluation Metrics"
      ],
      "metadata": {
        "nteract": {
          "transient": {
            "deleting": false
          }
        }
      }
    },
    {
      "cell_type": "code",
      "source": [
        "def evaluate_recommendations(recommended, actual, k=5):\n",
        "    precision_list = []\n",
        "    recall_list = []\n",
        "    mrr_list = []\n",
        "\n",
        "    for artist in actual.keys():\n",
        "        recs = recommended.get(artist, [])[:k]  # Get top-k recommendations\n",
        "        actual_set = set(actual[artist])  # Convert to set for lookup\n",
        "        \n",
        "        # Precision@k = Relevant recommendations / Total recommended\n",
        "        precision = len(set(recs) & actual_set) / k\n",
        "        \n",
        "        # Recall@k = Relevant recommendations / Total actual relevant items\n",
        "        recall = len(set(recs) & actual_set) / len(actual_set) if actual_set else 0\n",
        "        \n",
        "        # MRR = 1 / (rank of first relevant item), 0 if no relevant item found\n",
        "        mrr = next((1 / (i + 1) for i, rec in enumerate(recs) if rec in actual_set), 0)\n",
        "\n",
        "        precision_list.append(precision)\n",
        "        recall_list.append(recall)\n",
        "        mrr_list.append(mrr)\n",
        "\n",
        "    # Compute average scores\n",
        "    metrics = {\n",
        "        \"Precision@k\": np.mean(precision_list),\n",
        "        \"Recall@k\": np.mean(recall_list),\n",
        "        \"MRR\": np.mean(mrr_list)\n",
        "    }\n",
        "    \n",
        "    return metrics\n"
      ],
      "outputs": [],
      "execution_count": 132,
      "metadata": {
        "gather": {
          "logged": 1740894045315
        }
      }
    },
    {
      "cell_type": "code",
      "source": [
        "# Example Ground Truth Data (Replace with actual matches)\n",
        "ground_truth_presenters = {\n",
        "    \"GROOVE DELUXE\": [\"COLLEGE OF WILLIAM AND MARY\", \"WAKE SUPPLY CO\"],\n",
        "    \"88 KEYS WILSON\": [\"HILTON ATLANTA\", \"MARRIOTT MARQUIS ATLANTA\"],\n",
        "}\n",
        "\n",
        "# Get Recommendations for All Artists in Ground Truth\n",
        "recommended_presenters = {artist: recommend_presenters_df(artist)[\"Presenter Name\"].tolist() for artist in ground_truth_presenters.keys()}\n",
        "\n",
        "# Run Evaluation\n",
        "metrics = evaluate_recommendations(recommended_presenters, ground_truth_presenters, k=5)\n",
        "\n",
        "# Display Results as a DataFrame\n",
        "metrics_df = pd.DataFrame(metrics.items(), columns=[\"Metric\", \"Value\"])\n",
        "display(metrics_df)\n"
      ],
      "outputs": [
        {
          "output_type": "display_data",
          "data": {
            "text/plain": "        Metric  Value\n0  Precision@k    0.0\n1     Recall@k    0.0\n2          MRR    0.0",
            "text/html": "<div>\n<style scoped>\n    .dataframe tbody tr th:only-of-type {\n        vertical-align: middle;\n    }\n\n    .dataframe tbody tr th {\n        vertical-align: top;\n    }\n\n    .dataframe thead th {\n        text-align: right;\n    }\n</style>\n<table border=\"1\" class=\"dataframe\">\n  <thead>\n    <tr style=\"text-align: right;\">\n      <th></th>\n      <th>Metric</th>\n      <th>Value</th>\n    </tr>\n  </thead>\n  <tbody>\n    <tr>\n      <th>0</th>\n      <td>Precision@k</td>\n      <td>0.0</td>\n    </tr>\n    <tr>\n      <th>1</th>\n      <td>Recall@k</td>\n      <td>0.0</td>\n    </tr>\n    <tr>\n      <th>2</th>\n      <td>MRR</td>\n      <td>0.0</td>\n    </tr>\n  </tbody>\n</table>\n</div>"
          },
          "metadata": {}
        }
      ],
      "execution_count": 133,
      "metadata": {
        "gather": {
          "logged": 1740894045677
        }
      }
    },
    {
      "cell_type": "markdown",
      "source": [
        "## Corrected Version "
      ],
      "metadata": {
        "nteract": {
          "transient": {
            "deleting": false
          }
        }
      }
    },
    {
      "cell_type": "markdown",
      "source": [
        "Train a Simple Classification Model (Logistic Regression)\n",
        "\n",
        "Predict whether an artist is a good match for a presenter/venue\n",
        "\n",
        "Instead of distance-based similarity, we will predict a match score\n",
        "\n",
        "Recommend Top Matches Based on Model Scores\n",
        "\n",
        "The model scores match probabilities\n",
        "\n",
        "Improve Feature Engineering for Meaningful Recommendations\n",
        "\n",
        "Add features like artist genre, city, act type, presenter type\n"
      ],
      "metadata": {
        "nteract": {
          "transient": {
            "deleting": false
          }
        }
      }
    },
    {
      "cell_type": "code",
      "source": [
        "import pandas as pd\n",
        "import numpy as np\n",
        "from sklearn.feature_extraction.text import TfidfVectorizer\n",
        "from sklearn.linear_model import LogisticRegression\n",
        "from sklearn.preprocessing import LabelEncoder\n",
        "from sklearn.model_selection import train_test_split"
      ],
      "outputs": [],
      "execution_count": 85,
      "metadata": {
        "gather": {
          "logged": 1740889821010
        }
      }
    },
    {
      "cell_type": "code",
      "source": [
        "# Fill NaN values\n",
        "artist_df.fillna(\"\", inplace=True)\n",
        "df_presenter.fillna(\"\", inplace=True)\n",
        "df_venue.fillna(\"\", inplace=True)"
      ],
      "outputs": [],
      "execution_count": 86,
      "metadata": {
        "gather": {
          "logged": 1740889831328
        }
      }
    },
    {
      "cell_type": "code",
      "source": [
        "# Function to Normalize Text (lowercase + strip whitespace)\n",
        "def normalize_text(text):\n",
        "    return str(text).strip().lower()\n",
        "\n",
        "# Ensure necessary columns exist\n",
        "for col in [\"GenreTypeId\", \"ActTypeId\"]:\n",
        "    if col not in artist_df.columns:\n",
        "        artist_df[col] = \"Unknown\"\n",
        "\n",
        "# Create Combined Features for TF-IDF with More Distinguishing Information\n",
        "artist_df[\"combined_features\"] = (\n",
        "    artist_df[\"Name\"].apply(normalize_text) + \" \" +\n",
        "    artist_df[\"PhysicalAddressCity\"].apply(normalize_text) + \" \" +\n",
        "    artist_df[\"PhysicalAddressStateId\"].astype(str) + \" \" +\n",
        "    artist_df[\"IsActive\"].astype(str) + \" \" +\n",
        "    artist_df[\"GenreTypeId\"].astype(str) + \" \" +  \n",
        "    artist_df[\"ActTypeId\"].astype(str) \n",
        ")\n",
        "\n",
        "df_presenter[\"combined_features\"] = (\n",
        "    df_presenter[\"AccountName\"].apply(normalize_text) + \" \" +\n",
        "    df_presenter[\"MailingCity\"].apply(normalize_text) + \" \" +\n",
        "    df_presenter[\"MailingStateId\"].astype(str) + \" \" +\n",
        "    df_presenter[\"PresenterTypeId\"].astype(str)\n",
        ")\n",
        "\n",
        "df_venue[\"combined_features\"] = (\n",
        "    df_venue[\"Name\"].apply(normalize_text) + \" \" +\n",
        "    df_venue[\"MailingCity\"].apply(normalize_text) + \" \" +\n",
        "    df_venue[\"MailingStateId\"].astype(str) + \" \" +\n",
        "    df_venue[\"VenueSettingId\"].astype(str)\n",
        ")"
      ],
      "outputs": [],
      "execution_count": 88,
      "metadata": {
        "gather": {
          "logged": 1740890697141
        }
      }
    },
    {
      "cell_type": "code",
      "source": [
        "# Step 1: Ensure Unique Mapping Exists Between Artists and Presenters\n",
        "if \"encoded_id\" not in df_presenter.columns:\n",
        "    le = LabelEncoder()\n",
        "    df_presenter[\"encoded_id\"] = le.fit_transform(df_presenter[\"AccountName\"])  # Encode presenter names\n",
        "\n",
        "# Step 2: Create TF-IDF Features for Artists\n",
        "tfidf_vectorizer = TfidfVectorizer(stop_words=\"english\", max_features=5000)\n",
        "\n",
        "X = tfidf_vectorizer.fit_transform(artist_df[\"combined_features\"])  # Features for Artists\n",
        "\n",
        "# Step 3: Generate `y` Using a Mapping Between Artists & Presenters\n",
        "artist_to_presenter = {}  # Store mappings\n",
        "\n",
        "for index, row in artist_df.iterrows():\n",
        "    matched_presenters = df_presenter[df_presenter[\"MailingCity\"] == row[\"PhysicalAddressCity\"]][\"encoded_id\"].values\n",
        "    if len(matched_presenters) > 0:\n",
        "        artist_to_presenter[index] = matched_presenters[0]  # Assign first match\n",
        "\n",
        "# Convert Mapping to Proper y Labels\n",
        "y = np.array([artist_to_presenter.get(i, -1) for i in range(X.shape[0])])\n",
        "\n",
        "# Remove any -1 values (artists without valid presenters)\n",
        "valid_indices = y != -1\n",
        "X, y = X[valid_indices], y[valid_indices]\n",
        "\n",
        "# Step 4: Train-Test Split\n",
        "X_train, X_test, y_train, y_test = train_test_split(X, y, test_size=0.2, random_state=42)\n",
        "\n",
        "# Step 5: Train Logistic Regression Model\n",
        "model = LogisticRegression(max_iter=500)\n",
        "model.fit(X_train, y_train)\n",
        "\n",
        "# Step 6: Check Accuracy\n",
        "print(f\"Model Accuracy: {model.score(X_test, y_test):.4f}\")\n"
      ],
      "outputs": [
        {
          "output_type": "stream",
          "name": "stdout",
          "text": "Model Accuracy: 0.7373\n"
        }
      ],
      "execution_count": 92,
      "metadata": {
        "gather": {
          "logged": 1740891382619
        }
      }
    },
    {
      "cell_type": "code",
      "source": [
        "def recommend_presenters_df(artist_name, top_n=5):\n",
        "    artist_name = normalize_text(artist_name)  # Normalize input\n",
        "    artist_row = artist_df[artist_df[\"Name\"].apply(normalize_text) == artist_name]\n",
        "\n",
        "    if artist_row.empty:\n",
        "        print(f\"Warning: Artist '{artist_name}' not found in df_artist.\")\n",
        "        return pd.DataFrame(columns=[\"Artist\", \"Presenter Name\", \"Match Score\"])  \n",
        "\n",
        "    artist_vector = tfidf_vectorizer.transform([artist_row[\"combined_features\"].values[0]])\n",
        "    \n",
        "    # Predict Probabilities\n",
        "    match_probs = model.predict_proba(artist_vector)[0]\n",
        "\n",
        "    # Get Top Matches\n",
        "    top_indices = np.argsort(match_probs)[::-1][:top_n]\n",
        "    scores = match_probs[top_indices]\n",
        "\n",
        "    results = pd.DataFrame({\n",
        "        \"Artist\": artist_name,\n",
        "        \"Presenter Name\": le.inverse_transform(top_indices),\n",
        "        \"Match Score\": scores\n",
        "    }).sort_values(by=\"Match Score\", ascending=False)\n",
        "\n",
        "    return results\n",
        "\n"
      ],
      "outputs": [],
      "execution_count": 98,
      "metadata": {
        "gather": {
          "logged": 1740892320102
        }
      }
    },
    {
      "cell_type": "code",
      "source": [
        "def recommend_venues_df(artist_name, top_n=5):\n",
        "    artist_name = normalize_text(artist_name)  # Normalize input\n",
        "    artist_row = artist_df[artist_df[\"Name\"].apply(normalize_text) == artist_name]\n",
        "\n",
        "    if artist_row.empty:\n",
        "        print(f\"Warning: Artist '{artist_name}' not found in df_artist.\")\n",
        "        return pd.DataFrame(columns=[\"Artist\", \"Venue Name\", \"Match Score\"])  \n",
        "\n",
        "    artist_vector = tfidf_vectorizer.transform([artist_row[\"combined_features\"].values[0]])\n",
        "    \n",
        "    # Predict Probabilities\n",
        "    match_probs = model.predict_proba(artist_vector)[0]\n",
        "\n",
        "    # Get Top Matches\n",
        "    top_indices = np.argsort(match_probs)[::-1][:top_n]\n",
        "    scores = match_probs[top_indices]\n",
        "\n",
        "    results = pd.DataFrame({\n",
        "        \"Artist\": artist_name,\n",
        "        \"Venue Name\": df_venue.iloc[top_indices][\"Name\"].values,\n",
        "        \"Match Score\": scores\n",
        "    }).sort_values(by=\"Match Score\", ascending=False)\n",
        "\n",
        "    return results"
      ],
      "outputs": [],
      "execution_count": 99,
      "metadata": {
        "gather": {
          "logged": 1740892346990
        }
      }
    },
    {
      "cell_type": "code",
      "source": [
        "# List of artists to test\n",
        "artists_to_recommend = [\"groove deluxe\",\"2-WD RADIO\"]\n",
        "\n",
        "# Create datasets for presenters & venues\n",
        "presenter_recommendations = pd.concat([recommend_presenters_df(artist) for artist in artists_to_recommend])\n",
        "venue_recommendations = pd.concat([recommend_venues_df(artist) for artist in artists_to_recommend])\n",
        "\n",
        "# Display the top recommendations\n",
        "print(\"\\n **Presenter Recommendations (Top 5)**\")\n",
        "print(presenter_recommendations.head())\n",
        "\n",
        "print(\"\\n **Venue Recommendations (Top 5)**\")\n",
        "print(venue_recommendations.head())\n"
      ],
      "outputs": [
        {
          "output_type": "stream",
          "name": "stdout",
          "text": "Warning: Artist '2-wd radio' not found in df_artist.\nWarning: Artist '2-wd radio' not found in df_artist.\n\n **Presenter Recommendations (Top 5)**\n          Artist                   Presenter Name  Match Score\n0  groove deluxe                       2-WD RADIO     0.299072\n1  groove deluxe  AMERICAN ADVERTISING FEDERATION     0.022785\n2  groove deluxe                    ALDIE MANSION     0.022742\n3  groove deluxe        A SHINDIG SOUTHERN EVENTS     0.011758\n4  groove deluxe             ALYSON TAYLOR EVENTS     0.009165\n\n **Venue Recommendations (Top 5)**\n          Artist                          Venue Name  Match Score\n0  groove deluxe  BILTMORE ESTATE - THE CONSERVATORY     0.299072\n1  groove deluxe                              Stella     0.022785\n2  groove deluxe                      WAVERLY ESTATE     0.022742\n3  groove deluxe                    SAVANNAH STATION     0.011758\n4  groove deluxe                 Knights of Columbus     0.009165\n"
        }
      ],
      "execution_count": 113,
      "metadata": {
        "gather": {
          "logged": 1740892809337
        }
      }
    },
    {
      "cell_type": "code",
      "source": [
        "def evaluate_recommendations(recommended, actual, k=5):\n",
        "    precision_list = []\n",
        "    recall_list = []\n",
        "    mrr_list = []\n",
        "\n",
        "    for artist in actual.keys():\n",
        "        recs = [normalize_text(x) for x in recommended.get(artist, [])[:k]]\n",
        "        actual_set = set(normalize_text(x) for x in actual[artist])  \n",
        "        \n",
        "        print(f\"\\n🔹 Evaluating artist: {artist}\")\n",
        "        print(\"Recommended:\", recs)\n",
        "        print(\"Actual:\", actual_set)\n",
        "\n",
        "        precision = len(set(recs) & actual_set) / k\n",
        "        recall = len(set(recs) & actual_set) / len(actual_set) if actual_set else 0\n",
        "        mrr = next((1 / (i + 1) for i, rec in enumerate(recs) if rec in actual_set), 0)\n",
        "\n",
        "        precision_list.append(precision)\n",
        "        recall_list.append(recall)\n",
        "        mrr_list.append(mrr)\n",
        "\n",
        "    metrics = {\n",
        "        \"Precision@k\": np.mean(precision_list),\n",
        "        \"Recall@k\": np.mean(recall_list),\n",
        "        \"MRR\": np.mean(mrr_list)\n",
        "    }\n",
        "    \n",
        "    return metrics\n"
      ],
      "outputs": [],
      "execution_count": 104,
      "metadata": {
        "gather": {
          "logged": 1740892505846
        }
      }
    },
    {
      "cell_type": "code",
      "source": [
        "# Example Ground Truth Data\n",
        "ground_truth_presenters = {\n",
        "    \"groove deluxe\": [\"college of william and mary\", \"wake supply co\"],\n",
        "    \"88 keys wilson\": [\"hilton atlanta\", \"marriott marquis atlanta\"],\n",
        "}\n",
        "\n",
        "# Get Recommendations\n",
        "recommended_presenters = {\n",
        "    artist: recommend_presenters_df(artist)[\"Presenter Name\"].tolist() \n",
        "    for artist in ground_truth_presenters.keys()\n",
        "}"
      ],
      "outputs": [],
      "execution_count": 105,
      "metadata": {
        "gather": {
          "logged": 1740892509286
        }
      }
    },
    {
      "cell_type": "code",
      "source": [
        "# Run Evaluation\n",
        "metrics = evaluate_recommendations(recommended_presenters, ground_truth_presenters, k=5)\n",
        "\n",
        "# Display Results\n",
        "metrics_df = pd.DataFrame(metrics.items(), columns=[\"Metric\", \"Value\"])\n",
        "display(metrics_df)"
      ],
      "outputs": [
        {
          "output_type": "stream",
          "name": "stdout",
          "text": "\n🔹 Evaluating artist: groove deluxe\nRecommended: ['2-wd radio', 'american advertising federation', 'aldie mansion', 'a shindig southern events', 'alyson taylor events']\nActual: {'wake supply co', 'college of william and mary'}\n\n🔹 Evaluating artist: 88 keys wilson\nRecommended: ['allen transport', 'alfred state college', '2000 west', 'absolute entertainment', \"abe & jake's landing\"]\nActual: {'hilton atlanta', 'marriott marquis atlanta'}\n"
        },
        {
          "output_type": "display_data",
          "data": {
            "text/plain": "        Metric  Value\n0  Precision@k    0.0\n1     Recall@k    0.0\n2          MRR    0.0",
            "text/html": "<div>\n<style scoped>\n    .dataframe tbody tr th:only-of-type {\n        vertical-align: middle;\n    }\n\n    .dataframe tbody tr th {\n        vertical-align: top;\n    }\n\n    .dataframe thead th {\n        text-align: right;\n    }\n</style>\n<table border=\"1\" class=\"dataframe\">\n  <thead>\n    <tr style=\"text-align: right;\">\n      <th></th>\n      <th>Metric</th>\n      <th>Value</th>\n    </tr>\n  </thead>\n  <tbody>\n    <tr>\n      <th>0</th>\n      <td>Precision@k</td>\n      <td>0.0</td>\n    </tr>\n    <tr>\n      <th>1</th>\n      <td>Recall@k</td>\n      <td>0.0</td>\n    </tr>\n    <tr>\n      <th>2</th>\n      <td>MRR</td>\n      <td>0.0</td>\n    </tr>\n  </tbody>\n</table>\n</div>"
          },
          "metadata": {}
        }
      ],
      "execution_count": 110,
      "metadata": {
        "gather": {
          "logged": 1740892748995
        }
      }
    },
    {
      "cell_type": "code",
      "source": [
        "# Evaluate Logistic Regression Model Accuracy\n",
        "accuracy = model.score(X_test, y_test)\n",
        "print(f\"\\n **Model Accuracy: {accuracy:.4f}**\")\n"
      ],
      "outputs": [
        {
          "output_type": "stream",
          "name": "stdout",
          "text": "\n **Model Accuracy: 0.7373**\n"
        }
      ],
      "execution_count": 111,
      "metadata": {
        "gather": {
          "logged": 1740892751518
        }
      }
    },
    {
      "cell_type": "code",
      "source": [],
      "outputs": [],
      "execution_count": null,
      "metadata": {}
    },
    {
      "cell_type": "markdown",
      "source": [
        "## Fine-tuned code"
      ],
      "metadata": {
        "nteract": {
          "transient": {
            "deleting": false
          }
        }
      }
    },
    {
      "cell_type": "code",
      "source": [
        "import pandas as pd\n",
        "import numpy as np\n",
        "from sklearn.feature_extraction.text import TfidfVectorizer\n",
        "from sklearn.linear_model import LogisticRegression\n",
        "from sklearn.preprocessing import LabelEncoder\n",
        "from sklearn.model_selection import train_test_split"
      ],
      "outputs": [],
      "execution_count": 114,
      "metadata": {
        "gather": {
          "logged": 1740893133816
        }
      }
    },
    {
      "cell_type": "code",
      "source": [
        "# Fill NaN values with empty strings\n",
        "artist_df.fillna(\"\", inplace=True)\n",
        "df_presenter.fillna(\"\", inplace=True)\n",
        "df_venue.fillna(\"\", inplace=True)\n",
        "\n",
        "# Function to Normalize Text (lowercase + strip whitespace)\n",
        "def normalize_text(text):\n",
        "    return str(text).strip().lower()\n",
        "\n",
        "# Ensure necessary columns exist\n",
        "for col in [\"GenreTypeId\", \"ActTypeId\", \"MailingCountryId\"]:\n",
        "    if col not in artist_df.columns:\n",
        "        artist_df[col] = \"Unknown\"\n",
        "\n",
        "for col in [\"PhysicalGeoLatitude\", \"PhysicalGeoLongitude\"]:\n",
        "    if col not in df_presenter.columns:\n",
        "        df_presenter[col] = \"0.0\""
      ],
      "outputs": [],
      "execution_count": 115,
      "metadata": {
        "gather": {
          "logged": 1740893154138
        }
      }
    },
    {
      "cell_type": "code",
      "source": [
        "# Feature Engineering: Add More Context to Text-Based Features\n",
        "artist_df[\"combined_features\"] = (\n",
        "    artist_df[\"Name\"].apply(normalize_text) + \" \" +\n",
        "    artist_df[\"PhysicalAddressCity\"].apply(normalize_text) + \" \" +\n",
        "    artist_df[\"PhysicalAddressStateId\"].astype(str) + \" \" +\n",
        "    artist_df[\"MailingCountryId\"].astype(str) + \" \" +\n",
        "    artist_df[\"GenreTypeId\"].astype(str) + \" \" +  \n",
        "    artist_df[\"ActTypeId\"].astype(str) + \" \" +\n",
        "    artist_df[\"IsActive\"].astype(str)  # Include binary indicator for active artists\n",
        ")\n",
        "\n",
        "df_presenter[\"combined_features\"] = (\n",
        "    df_presenter[\"AccountName\"].apply(normalize_text) + \" \" +\n",
        "    df_presenter[\"MailingCity\"].apply(normalize_text) + \" \" +\n",
        "    df_presenter[\"MailingStateId\"].astype(str) + \" \" +\n",
        "    df_presenter[\"PresenterTypeId\"].astype(str) + \" \" +  \n",
        "    df_presenter[\"PhysicalGeoLatitude\"].astype(str) + \" \" +  \n",
        "    df_presenter[\"PhysicalGeoLongitude\"].astype(str)  # Adding geographical location\n",
        ")\n",
        "\n",
        "df_venue[\"combined_features\"] = (\n",
        "    df_venue[\"Name\"].apply(normalize_text) + \" \" +\n",
        "    df_venue[\"MailingCity\"].apply(normalize_text) + \" \" +\n",
        "    df_venue[\"MailingStateId\"].astype(str) + \" \" +\n",
        "    df_venue[\"VenueSettingId\"].astype(str) + \" \" +\n",
        "    df_venue[\"IsSettingCovered\"].astype(str)  # Adding venue characteristics\n",
        ")"
      ],
      "outputs": [],
      "execution_count": 116,
      "metadata": {
        "gather": {
          "logged": 1740893168842
        }
      }
    },
    {
      "cell_type": "code",
      "source": [
        "# Step 1: Encode Presenter Labels\n",
        "if \"encoded_id\" not in df_presenter.columns:\n",
        "    le = LabelEncoder()\n",
        "    df_presenter[\"encoded_id\"] = le.fit_transform(df_presenter[\"AccountName\"])  # Encode presenter names\n"
      ],
      "outputs": [],
      "execution_count": 117,
      "metadata": {
        "gather": {
          "logged": 1740893184601
        }
      }
    },
    {
      "cell_type": "code",
      "source": [
        "# Step 2: TF-IDF Vectorizer with Enhanced Features\n",
        "tfidf_vectorizer = TfidfVectorizer(\n",
        "    stop_words=\"english\", \n",
        "    max_features=7000,  # Increased feature count\n",
        "    ngram_range=(1,2),  # Uses Bi-grams for better context\n",
        "    min_df=2  # Ignore words that appear only once\n",
        ")\n",
        "\n",
        "X = tfidf_vectorizer.fit_transform(artist_df[\"combined_features\"])  # Features for Artists\n"
      ],
      "outputs": [],
      "execution_count": 118,
      "metadata": {
        "gather": {
          "logged": 1740893194940
        }
      }
    },
    {
      "cell_type": "code",
      "source": [
        "# Step 3: Generate `y` Using a More Robust Mapping\n",
        "artist_to_presenter = {}\n",
        "\n",
        "for index, row in artist_df.iterrows():\n",
        "    # Try City-Based Matching\n",
        "    matched_presenters = df_presenter[df_presenter[\"MailingCity\"] == row[\"PhysicalAddressCity\"]][\"encoded_id\"].values\n",
        "    \n",
        "    # If No Exact City Match, Try State-Based Matching\n",
        "    if len(matched_presenters) == 0:\n",
        "        matched_presenters = df_presenter[df_presenter[\"MailingStateId\"] == row[\"PhysicalAddressStateId\"]][\"encoded_id\"].values\n",
        "    \n",
        "    # If No State Match, Try Country-Based Matching\n",
        "    if len(matched_presenters) == 0:\n",
        "        matched_presenters = df_presenter[df_presenter[\"MailingCountryId\"] == row[\"MailingCountryId\"]][\"encoded_id\"].values\n",
        "    \n",
        "    if len(matched_presenters) > 0:\n",
        "        artist_to_presenter[index] = matched_presenters[0]  # Assign best match\n",
        "\n",
        "# Convert Mapping to `y` Labels\n",
        "y = np.array([artist_to_presenter.get(i, -1) for i in range(X.shape[0])])\n",
        "\n",
        "# Remove `-1` (artists without matches)\n",
        "valid_indices = y != -1\n",
        "X, y = X[valid_indices], y[valid_indices]"
      ],
      "outputs": [],
      "execution_count": 119,
      "metadata": {
        "gather": {
          "logged": 1740893505236
        }
      }
    },
    {
      "cell_type": "code",
      "source": [
        "# Step 4: Train-Test Split\n",
        "X_train, X_test, y_train, y_test = train_test_split(X, y, test_size=0.2, random_state=42)\n"
      ],
      "outputs": [],
      "execution_count": 120,
      "metadata": {
        "gather": {
          "logged": 1740893506242
        }
      }
    },
    {
      "cell_type": "code",
      "source": [
        "# Step 5: Train Logistic Regression Model\n",
        "model = LogisticRegression(max_iter=500)\n",
        "model.fit(X_train, y_train)\n",
        "\n",
        "# Step 6: Check Accuracy\n",
        "print(f\"\\n🔹 **Model Accuracy: {model.score(X_test, y_test):.4f}**\")"
      ],
      "outputs": [
        {
          "output_type": "stream",
          "name": "stdout",
          "text": "\n🔹 **Model Accuracy: 0.7592**\n"
        }
      ],
      "execution_count": 121,
      "metadata": {
        "gather": {
          "logged": 1740893766720
        }
      }
    },
    {
      "cell_type": "code",
      "source": [
        "def recommend_presenters_df(artist_name, top_n=5):\n",
        "    artist_name = normalize_text(artist_name)  # Normalize input\n",
        "    artist_row = artist_df[artist_df[\"Name\"].apply(normalize_text) == artist_name]\n",
        "\n",
        "    if artist_row.empty:\n",
        "        print(f\"⚠️ Warning: Artist '{artist_name}' not found in df_artist.\")\n",
        "        return pd.DataFrame(columns=[\"Artist\", \"Presenter Name\", \"Match Score\"])  \n",
        "\n",
        "    artist_vector = tfidf_vectorizer.transform([artist_row[\"combined_features\"].values[0]])\n",
        "    \n",
        "    # Predict Probabilities\n",
        "    match_probs = model.predict_proba(artist_vector)[0]\n",
        "\n",
        "    # Get Top Matches\n",
        "    top_indices = np.argsort(match_probs)[::-1][:top_n]\n",
        "    scores = match_probs[top_indices]\n",
        "\n",
        "    results = pd.DataFrame({\n",
        "        \"Artist\": artist_name,\n",
        "        \"Presenter Name\": le.inverse_transform(top_indices),\n",
        "        \"Match Score\": scores\n",
        "    }).sort_values(by=\"Match Score\", ascending=False)\n",
        "\n",
        "    return results\n"
      ],
      "outputs": [],
      "execution_count": 122,
      "metadata": {
        "gather": {
          "logged": 1740893768311
        }
      }
    },
    {
      "cell_type": "code",
      "source": [
        "def evaluate_recommendations(recommended, actual, k=5):\n",
        "    precision_list = []\n",
        "    recall_list = []\n",
        "    mrr_list = []\n",
        "\n",
        "    for artist in actual.keys():\n",
        "        recs = [normalize_text(x) for x in recommended.get(artist, [])[:k]]\n",
        "        actual_set = set(normalize_text(x) for x in actual[artist])  \n",
        "\n",
        "        precision = len(set(recs) & actual_set) / k\n",
        "        recall = len(set(recs) & actual_set) / len(actual_set) if actual_set else 0\n",
        "        mrr = next((1 / (i + 1) for i, rec in enumerate(recs) if rec in actual_set), 0)\n",
        "\n",
        "        precision_list.append(precision)\n",
        "        recall_list.append(recall)\n",
        "        mrr_list.append(mrr)\n",
        "\n",
        "    metrics = {\n",
        "        \"Precision@k\": np.mean(precision_list),\n",
        "        \"Recall@k\": np.mean(recall_list),\n",
        "        \"MRR\": np.mean(mrr_list),\n",
        "    }\n",
        "    \n",
        "    return metrics\n"
      ],
      "outputs": [],
      "execution_count": 123,
      "metadata": {
        "gather": {
          "logged": 1740893768823
        }
      }
    },
    {
      "cell_type": "code",
      "source": [
        "# Example Ground Truth Data\n",
        "ground_truth_presenters = {\n",
        "    \"groove deluxe\": [\"college of william and mary\", \"wake supply co\"],\n",
        "    \"88 keys wilson\": [\"hilton atlanta\", \"marriott marquis atlanta\"],\n",
        "}\n",
        "\n",
        "# Get Recommendations for Evaluation\n",
        "recommended_presenters_dict = {\n",
        "    artist: recommend_presenters_df(artist)[\"Presenter Name\"].tolist() \n",
        "    for artist in ground_truth_presenters.keys()\n",
        "}\n",
        "\n",
        "# Run Evaluation\n",
        "metrics = evaluate_recommendations(recommended_presenters_dict, ground_truth_presenters, k=5)\n",
        "\n",
        "# Display Results\n",
        "metrics_df = pd.DataFrame(metrics.items(), columns=[\"Metric\", \"Value\"])\n",
        "print(\"\\n🔹 **Evaluation Metrics**\")\n",
        "print(metrics_df)\n"
      ],
      "outputs": [
        {
          "output_type": "stream",
          "name": "stdout",
          "text": "\n🔹 **Evaluation Metrics**\n        Metric  Value\n0  Precision@k    0.0\n1     Recall@k    0.0\n2          MRR    0.0\n"
        }
      ],
      "execution_count": 124,
      "metadata": {
        "gather": {
          "logged": 1740893770330
        }
      }
    },
    {
      "cell_type": "code",
      "source": [],
      "outputs": [],
      "execution_count": null,
      "metadata": {}
    }
  ],
  "metadata": {
    "kernelspec": {
      "name": "python38-azureml",
      "language": "python",
      "display_name": "Python 3.8 - AzureML"
    },
    "language_info": {
      "name": "python",
      "version": "3.10.11",
      "mimetype": "text/x-python",
      "codemirror_mode": {
        "name": "ipython",
        "version": 3
      },
      "pygments_lexer": "ipython3",
      "nbconvert_exporter": "python",
      "file_extension": ".py"
    },
    "microsoft": {
      "ms_spell_check": {
        "ms_spell_check_language": "en"
      },
      "host": {
        "AzureML": {
          "notebookHasBeenCompleted": true
        }
      }
    },
    "kernel_info": {
      "name": "python38-azureml"
    },
    "nteract": {
      "version": "nteract-front-end@1.0.0"
    }
  },
  "nbformat": 4,
  "nbformat_minor": 2
}