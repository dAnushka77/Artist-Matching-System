{
  "cells": [
    {
      "cell_type": "markdown",
      "source": [
        "# Model Implementation"
      ],
      "metadata": {
        "nteract": {
          "transient": {
            "deleting": false
          }
        }
      }
    },
    {
      "cell_type": "code",
      "source": [
        "!pip install pyodbc"
      ],
      "outputs": [
        {
          "output_type": "stream",
          "name": "stdout",
          "text": "Requirement already satisfied: pyodbc in /anaconda/envs/azureml_py38/lib/python3.10/site-packages (5.1.0)\r\n"
        }
      ],
      "execution_count": 24,
      "metadata": {}
    },
    {
      "cell_type": "markdown",
      "source": [
        "## Data Loading"
      ],
      "metadata": {
        "nteract": {
          "transient": {
            "deleting": false
          }
        }
      }
    },
    {
      "cell_type": "code",
      "source": [
        "import pyodbc\n",
        "import pandas as pd\n",
        "\n",
        "# Database credentials\n",
        "server = 'techentjan.database.windows.net'\n",
        "database = 'QAECECRM_jan'\n",
        "username = 'azureml_user'\n",
        "password = 'ElevateLivePro12!'\n",
        "\n",
        "# Connection string\n",
        "connection_string = f\"DRIVER={{ODBC Driver 17 for SQL Server}};SERVER={server};DATABASE={database};UID={username};PWD={password}\"\n",
        "\n",
        "# Establish connection\n",
        "conn = pyodbc.connect(connection_string)\n",
        "\n",
        "# Fetch pre-merged data\n",
        "query = \"SELECT * FROM dbo.Presenter_Artist_Interactions;\"\n",
        "\n",
        "# Load data into Pandas DataFrame\n",
        "df = pd.read_sql(query, conn)\n",
        "\n",
        "# Close connection\n",
        "conn.close()"
      ],
      "outputs": [],
      "execution_count": 25,
      "metadata": {
        "gather": {
          "logged": 1740100605279
        },
        "editable": true,
        "run_control": {
          "frozen": false
        },
        "jupyter": {
          "outputs_hidden": false
        }
      }
    },
    {
      "cell_type": "code",
      "source": [
        "df.head()"
      ],
      "outputs": [
        {
          "output_type": "execute_result",
          "execution_count": 26,
          "data": {
            "text/plain": "   PresenterId  ArtistId  FeedbackScore  Implicit_Score\n0            0       296            5.0               0\n1            0       687            5.0               0\n2            0      6542            4.0               0\n3            0      7426            5.0               0\n4            0     13166            5.0               0",
            "text/html": "<div>\n<style scoped>\n    .dataframe tbody tr th:only-of-type {\n        vertical-align: middle;\n    }\n\n    .dataframe tbody tr th {\n        vertical-align: top;\n    }\n\n    .dataframe thead th {\n        text-align: right;\n    }\n</style>\n<table border=\"1\" class=\"dataframe\">\n  <thead>\n    <tr style=\"text-align: right;\">\n      <th></th>\n      <th>PresenterId</th>\n      <th>ArtistId</th>\n      <th>FeedbackScore</th>\n      <th>Implicit_Score</th>\n    </tr>\n  </thead>\n  <tbody>\n    <tr>\n      <th>0</th>\n      <td>0</td>\n      <td>296</td>\n      <td>5.0</td>\n      <td>0</td>\n    </tr>\n    <tr>\n      <th>1</th>\n      <td>0</td>\n      <td>687</td>\n      <td>5.0</td>\n      <td>0</td>\n    </tr>\n    <tr>\n      <th>2</th>\n      <td>0</td>\n      <td>6542</td>\n      <td>4.0</td>\n      <td>0</td>\n    </tr>\n    <tr>\n      <th>3</th>\n      <td>0</td>\n      <td>7426</td>\n      <td>5.0</td>\n      <td>0</td>\n    </tr>\n    <tr>\n      <th>4</th>\n      <td>0</td>\n      <td>13166</td>\n      <td>5.0</td>\n      <td>0</td>\n    </tr>\n  </tbody>\n</table>\n</div>"
          },
          "metadata": {}
        }
      ],
      "execution_count": 26,
      "metadata": {
        "gather": {
          "logged": 1740100605331
        }
      }
    },
    {
      "cell_type": "code",
      "source": [
        "# Display dataframe info\n",
        "print(df.info())\n",
        "print(df.head())"
      ],
      "outputs": [
        {
          "output_type": "stream",
          "name": "stdout",
          "text": "<class 'pandas.core.frame.DataFrame'>\nRangeIndex: 277961 entries, 0 to 277960\nData columns (total 4 columns):\n #   Column          Non-Null Count   Dtype  \n---  ------          --------------   -----  \n 0   PresenterId     277961 non-null  int64  \n 1   ArtistId        277961 non-null  int64  \n 2   FeedbackScore   277961 non-null  float64\n 3   Implicit_Score  277961 non-null  int64  \ndtypes: float64(1), int64(3)\nmemory usage: 8.5 MB\nNone\n   PresenterId  ArtistId  FeedbackScore  Implicit_Score\n0            0       296            5.0               0\n1            0       687            5.0               0\n2            0      6542            4.0               0\n3            0      7426            5.0               0\n4            0     13166            5.0               0\n"
        }
      ],
      "execution_count": 27,
      "metadata": {
        "gather": {
          "logged": 1740100605377
        }
      }
    },
    {
      "cell_type": "markdown",
      "source": [
        "No missing values were found"
      ],
      "metadata": {
        "nteract": {
          "transient": {
            "deleting": false
          }
        }
      }
    },
    {
      "cell_type": "markdown",
      "source": [
        "## Data Preprocessing"
      ],
      "metadata": {
        "nteract": {
          "transient": {
            "deleting": false
          }
        }
      }
    },
    {
      "cell_type": "code",
      "source": [
        "import pandas as pd\n",
        "\n",
        "# Check for duplicate records\n",
        "duplicate_count = df.duplicated(subset=['PresenterId', 'ArtistId']).sum()\n",
        "print(f\"Number of duplicate (PresenterId, ArtistId) pairs: {duplicate_count}\")\n",
        "\n",
        "# Check for invalid IDs (e.g., PresenterId = 0)\n",
        "invalid_presenter_count = (df[\"PresenterId\"] == 0).sum()\n",
        "print(f\"Number of records with PresenterId = 0: {invalid_presenter_count}\")\n",
        "\n",
        "# Describe numerical columns\n",
        "print(df.describe())\n",
        "\n",
        "# Check unique values for Implicit_Score\n",
        "print(\"Unique values in Implicit_Score:\", df[\"Implicit_Score\"].unique())\n",
        "\n",
        "# Ensure FeedbackScore is within expected range\n",
        "print(\"FeedbackScore range:\", df[\"FeedbackScore\"].min(), \"to\", df[\"FeedbackScore\"].max())"
      ],
      "outputs": [
        {
          "output_type": "stream",
          "name": "stdout",
          "text": "Number of duplicate (PresenterId, ArtistId) pairs: 0\nNumber of records with PresenterId = 0: 33\n        PresenterId       ArtistId  FeedbackScore  Implicit_Score\ncount  2.779610e+05  277961.000000  277961.000000   277961.000000\nmean   7.003728e+06   21848.128482       0.826339        0.829998\nstd    3.829318e+06   26440.339041       1.850712        0.375635\nmin    0.000000e+00       2.000000       0.000000        0.000000\n25%    5.275100e+06    4223.000000       0.000000        1.000000\n50%    8.610393e+06   16632.000000       0.000000        1.000000\n75%    1.000908e+07   30362.000000       0.000000        1.000000\nmax    1.002129e+07  104194.000000       5.000000        1.000000\nUnique values in Implicit_Score: [0 1]\nFeedbackScore range: 0.0 to 5.0\n"
        }
      ],
      "execution_count": 28,
      "metadata": {
        "gather": {
          "logged": 1740100605425
        }
      }
    },
    {
      "cell_type": "markdown",
      "source": [
        "- No duplicate\n",
        "- 33 records have PresenterId = 0. We may need to filter them out.\n",
        "- FeedbackScore is heavily skewed towards 0\n",
        "    - Mean 0.82, Std Dev 1.85, Max 5.0.\n",
        "    - Many zero values (potential missing explicit feedback).\n",
        "- Implicit_Score values are fine.\n"
      ],
      "metadata": {
        "nteract": {
          "transient": {
            "deleting": false
          }
        }
      }
    },
    {
      "cell_type": "code",
      "source": [
        "from sklearn.preprocessing import MinMaxScaler\n",
        "\n",
        "# Remove invalid PresenterId \n",
        "df = df[df[\"PresenterId\"] != 0]\n",
        "print(f\"Remaining records after removing PresenterId=0: {len(df)}\")\n",
        "\n",
        "# Normalize FeedbackScore\n",
        "scaler = MinMaxScaler(feature_range=(0, 1))  # Scale to range [0,1]\n",
        "df[\"FeedbackScore_Norm\"] = scaler.fit_transform(df[[\"FeedbackScore\"]])\n",
        "print(\"FeedbackScore successfully normalized.\")\n",
        "\n",
        "# Show dataset summary\n",
        "print(df.describe())\n",
        "\n",
        "# Display first few rows\n",
        "print(df.head())\n"
      ],
      "outputs": [
        {
          "output_type": "stream",
          "name": "stdout",
          "text": "Remaining records after removing PresenterId=0: 277928\nFeedbackScore successfully normalized.\n        PresenterId       ArtistId  FeedbackScore  Implicit_Score  \\\ncount  2.779280e+05  277928.000000  277928.000000   277928.000000   \nmean   7.004560e+06   21846.638133       0.825872        0.830096   \nstd    3.828785e+06   26438.716623       1.850306        0.375549   \nmin    1.000000e+00       2.000000       0.000000        0.000000   \n25%    5.275250e+06    4223.000000       0.000000        1.000000   \n50%    8.610401e+06   16632.000000       0.000000        1.000000   \n75%    1.000908e+07   30362.000000       0.000000        1.000000   \nmax    1.002129e+07  104194.000000       5.000000        1.000000   \n\n       FeedbackScore_Norm  \ncount       277928.000000  \nmean             0.165174  \nstd              0.370061  \nmin              0.000000  \n25%              0.000000  \n50%              0.000000  \n75%              0.000000  \nmax              1.000000  \n    PresenterId  ArtistId  FeedbackScore  Implicit_Score  FeedbackScore_Norm\n33            1      3061            5.0               0                 1.0\n34            2       918            5.0               0                 1.0\n35            3       154            5.0               0                 1.0\n36            4        55            5.0               0                 1.0\n37            5        32            5.0               0                 1.0\n"
        }
      ],
      "execution_count": 29,
      "metadata": {
        "gather": {
          "logged": 1740100605471
        }
      }
    },
    {
      "cell_type": "markdown",
      "source": [
        "## User-Item Interaction Matrix for SVD"
      ],
      "metadata": {
        "nteract": {
          "transient": {
            "deleting": false
          }
        }
      }
    },
    {
      "cell_type": "code",
      "source": [
        "import numpy as np\n",
        "from scipy.sparse import coo_matrix\n",
        "\n",
        "# Define unique presenter and artist mappings\n",
        "presenter_ids = df[\"PresenterId\"].unique()\n",
        "artist_ids = df[\"ArtistId\"].unique()\n",
        "\n",
        "# Create mappings for index positions\n",
        "presenter_to_index = {pid: idx for idx, pid in enumerate(presenter_ids)}\n",
        "artist_to_index = {aid: idx for idx, aid in enumerate(artist_ids)}\n",
        "\n",
        "# Map presenter and artist IDs to matrix indices\n",
        "row_indices = df[\"PresenterId\"].map(presenter_to_index)\n",
        "col_indices = df[\"ArtistId\"].map(artist_to_index)\n",
        "\n",
        "# Use FeedbackScore_Norm; if missing, use Implicit_Score\n",
        "ratings = df[\"FeedbackScore_Norm\"].fillna(df[\"Implicit_Score\"]).values\n",
        "\n",
        "# Construct sparse matrix\n",
        "interaction_sparse = coo_matrix((ratings, (row_indices, col_indices)), \n",
        "                                shape=(len(presenter_ids), len(artist_ids)))\n",
        "\n",
        "# Display matrix shape\n",
        "print(f\"Sparse User-Item Matrix Shape: {interaction_sparse.shape}\")"
      ],
      "outputs": [
        {
          "output_type": "stream",
          "name": "stdout",
          "text": "Sparse User-Item Matrix Shape: (74006, 8365)\n"
        }
      ],
      "execution_count": 30,
      "metadata": {
        "gather": {
          "logged": 1740100605523
        }
      }
    },
    {
      "cell_type": "markdown",
      "source": [
        "## Train the SVD Collaborative Filtering Model"
      ],
      "metadata": {
        "nteract": {
          "transient": {
            "deleting": false
          }
        }
      }
    },
    {
      "cell_type": "code",
      "source": [
        "from sklearn.decomposition import TruncatedSVD\n",
        "\n",
        "# Define the number of latent features\n",
        "n_components = 800  # You can tune this value\n",
        "\n",
        "# Convert the sparse matrix to CSR format for efficiency\n",
        "interaction_sparse_csr = interaction_sparse.tocsr()\n",
        "\n",
        "# Train SVD model\n",
        "svd = TruncatedSVD(n_components=n_components, random_state=42)\n",
        "latent_matrix = svd.fit_transform(interaction_sparse_csr)\n",
        "\n",
        "# Display explained variance (helps to choose `n_components`)\n",
        "print(f\"Explained variance ratio: {svd.explained_variance_ratio_.sum():.4f}\")"
      ],
      "outputs": [
        {
          "output_type": "stream",
          "name": "stdout",
          "text": "Explained variance ratio: 0.8360\n"
        }
      ],
      "execution_count": 31,
      "metadata": {
        "gather": {
          "logged": 1740100635550
        }
      }
    },
    {
      "cell_type": "code",
      "source": [
        "# Reconstruct the User-Item Interaction Matrix using SVD components\n",
        "reconstructed_matrix = np.dot(latent_matrix, svd.components_)\n",
        "\n",
        "# Convert back to original user-item index mapping\n",
        "predicted_df = pd.DataFrame(reconstructed_matrix, index=presenter_ids, columns=artist_ids)\n",
        "\n",
        "# Function to get top N artist recommendations for a given presenter\n",
        "def get_top_recommendations(presenter_id, top_n=10):\n",
        "    if presenter_id not in predicted_df.index:\n",
        "        return f\"Presenter {presenter_id} not found in dataset.\"\n",
        "\n",
        "    # Get predictions for this presenter\n",
        "    predictions = predicted_df.loc[presenter_id]\n",
        "\n",
        "    # Sort artists by predicted score in descending order\n",
        "    top_artists = predictions.sort_values(ascending=False).head(top_n)\n",
        "\n",
        "    return top_artists\n",
        "\n",
        "# Get top 10 recommended artists for a sample PresenterId \n",
        "sample_presenter = presenter_ids[0]  # Take the first presenter\n",
        "recommendations = get_top_recommendations(sample_presenter, top_n=10)\n",
        "\n",
        "# Display recommendations\n",
        "print(f\"Top 10 Artist Recommendations for Presenter {sample_presenter}:\")\n",
        "print(recommendations)"
      ],
      "outputs": [
        {
          "output_type": "stream",
          "name": "stdout",
          "text": "Top 10 Artist Recommendations for Presenter 1:\n3247      4.296810e-07\n19143     4.087347e-07\n31682     3.977467e-07\n10510     3.848672e-07\n3758      3.603463e-07\n4828      3.386555e-07\n6628      3.373267e-07\n7431      3.016719e-07\n101169    2.920683e-07\n191       2.920572e-07\nName: 1, dtype: float64\n"
        }
      ],
      "execution_count": 32,
      "metadata": {
        "gather": {
          "logged": 1740100669619
        }
      }
    },
    {
      "cell_type": "markdown",
      "source": [
        "Recommendation scores are extremely low (e-07 range)."
      ],
      "metadata": {
        "nteract": {
          "transient": {
            "deleting": false
          }
        }
      }
    }
  ],
  "metadata": {
    "kernelspec": {
      "name": "python310-sdkv2",
      "language": "python",
      "display_name": "Python 3.10 - SDK v2"
    },
    "language_info": {
      "name": "python",
      "version": "3.10.14",
      "mimetype": "text/x-python",
      "codemirror_mode": {
        "name": "ipython",
        "version": 3
      },
      "pygments_lexer": "ipython3",
      "nbconvert_exporter": "python",
      "file_extension": ".py"
    },
    "microsoft": {
      "ms_spell_check": {
        "ms_spell_check_language": "en"
      },
      "host": {
        "AzureML": {
          "notebookHasBeenCompleted": true
        }
      }
    },
    "kernel_info": {
      "name": "python310-sdkv2"
    },
    "nteract": {
      "version": "nteract-front-end@1.0.0"
    }
  },
  "nbformat": 4,
  "nbformat_minor": 2
}